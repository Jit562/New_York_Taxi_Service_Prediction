{
  "cells": [
    {
      "cell_type": "markdown",
      "metadata": {
        "id": "view-in-github",
        "colab_type": "text"
      },
      "source": [
        "<a href=\"https://colab.research.google.com/github/Jit562/New_York_Taxi_Service_Prediction/blob/main/ML_Techmind_Regression_Project_.ipynb\" target=\"_parent\"><img src=\"https://colab.research.google.com/assets/colab-badge.svg\" alt=\"Open In Colab\"/></a>"
      ]
    },
    {
      "cell_type": "markdown",
      "metadata": {
        "id": "vncDsAP0Gaoa"
      },
      "source": [
        "# **Project Name**    - New York City Taxi Service Trip Duration Prediction\n",
        "\n"
      ]
    },
    {
      "cell_type": "markdown",
      "metadata": {
        "id": "beRrZCGUAJYm"
      },
      "source": [
        "##### **Project Type**    - Regression/Supervised Learning\n",
        "##### **Contribution**    - Individual\n",
        "##### **Team Member 1 -**\n"
      ]
    },
    {
      "cell_type": "markdown",
      "metadata": {
        "id": "FJNUwmbgGyua"
      },
      "source": [
        "# **Project Summary -**"
      ]
    },
    {
      "cell_type": "markdown",
      "metadata": {
        "id": "F6v_1wHtG2nS"
      },
      "source": [
        "The New York City (NYC) taxi system is a complex and dynamic network that plays a crucial role in the city's transportation infrastructure. The NYC Taxi dataset, which is publicly available, offers a wealth of information about the taxi services that operate within the city.\n",
        "\n",
        "The NYC Taxi dataset is a publicly available collection of data that contains detailed information about taxi rides in New York City. It is maintained by the New York City Taxi and Limousine Commission (TLC) and includes trip records for both yellow and green taxis, as well as for-hire vehicles like Uber and Lyft.\n",
        "\n",
        "NYC’s taxi services are categorized into several distinct types, each catering to different passenger needs and operating in different parts of the city. The most well-known are the Yellow Taxis, which have been a symbol of New York City for decades. These taxis primarily serve the Manhattan area but can pick up passengers anywhere within the five boroughs. Yellow taxis are typically used for street-hail services, where passengers flag down a taxi from the street\n",
        "\n",
        "In contrast, Green Taxis, also known as Boro Taxis, were introduced in 2013 to serve areas that are less frequented by Yellow Taxis, such as the outer boroughs (Bronx, Brooklyn, Queens, and Staten Island) and upper Manhattan (north of East 96th Street and West 110th Street). Green Taxis can pick up passengers through both street-hail and pre-arranged dispatches, providing a vital transportation option in areas underserved by Yellow Taxis.\n",
        "\n",
        "Another major category is For-Hire Vehicles (FHV), which includes services like black cars, liveries, and high-volume for-hire services (HVFHS). Unlike Yellow and Green Taxis, FHVs do not typically accept street-hails; instead, they operate on a pre-arranged basis. Black Cars are often associated with luxury services, frequently used by corporate clients, while Liveries provide a more economical alternative, especially popular in the outer boroughs. The rise of ride-sharing apps such as Uber and Lyft has significantly impacted the FHV category, leading to the creation of the HVFHS category. These app-based services have grown rapidly, offering an on-demand transportation option that combines the convenience of taxis with the flexibility and affordability of FHVs.\n",
        "\n",
        "Commuter Vans represent another segment of NYC’s transportation network. These vans operate on fixed routes, mainly serving communities that are not well-connected by the city’s public transportation system. They offer a shared ride service that is often more affordable than taxis, providing essential mobility options for residents in underserved areas.\n",
        "\n",
        "Finally, Paratransit Services are designed to cater to individuals with disabilities who are unable to use standard public transportation. These services provide door-to-door transportation, ensuring that all residents have access to the city’s amenities and services. The data on paratransit services is more limited due to privacy concerns, but it remains a crucial component of the overall transportation system.\n",
        "\n",
        "## **NYC Taxi Dataset**\n",
        "The NYC Taxi dataset contains detailed trip records, offering a comprehensive view of taxi operations across the city. The dataset includes key information such as pickup and dropoff locations (latitude and longitude or taxi zones), pickup and dropoff times, trip distances, passenger counts, and fare details (including tips, tolls, and total amounts). This data is invaluable for analyzing traffic patterns, understanding demand fluctuations, and optimizing taxi and ride-sharing operations.\n",
        "\n",
        "Researchers and analysts use this data to explore a wide range of topics, from peak hours for taxi rides to the impact of ride-sharing services on traditional taxis. The data is also used in machine learning projects, such as predicting trip durations, estimating fares, and clustering popular pickup and dropoff locations.\n",
        "\n",
        "The NYC Taxi dataset is a critical resource for urban planners, policymakers, and transportation researchers. By analyzing this data, stakeholders can make informed decisions about infrastructure investments, regulatory changes, and service improvements. For example, understanding peak demand times and locations can help in optimizing traffic management and reducing congestion. Additionally, the data provides insights into the economic impact of ride-sharing services, enabling a more balanced and efficient transportation ecosystem.\n",
        "\n",
        "In conclusion, the NYC Taxi dataset offers a detailed and comprehensive view of one of the world’s busiest and most complex transportation networks. Whether for academic research, urban planning, or business analysis, this dataset is an essential tool for understanding and improving urban mobility in New York City."
      ]
    },
    {
      "cell_type": "markdown",
      "metadata": {
        "id": "w6K7xa23Elo4"
      },
      "source": [
        "# **GitHub Link -**"
      ]
    },
    {
      "cell_type": "markdown",
      "metadata": {
        "id": "h1o69JH3Eqqn"
      },
      "source": [
        "Provide your GitHub Link here."
      ]
    },
    {
      "cell_type": "markdown",
      "metadata": {
        "id": "yQaldy8SH6Dl"
      },
      "source": [
        "# **Problem Statement**\n"
      ]
    },
    {
      "cell_type": "markdown",
      "metadata": {
        "id": "DpeJGUA3kjGy"
      },
      "source": [
        "## **Key Features of the NYC Taxi Dataset:**\n",
        "\n",
        "## **Trip Duration Prediction**\n",
        "*  **Problem Statement:** Predict the duration of a taxi trip based on various factors such as pickup and dropoff locations, time of day, day of the week, weather conditions, and traffic patterns.\n",
        "*  **Use Case:** This can be used by taxi companies or ride-hailing apps to provide passengers with estimated arrival times, helping to improve customer satisfaction and operational efficiency.\n",
        "\n",
        "## **Demand Forecasting**\n",
        "*  **Problem Statement:** Forecast the demand for taxis in different parts of the city at different times of the day or week. This involves predicting the number of taxi pickups that will occur in a given area within a certain timeframe.\n",
        "*  **Use Case:** Taxi companies can use demand forecasting to optimize the deployment of their fleet, ensuring that taxis are available where and when they are most needed, thereby reducing wait times and increasing revenue.\n",
        "\n",
        "## **Customer Segmentation**\n",
        "*  **Problem Statement:** Segment customers based on their travel patterns, preferences, and behaviors using clustering techniques. For example, frequent business travelers might have different needs than occasional tourists.\n",
        "*  **Use Case:** Understanding different customer segments allows taxi companies or ride-sharing platforms to tailor marketing strategies, offer personalized discounts, and improve customer service.\n",
        "\n",
        "## **Anomaly Detection in Taxi Rides**\n",
        "*  **Problem Statement:** Identify and flag anomalous taxi rides that deviate significantly from typical patterns. Anomalies could include unusually long trips, suspiciously low fares, or unexpected routes.\n",
        "*  **Use Case:** Anomaly detection can help in fraud prevention, ensuring that drivers and passengers are not engaging in activities like fare manipulation or unauthorized route changes.\n",
        "\n",
        "## **Route Optimization**\n",
        "\n",
        "*  **Problem Statement:** Predict the optimal route for a taxi trip that minimizes travel time or distance while accounting for factors like traffic conditions, time of day, and road closures.\n",
        "*  **Use Case:** By optimizing routes, taxi companies can reduce fuel consumption, improve on-time performance, and enhance the overall efficiency of their operations.\n",
        "\n",
        "## **Driver Behavior Analysis**\n",
        "*  **Problem Statement:** Analyze and predict driver behavior patterns, such as the likelihood of taking longer routes, accepting rides in high-traffic areas, or operating during peak hours.\n",
        "*  **Use Case:** Insights into driver behavior can be used to develop incentive programs, optimize driver assignments, and improve overall service quality.\n",
        "\n",
        "## **Traffic Pattern Analysis**\n",
        "*  **Problem Statement:** Analyze and predict traffic patterns in New York City based on historical taxi trip data, including factors like trip frequency, speed, and delays across different times and locations.\n",
        "*  **Use Case:** This can be valuable for city planners and transportation agencies to improve traffic management, optimize road usage, and reduce congestion.\n",
        "\n",
        "## **Taxi Availability Prediction**\n",
        "*  **Problem Statement:** Predict the availability of taxis in different areas of the city at different times, which can be particularly useful during peak hours or in less populated areas.\n",
        "*  **Use Case:** This can help ride-hailing apps or dispatch services direct passengers to nearby taxis or proactively position taxis in areas where demand is expected to rise.\n",
        "\n",
        "## **Weather Impact Analysis**\n",
        "*  **Problem Statement:** Analyze the impact of weather conditions on taxi demand, trip duration, and fare amounts. For instance, how do rain or snow affect taxi usage patterns?\n",
        "*  **Use Case:** This analysis can help taxi companies and city authorities prepare for changes in taxi demand during adverse weather conditions, ensuring sufficient availability and adjusting fare policies accordingly.\n",
        "\n",
        "**Trip Information:**\n",
        "\n",
        "*  **Pickup and Dropoff Datetimes:** Timestamps indicating when and where the ride started and ended.\n",
        "*  **Pickup and Dropoff Locations:** Latitude and longitude coordinates, or taxi zones indicating where the ride began and ended.\n",
        "*  **Passenger Count:** The number of passengers in the taxi during the ride.\n",
        "*  **Trip Distance:** The distance covered during the trip, typically in miles.\n",
        "\n",
        "**Other Metadata:**\n",
        "\n",
        "*  **Vendor ID:** Identifies the provider of the taxi service.\n",
        "*  **Trip Type:** Indicates whether the trip was a street-hail or a dispatch trip.\n",
        "*  **Store and Forward Flag:** Indicates whether the trip record was held in the taxi’s memory before sending to the vendor (for instances when the vehicle was outside network coverage)."
      ]
    },
    {
      "cell_type": "markdown",
      "metadata": {
        "id": "mDgbUHAGgjLW"
      },
      "source": [
        "# **General Guidelines** : -  "
      ]
    },
    {
      "cell_type": "markdown",
      "metadata": {
        "id": "ZrxVaUj-hHfC"
      },
      "source": [
        "1.   Well-structured, formatted, and commented code is required.\n",
        "2.   Exception Handling, Production Grade Code & Deployment Ready Code will be a plus. Those students will be awarded some additional credits.\n",
        "     \n",
        "     The additional credits will have advantages over other students during Star Student selection.\n",
        "       \n",
        "             [ Note: - Deployment Ready Code is defined as, the whole .ipynb notebook should be executable in one go\n",
        "                       without a single error logged. ]\n",
        "\n",
        "3.   Each and every logic should have proper comments.\n",
        "4. You may add as many number of charts you want. Make Sure for each and every chart the following format should be answered.\n",
        "        \n",
        "\n",
        "```\n",
        "# Chart visualization code\n",
        "```\n",
        "            \n",
        "\n",
        "*   Why did you pick the specific chart?\n",
        "*   What is/are the insight(s) found from the chart?\n",
        "* Will the gained insights help creating a positive business impact?\n",
        "Are there any insights that lead to negative growth? Justify with specific reason.\n",
        "\n",
        "5. You have to create at least 15 logical & meaningful charts having important insights.\n",
        "\n",
        "\n",
        "[ Hints : - Do the Vizualization in  a structured way while following \"UBM\" Rule.\n",
        "\n",
        "U - Univariate Analysis,\n",
        "\n",
        "B - Bivariate Analysis (Numerical - Categorical, Numerical - Numerical, Categorical - Categorical)\n",
        "\n",
        "M - Multivariate Analysis\n",
        " ]\n",
        "\n",
        "\n",
        "\n",
        "\n",
        "\n",
        "6. You may add more ml algorithms for model creation. Make sure for each and every algorithm, the following format should be answered.\n",
        "\n",
        "\n",
        "*   Explain the ML Model used and it's performance using Evaluation metric Score Chart.\n",
        "\n",
        "\n",
        "*   Cross- Validation & Hyperparameter Tuning\n",
        "\n",
        "*   Have you seen any improvement? Note down the improvement with updates Evaluation metric Score Chart.\n",
        "\n",
        "*   Explain each evaluation metric's indication towards business and the business impact pf the ML model used.\n",
        "\n",
        "\n",
        "\n",
        "\n",
        "\n",
        "\n",
        "\n",
        "\n",
        "\n",
        "\n",
        "\n",
        "\n",
        "\n",
        "\n",
        "\n",
        "\n",
        "\n",
        "\n"
      ]
    },
    {
      "cell_type": "markdown",
      "metadata": {
        "id": "O_i_v8NEhb9l"
      },
      "source": [
        "# ***Let's Begin !***"
      ]
    },
    {
      "cell_type": "markdown",
      "metadata": {
        "id": "HhfV-JJviCcP"
      },
      "source": [
        "## ***1. Know Your Data***"
      ]
    },
    {
      "cell_type": "markdown",
      "metadata": {
        "id": "Y3lxredqlCYt"
      },
      "source": [
        "### Import Libraries"
      ]
    },
    {
      "cell_type": "markdown",
      "metadata": {
        "id": "bTT5pUao9bMF"
      },
      "source": [
        "### Data Preprocessing, cleaning and EDA  "
      ]
    },
    {
      "cell_type": "code",
      "execution_count": null,
      "metadata": {
        "colab": {
          "background_save": true
        },
        "id": "M8Vqi-pPk-HR"
      },
      "outputs": [],
      "source": [
        "# Import Libraries\n",
        "import pandas as pd\n",
        "import numpy as np\n",
        "import matplotlib.pyplot as plt\n",
        "import seaborn as sns\n",
        "import warnings\n",
        "warnings.filterwarnings('ignore')\n",
        "import math"
      ]
    },
    {
      "cell_type": "markdown",
      "metadata": {
        "id": "7orp0sby9r_N"
      },
      "source": [
        "### Feature Engineering data preprocessing"
      ]
    },
    {
      "cell_type": "code",
      "execution_count": null,
      "metadata": {
        "colab": {
          "background_save": true
        },
        "id": "eEnkfR_w7rCJ"
      },
      "outputs": [],
      "source": [
        "from sklearn.model_selection import train_test_split # feature selection\n",
        "from sklearn.compose import ColumnTransformer # data preprocessing\n",
        "from sklearn.pipeline import Pipeline # Ml Pipe line\n",
        "from sklearn.preprocessing import OneHotEncoder # Cat data preprocessing\n",
        "from sklearn.preprocessing import PowerTransformer, MinMaxScaler, StandardScaler # data preprocessing"
      ]
    },
    {
      "cell_type": "markdown",
      "metadata": {
        "id": "ydb9ZT7W9Q_Q"
      },
      "source": [
        "### ML Regression model"
      ]
    },
    {
      "cell_type": "code",
      "execution_count": null,
      "metadata": {
        "colab": {
          "background_save": true
        },
        "id": "k78zXYsr7GoI"
      },
      "outputs": [],
      "source": [
        "from sklearn.linear_model import Lasso, Ridge\n",
        "from sklearn.linear_model import LinearRegression\n",
        "from sklearn.tree import DecisionTreeRegressor\n",
        "from sklearn.ensemble import AdaBoostRegressor, ExtraTreesRegressor\n",
        "from sklearn.ensemble import GradientBoostingRegressor\n",
        "from sklearn.ensemble import RandomForestRegressor\n",
        "from sklearn.preprocessing import StandardScaler\n",
        "from sklearn.neighbors import KNeighborsRegressor\n",
        "from sklearn.ensemble import VotingRegressor\n",
        "from xgboost import XGBRegressor\n",
        "from sklearn.svm import SVR\n",
        "from sklearn.preprocessing import PolynomialFeatures"
      ]
    },
    {
      "cell_type": "markdown",
      "metadata": {
        "id": "-JC_-Fp3-4nX"
      },
      "source": [
        "### Regression Model Evaluation Matrix  and Hyperparameter Tuning"
      ]
    },
    {
      "cell_type": "code",
      "execution_count": null,
      "metadata": {
        "colab": {
          "background_save": true
        },
        "id": "x_fXb5o667v3"
      },
      "outputs": [],
      "source": [
        "from sklearn.metrics import r2_score, mean_squared_error,mean_absolute_error,mean_absolute_percentage_error #Evaluation Matrix\n",
        "from sklearn.model_selection import GridSearchCV #Hyperparameter Tuning"
      ]
    },
    {
      "cell_type": "markdown",
      "metadata": {
        "id": "3RnN4peoiCZX"
      },
      "source": [
        "### Dataset Loading"
      ]
    },
    {
      "cell_type": "code",
      "execution_count": null,
      "metadata": {
        "colab": {
          "background_save": true
        },
        "id": "O6kD1NUICj8k"
      },
      "outputs": [],
      "source": [
        "#from google.colab import drive\n",
        "#drive.mount('/content/drive')"
      ]
    },
    {
      "cell_type": "code",
      "execution_count": null,
      "metadata": {
        "colab": {
          "background_save": true
        },
        "id": "4CkvbW_SlZ_R"
      },
      "outputs": [],
      "source": [
        "# Load Dataset\n",
        "taxi = pd.read_csv('/content/drive/MyDrive/Dataset/Tech-mind-data/Copy of NYC Taxi Data.csv')"
      ]
    },
    {
      "cell_type": "markdown",
      "metadata": {
        "id": "x71ZqKXriCWQ"
      },
      "source": [
        "### Dataset First View"
      ]
    },
    {
      "cell_type": "code",
      "execution_count": null,
      "metadata": {
        "colab": {
          "background_save": true
        },
        "id": "LWNFOSvLl09H"
      },
      "outputs": [],
      "source": [
        "# Dataset First Look"
      ]
    },
    {
      "cell_type": "code",
      "execution_count": null,
      "metadata": {
        "colab": {
          "background_save": true
        },
        "id": "HmZiNu4mSdiP",
        "outputId": "a6843514-3cfa-404f-91d9-3e4f106eda3a"
      },
      "outputs": [
        {
          "data": {
            "application/vnd.google.colaboratory.intrinsic+json": {
              "type": "dataframe",
              "variable_name": "taxi"
            },
            "text/html": [
              "\n",
              "  <div id=\"df-a021e86f-fbe1-4056-8a5b-2fcf2b368a8e\" class=\"colab-df-container\">\n",
              "    <div>\n",
              "<style scoped>\n",
              "    .dataframe tbody tr th:only-of-type {\n",
              "        vertical-align: middle;\n",
              "    }\n",
              "\n",
              "    .dataframe tbody tr th {\n",
              "        vertical-align: top;\n",
              "    }\n",
              "\n",
              "    .dataframe thead th {\n",
              "        text-align: right;\n",
              "    }\n",
              "</style>\n",
              "<table border=\"1\" class=\"dataframe\">\n",
              "  <thead>\n",
              "    <tr style=\"text-align: right;\">\n",
              "      <th></th>\n",
              "      <th>id</th>\n",
              "      <th>vendor_id</th>\n",
              "      <th>pickup_datetime</th>\n",
              "      <th>dropoff_datetime</th>\n",
              "      <th>passenger_count</th>\n",
              "      <th>pickup_longitude</th>\n",
              "      <th>pickup_latitude</th>\n",
              "      <th>dropoff_longitude</th>\n",
              "      <th>dropoff_latitude</th>\n",
              "      <th>store_and_fwd_flag</th>\n",
              "      <th>trip_duration</th>\n",
              "    </tr>\n",
              "  </thead>\n",
              "  <tbody>\n",
              "    <tr>\n",
              "      <th>0</th>\n",
              "      <td>id2875421</td>\n",
              "      <td>2</td>\n",
              "      <td>2016-03-14 17:24:55</td>\n",
              "      <td>2016-03-14 17:32:30</td>\n",
              "      <td>1</td>\n",
              "      <td>-73.982155</td>\n",
              "      <td>40.767937</td>\n",
              "      <td>-73.964630</td>\n",
              "      <td>40.765602</td>\n",
              "      <td>N</td>\n",
              "      <td>455</td>\n",
              "    </tr>\n",
              "    <tr>\n",
              "      <th>1</th>\n",
              "      <td>id2377394</td>\n",
              "      <td>1</td>\n",
              "      <td>2016-06-12 00:43:35</td>\n",
              "      <td>2016-06-12 00:54:38</td>\n",
              "      <td>1</td>\n",
              "      <td>-73.980415</td>\n",
              "      <td>40.738564</td>\n",
              "      <td>-73.999481</td>\n",
              "      <td>40.731152</td>\n",
              "      <td>N</td>\n",
              "      <td>663</td>\n",
              "    </tr>\n",
              "    <tr>\n",
              "      <th>2</th>\n",
              "      <td>id3858529</td>\n",
              "      <td>2</td>\n",
              "      <td>2016-01-19 11:35:24</td>\n",
              "      <td>2016-01-19 12:10:48</td>\n",
              "      <td>1</td>\n",
              "      <td>-73.979027</td>\n",
              "      <td>40.763939</td>\n",
              "      <td>-74.005333</td>\n",
              "      <td>40.710087</td>\n",
              "      <td>N</td>\n",
              "      <td>2124</td>\n",
              "    </tr>\n",
              "    <tr>\n",
              "      <th>3</th>\n",
              "      <td>id3504673</td>\n",
              "      <td>2</td>\n",
              "      <td>2016-04-06 19:32:31</td>\n",
              "      <td>2016-04-06 19:39:40</td>\n",
              "      <td>1</td>\n",
              "      <td>-74.010040</td>\n",
              "      <td>40.719971</td>\n",
              "      <td>-74.012268</td>\n",
              "      <td>40.706718</td>\n",
              "      <td>N</td>\n",
              "      <td>429</td>\n",
              "    </tr>\n",
              "    <tr>\n",
              "      <th>4</th>\n",
              "      <td>id2181028</td>\n",
              "      <td>2</td>\n",
              "      <td>2016-03-26 13:30:55</td>\n",
              "      <td>2016-03-26 13:38:10</td>\n",
              "      <td>1</td>\n",
              "      <td>-73.973053</td>\n",
              "      <td>40.793209</td>\n",
              "      <td>-73.972923</td>\n",
              "      <td>40.782520</td>\n",
              "      <td>N</td>\n",
              "      <td>435</td>\n",
              "    </tr>\n",
              "  </tbody>\n",
              "</table>\n",
              "</div>\n",
              "    <div class=\"colab-df-buttons\">\n",
              "\n",
              "  <div class=\"colab-df-container\">\n",
              "    <button class=\"colab-df-convert\" onclick=\"convertToInteractive('df-a021e86f-fbe1-4056-8a5b-2fcf2b368a8e')\"\n",
              "            title=\"Convert this dataframe to an interactive table.\"\n",
              "            style=\"display:none;\">\n",
              "\n",
              "  <svg xmlns=\"http://www.w3.org/2000/svg\" height=\"24px\" viewBox=\"0 -960 960 960\">\n",
              "    <path d=\"M120-120v-720h720v720H120Zm60-500h600v-160H180v160Zm220 220h160v-160H400v160Zm0 220h160v-160H400v160ZM180-400h160v-160H180v160Zm440 0h160v-160H620v160ZM180-180h160v-160H180v160Zm440 0h160v-160H620v160Z\"/>\n",
              "  </svg>\n",
              "    </button>\n",
              "\n",
              "  <style>\n",
              "    .colab-df-container {\n",
              "      display:flex;\n",
              "      gap: 12px;\n",
              "    }\n",
              "\n",
              "    .colab-df-convert {\n",
              "      background-color: #E8F0FE;\n",
              "      border: none;\n",
              "      border-radius: 50%;\n",
              "      cursor: pointer;\n",
              "      display: none;\n",
              "      fill: #1967D2;\n",
              "      height: 32px;\n",
              "      padding: 0 0 0 0;\n",
              "      width: 32px;\n",
              "    }\n",
              "\n",
              "    .colab-df-convert:hover {\n",
              "      background-color: #E2EBFA;\n",
              "      box-shadow: 0px 1px 2px rgba(60, 64, 67, 0.3), 0px 1px 3px 1px rgba(60, 64, 67, 0.15);\n",
              "      fill: #174EA6;\n",
              "    }\n",
              "\n",
              "    .colab-df-buttons div {\n",
              "      margin-bottom: 4px;\n",
              "    }\n",
              "\n",
              "    [theme=dark] .colab-df-convert {\n",
              "      background-color: #3B4455;\n",
              "      fill: #D2E3FC;\n",
              "    }\n",
              "\n",
              "    [theme=dark] .colab-df-convert:hover {\n",
              "      background-color: #434B5C;\n",
              "      box-shadow: 0px 1px 3px 1px rgba(0, 0, 0, 0.15);\n",
              "      filter: drop-shadow(0px 1px 2px rgba(0, 0, 0, 0.3));\n",
              "      fill: #FFFFFF;\n",
              "    }\n",
              "  </style>\n",
              "\n",
              "    <script>\n",
              "      const buttonEl =\n",
              "        document.querySelector('#df-a021e86f-fbe1-4056-8a5b-2fcf2b368a8e button.colab-df-convert');\n",
              "      buttonEl.style.display =\n",
              "        google.colab.kernel.accessAllowed ? 'block' : 'none';\n",
              "\n",
              "      async function convertToInteractive(key) {\n",
              "        const element = document.querySelector('#df-a021e86f-fbe1-4056-8a5b-2fcf2b368a8e');\n",
              "        const dataTable =\n",
              "          await google.colab.kernel.invokeFunction('convertToInteractive',\n",
              "                                                    [key], {});\n",
              "        if (!dataTable) return;\n",
              "\n",
              "        const docLinkHtml = 'Like what you see? Visit the ' +\n",
              "          '<a target=\"_blank\" href=https://colab.research.google.com/notebooks/data_table.ipynb>data table notebook</a>'\n",
              "          + ' to learn more about interactive tables.';\n",
              "        element.innerHTML = '';\n",
              "        dataTable['output_type'] = 'display_data';\n",
              "        await google.colab.output.renderOutput(dataTable, element);\n",
              "        const docLink = document.createElement('div');\n",
              "        docLink.innerHTML = docLinkHtml;\n",
              "        element.appendChild(docLink);\n",
              "      }\n",
              "    </script>\n",
              "  </div>\n",
              "\n",
              "\n",
              "<div id=\"df-21a2f514-7df7-4768-be84-fce6ff14509d\">\n",
              "  <button class=\"colab-df-quickchart\" onclick=\"quickchart('df-21a2f514-7df7-4768-be84-fce6ff14509d')\"\n",
              "            title=\"Suggest charts\"\n",
              "            style=\"display:none;\">\n",
              "\n",
              "<svg xmlns=\"http://www.w3.org/2000/svg\" height=\"24px\"viewBox=\"0 0 24 24\"\n",
              "     width=\"24px\">\n",
              "    <g>\n",
              "        <path d=\"M19 3H5c-1.1 0-2 .9-2 2v14c0 1.1.9 2 2 2h14c1.1 0 2-.9 2-2V5c0-1.1-.9-2-2-2zM9 17H7v-7h2v7zm4 0h-2V7h2v10zm4 0h-2v-4h2v4z\"/>\n",
              "    </g>\n",
              "</svg>\n",
              "  </button>\n",
              "\n",
              "<style>\n",
              "  .colab-df-quickchart {\n",
              "      --bg-color: #E8F0FE;\n",
              "      --fill-color: #1967D2;\n",
              "      --hover-bg-color: #E2EBFA;\n",
              "      --hover-fill-color: #174EA6;\n",
              "      --disabled-fill-color: #AAA;\n",
              "      --disabled-bg-color: #DDD;\n",
              "  }\n",
              "\n",
              "  [theme=dark] .colab-df-quickchart {\n",
              "      --bg-color: #3B4455;\n",
              "      --fill-color: #D2E3FC;\n",
              "      --hover-bg-color: #434B5C;\n",
              "      --hover-fill-color: #FFFFFF;\n",
              "      --disabled-bg-color: #3B4455;\n",
              "      --disabled-fill-color: #666;\n",
              "  }\n",
              "\n",
              "  .colab-df-quickchart {\n",
              "    background-color: var(--bg-color);\n",
              "    border: none;\n",
              "    border-radius: 50%;\n",
              "    cursor: pointer;\n",
              "    display: none;\n",
              "    fill: var(--fill-color);\n",
              "    height: 32px;\n",
              "    padding: 0;\n",
              "    width: 32px;\n",
              "  }\n",
              "\n",
              "  .colab-df-quickchart:hover {\n",
              "    background-color: var(--hover-bg-color);\n",
              "    box-shadow: 0 1px 2px rgba(60, 64, 67, 0.3), 0 1px 3px 1px rgba(60, 64, 67, 0.15);\n",
              "    fill: var(--button-hover-fill-color);\n",
              "  }\n",
              "\n",
              "  .colab-df-quickchart-complete:disabled,\n",
              "  .colab-df-quickchart-complete:disabled:hover {\n",
              "    background-color: var(--disabled-bg-color);\n",
              "    fill: var(--disabled-fill-color);\n",
              "    box-shadow: none;\n",
              "  }\n",
              "\n",
              "  .colab-df-spinner {\n",
              "    border: 2px solid var(--fill-color);\n",
              "    border-color: transparent;\n",
              "    border-bottom-color: var(--fill-color);\n",
              "    animation:\n",
              "      spin 1s steps(1) infinite;\n",
              "  }\n",
              "\n",
              "  @keyframes spin {\n",
              "    0% {\n",
              "      border-color: transparent;\n",
              "      border-bottom-color: var(--fill-color);\n",
              "      border-left-color: var(--fill-color);\n",
              "    }\n",
              "    20% {\n",
              "      border-color: transparent;\n",
              "      border-left-color: var(--fill-color);\n",
              "      border-top-color: var(--fill-color);\n",
              "    }\n",
              "    30% {\n",
              "      border-color: transparent;\n",
              "      border-left-color: var(--fill-color);\n",
              "      border-top-color: var(--fill-color);\n",
              "      border-right-color: var(--fill-color);\n",
              "    }\n",
              "    40% {\n",
              "      border-color: transparent;\n",
              "      border-right-color: var(--fill-color);\n",
              "      border-top-color: var(--fill-color);\n",
              "    }\n",
              "    60% {\n",
              "      border-color: transparent;\n",
              "      border-right-color: var(--fill-color);\n",
              "    }\n",
              "    80% {\n",
              "      border-color: transparent;\n",
              "      border-right-color: var(--fill-color);\n",
              "      border-bottom-color: var(--fill-color);\n",
              "    }\n",
              "    90% {\n",
              "      border-color: transparent;\n",
              "      border-bottom-color: var(--fill-color);\n",
              "    }\n",
              "  }\n",
              "</style>\n",
              "\n",
              "  <script>\n",
              "    async function quickchart(key) {\n",
              "      const quickchartButtonEl =\n",
              "        document.querySelector('#' + key + ' button');\n",
              "      quickchartButtonEl.disabled = true;  // To prevent multiple clicks.\n",
              "      quickchartButtonEl.classList.add('colab-df-spinner');\n",
              "      try {\n",
              "        const charts = await google.colab.kernel.invokeFunction(\n",
              "            'suggestCharts', [key], {});\n",
              "      } catch (error) {\n",
              "        console.error('Error during call to suggestCharts:', error);\n",
              "      }\n",
              "      quickchartButtonEl.classList.remove('colab-df-spinner');\n",
              "      quickchartButtonEl.classList.add('colab-df-quickchart-complete');\n",
              "    }\n",
              "    (() => {\n",
              "      let quickchartButtonEl =\n",
              "        document.querySelector('#df-21a2f514-7df7-4768-be84-fce6ff14509d button');\n",
              "      quickchartButtonEl.style.display =\n",
              "        google.colab.kernel.accessAllowed ? 'block' : 'none';\n",
              "    })();\n",
              "  </script>\n",
              "</div>\n",
              "\n",
              "    </div>\n",
              "  </div>\n"
            ],
            "text/plain": [
              "          id  vendor_id      pickup_datetime     dropoff_datetime  \\\n",
              "0  id2875421          2  2016-03-14 17:24:55  2016-03-14 17:32:30   \n",
              "1  id2377394          1  2016-06-12 00:43:35  2016-06-12 00:54:38   \n",
              "2  id3858529          2  2016-01-19 11:35:24  2016-01-19 12:10:48   \n",
              "3  id3504673          2  2016-04-06 19:32:31  2016-04-06 19:39:40   \n",
              "4  id2181028          2  2016-03-26 13:30:55  2016-03-26 13:38:10   \n",
              "\n",
              "   passenger_count  pickup_longitude  pickup_latitude  dropoff_longitude  \\\n",
              "0                1        -73.982155        40.767937         -73.964630   \n",
              "1                1        -73.980415        40.738564         -73.999481   \n",
              "2                1        -73.979027        40.763939         -74.005333   \n",
              "3                1        -74.010040        40.719971         -74.012268   \n",
              "4                1        -73.973053        40.793209         -73.972923   \n",
              "\n",
              "   dropoff_latitude store_and_fwd_flag  trip_duration  \n",
              "0         40.765602                  N            455  \n",
              "1         40.731152                  N            663  \n",
              "2         40.710087                  N           2124  \n",
              "3         40.706718                  N            429  \n",
              "4         40.782520                  N            435  "
            ]
          },
          "execution_count": 1304,
          "metadata": {},
          "output_type": "execute_result"
        }
      ],
      "source": [
        "# find top 5 data\n",
        "taxi.head()"
      ]
    },
    {
      "cell_type": "code",
      "execution_count": null,
      "metadata": {
        "colab": {
          "background_save": true
        },
        "id": "RnKTH4oiSqiF",
        "outputId": "c62ad4cd-9173-4276-afbc-0eadbf504b7f"
      },
      "outputs": [
        {
          "data": {
            "application/vnd.google.colaboratory.intrinsic+json": {
              "repr_error": "0",
              "type": "dataframe"
            },
            "text/html": [
              "\n",
              "  <div id=\"df-44857d45-574a-4e51-98bf-68eef023abbb\" class=\"colab-df-container\">\n",
              "    <div>\n",
              "<style scoped>\n",
              "    .dataframe tbody tr th:only-of-type {\n",
              "        vertical-align: middle;\n",
              "    }\n",
              "\n",
              "    .dataframe tbody tr th {\n",
              "        vertical-align: top;\n",
              "    }\n",
              "\n",
              "    .dataframe thead th {\n",
              "        text-align: right;\n",
              "    }\n",
              "</style>\n",
              "<table border=\"1\" class=\"dataframe\">\n",
              "  <thead>\n",
              "    <tr style=\"text-align: right;\">\n",
              "      <th></th>\n",
              "      <th>id</th>\n",
              "      <th>vendor_id</th>\n",
              "      <th>pickup_datetime</th>\n",
              "      <th>dropoff_datetime</th>\n",
              "      <th>passenger_count</th>\n",
              "      <th>pickup_longitude</th>\n",
              "      <th>pickup_latitude</th>\n",
              "      <th>dropoff_longitude</th>\n",
              "      <th>dropoff_latitude</th>\n",
              "      <th>store_and_fwd_flag</th>\n",
              "      <th>trip_duration</th>\n",
              "    </tr>\n",
              "  </thead>\n",
              "  <tbody>\n",
              "    <tr>\n",
              "      <th>1458639</th>\n",
              "      <td>id2376096</td>\n",
              "      <td>2</td>\n",
              "      <td>2016-04-08 13:31:04</td>\n",
              "      <td>2016-04-08 13:44:02</td>\n",
              "      <td>4</td>\n",
              "      <td>-73.982201</td>\n",
              "      <td>40.745522</td>\n",
              "      <td>-73.994911</td>\n",
              "      <td>40.740170</td>\n",
              "      <td>N</td>\n",
              "      <td>778</td>\n",
              "    </tr>\n",
              "    <tr>\n",
              "      <th>1458640</th>\n",
              "      <td>id1049543</td>\n",
              "      <td>1</td>\n",
              "      <td>2016-01-10 07:35:15</td>\n",
              "      <td>2016-01-10 07:46:10</td>\n",
              "      <td>1</td>\n",
              "      <td>-74.000946</td>\n",
              "      <td>40.747379</td>\n",
              "      <td>-73.970184</td>\n",
              "      <td>40.796547</td>\n",
              "      <td>N</td>\n",
              "      <td>655</td>\n",
              "    </tr>\n",
              "    <tr>\n",
              "      <th>1458641</th>\n",
              "      <td>id2304944</td>\n",
              "      <td>2</td>\n",
              "      <td>2016-04-22 06:57:41</td>\n",
              "      <td>2016-04-22 07:10:25</td>\n",
              "      <td>1</td>\n",
              "      <td>-73.959129</td>\n",
              "      <td>40.768799</td>\n",
              "      <td>-74.004433</td>\n",
              "      <td>40.707371</td>\n",
              "      <td>N</td>\n",
              "      <td>764</td>\n",
              "    </tr>\n",
              "    <tr>\n",
              "      <th>1458642</th>\n",
              "      <td>id2714485</td>\n",
              "      <td>1</td>\n",
              "      <td>2016-01-05 15:56:26</td>\n",
              "      <td>2016-01-05 16:02:39</td>\n",
              "      <td>1</td>\n",
              "      <td>-73.982079</td>\n",
              "      <td>40.749062</td>\n",
              "      <td>-73.974632</td>\n",
              "      <td>40.757107</td>\n",
              "      <td>N</td>\n",
              "      <td>373</td>\n",
              "    </tr>\n",
              "    <tr>\n",
              "      <th>1458643</th>\n",
              "      <td>id1209952</td>\n",
              "      <td>1</td>\n",
              "      <td>2016-04-05 14:44:25</td>\n",
              "      <td>2016-04-05 14:47:43</td>\n",
              "      <td>1</td>\n",
              "      <td>-73.979538</td>\n",
              "      <td>40.781750</td>\n",
              "      <td>-73.972809</td>\n",
              "      <td>40.790585</td>\n",
              "      <td>N</td>\n",
              "      <td>198</td>\n",
              "    </tr>\n",
              "  </tbody>\n",
              "</table>\n",
              "</div>\n",
              "    <div class=\"colab-df-buttons\">\n",
              "\n",
              "  <div class=\"colab-df-container\">\n",
              "    <button class=\"colab-df-convert\" onclick=\"convertToInteractive('df-44857d45-574a-4e51-98bf-68eef023abbb')\"\n",
              "            title=\"Convert this dataframe to an interactive table.\"\n",
              "            style=\"display:none;\">\n",
              "\n",
              "  <svg xmlns=\"http://www.w3.org/2000/svg\" height=\"24px\" viewBox=\"0 -960 960 960\">\n",
              "    <path d=\"M120-120v-720h720v720H120Zm60-500h600v-160H180v160Zm220 220h160v-160H400v160Zm0 220h160v-160H400v160ZM180-400h160v-160H180v160Zm440 0h160v-160H620v160ZM180-180h160v-160H180v160Zm440 0h160v-160H620v160Z\"/>\n",
              "  </svg>\n",
              "    </button>\n",
              "\n",
              "  <style>\n",
              "    .colab-df-container {\n",
              "      display:flex;\n",
              "      gap: 12px;\n",
              "    }\n",
              "\n",
              "    .colab-df-convert {\n",
              "      background-color: #E8F0FE;\n",
              "      border: none;\n",
              "      border-radius: 50%;\n",
              "      cursor: pointer;\n",
              "      display: none;\n",
              "      fill: #1967D2;\n",
              "      height: 32px;\n",
              "      padding: 0 0 0 0;\n",
              "      width: 32px;\n",
              "    }\n",
              "\n",
              "    .colab-df-convert:hover {\n",
              "      background-color: #E2EBFA;\n",
              "      box-shadow: 0px 1px 2px rgba(60, 64, 67, 0.3), 0px 1px 3px 1px rgba(60, 64, 67, 0.15);\n",
              "      fill: #174EA6;\n",
              "    }\n",
              "\n",
              "    .colab-df-buttons div {\n",
              "      margin-bottom: 4px;\n",
              "    }\n",
              "\n",
              "    [theme=dark] .colab-df-convert {\n",
              "      background-color: #3B4455;\n",
              "      fill: #D2E3FC;\n",
              "    }\n",
              "\n",
              "    [theme=dark] .colab-df-convert:hover {\n",
              "      background-color: #434B5C;\n",
              "      box-shadow: 0px 1px 3px 1px rgba(0, 0, 0, 0.15);\n",
              "      filter: drop-shadow(0px 1px 2px rgba(0, 0, 0, 0.3));\n",
              "      fill: #FFFFFF;\n",
              "    }\n",
              "  </style>\n",
              "\n",
              "    <script>\n",
              "      const buttonEl =\n",
              "        document.querySelector('#df-44857d45-574a-4e51-98bf-68eef023abbb button.colab-df-convert');\n",
              "      buttonEl.style.display =\n",
              "        google.colab.kernel.accessAllowed ? 'block' : 'none';\n",
              "\n",
              "      async function convertToInteractive(key) {\n",
              "        const element = document.querySelector('#df-44857d45-574a-4e51-98bf-68eef023abbb');\n",
              "        const dataTable =\n",
              "          await google.colab.kernel.invokeFunction('convertToInteractive',\n",
              "                                                    [key], {});\n",
              "        if (!dataTable) return;\n",
              "\n",
              "        const docLinkHtml = 'Like what you see? Visit the ' +\n",
              "          '<a target=\"_blank\" href=https://colab.research.google.com/notebooks/data_table.ipynb>data table notebook</a>'\n",
              "          + ' to learn more about interactive tables.';\n",
              "        element.innerHTML = '';\n",
              "        dataTable['output_type'] = 'display_data';\n",
              "        await google.colab.output.renderOutput(dataTable, element);\n",
              "        const docLink = document.createElement('div');\n",
              "        docLink.innerHTML = docLinkHtml;\n",
              "        element.appendChild(docLink);\n",
              "      }\n",
              "    </script>\n",
              "  </div>\n",
              "\n",
              "\n",
              "<div id=\"df-846ffa17-0d70-4f47-938e-1f69878b9299\">\n",
              "  <button class=\"colab-df-quickchart\" onclick=\"quickchart('df-846ffa17-0d70-4f47-938e-1f69878b9299')\"\n",
              "            title=\"Suggest charts\"\n",
              "            style=\"display:none;\">\n",
              "\n",
              "<svg xmlns=\"http://www.w3.org/2000/svg\" height=\"24px\"viewBox=\"0 0 24 24\"\n",
              "     width=\"24px\">\n",
              "    <g>\n",
              "        <path d=\"M19 3H5c-1.1 0-2 .9-2 2v14c0 1.1.9 2 2 2h14c1.1 0 2-.9 2-2V5c0-1.1-.9-2-2-2zM9 17H7v-7h2v7zm4 0h-2V7h2v10zm4 0h-2v-4h2v4z\"/>\n",
              "    </g>\n",
              "</svg>\n",
              "  </button>\n",
              "\n",
              "<style>\n",
              "  .colab-df-quickchart {\n",
              "      --bg-color: #E8F0FE;\n",
              "      --fill-color: #1967D2;\n",
              "      --hover-bg-color: #E2EBFA;\n",
              "      --hover-fill-color: #174EA6;\n",
              "      --disabled-fill-color: #AAA;\n",
              "      --disabled-bg-color: #DDD;\n",
              "  }\n",
              "\n",
              "  [theme=dark] .colab-df-quickchart {\n",
              "      --bg-color: #3B4455;\n",
              "      --fill-color: #D2E3FC;\n",
              "      --hover-bg-color: #434B5C;\n",
              "      --hover-fill-color: #FFFFFF;\n",
              "      --disabled-bg-color: #3B4455;\n",
              "      --disabled-fill-color: #666;\n",
              "  }\n",
              "\n",
              "  .colab-df-quickchart {\n",
              "    background-color: var(--bg-color);\n",
              "    border: none;\n",
              "    border-radius: 50%;\n",
              "    cursor: pointer;\n",
              "    display: none;\n",
              "    fill: var(--fill-color);\n",
              "    height: 32px;\n",
              "    padding: 0;\n",
              "    width: 32px;\n",
              "  }\n",
              "\n",
              "  .colab-df-quickchart:hover {\n",
              "    background-color: var(--hover-bg-color);\n",
              "    box-shadow: 0 1px 2px rgba(60, 64, 67, 0.3), 0 1px 3px 1px rgba(60, 64, 67, 0.15);\n",
              "    fill: var(--button-hover-fill-color);\n",
              "  }\n",
              "\n",
              "  .colab-df-quickchart-complete:disabled,\n",
              "  .colab-df-quickchart-complete:disabled:hover {\n",
              "    background-color: var(--disabled-bg-color);\n",
              "    fill: var(--disabled-fill-color);\n",
              "    box-shadow: none;\n",
              "  }\n",
              "\n",
              "  .colab-df-spinner {\n",
              "    border: 2px solid var(--fill-color);\n",
              "    border-color: transparent;\n",
              "    border-bottom-color: var(--fill-color);\n",
              "    animation:\n",
              "      spin 1s steps(1) infinite;\n",
              "  }\n",
              "\n",
              "  @keyframes spin {\n",
              "    0% {\n",
              "      border-color: transparent;\n",
              "      border-bottom-color: var(--fill-color);\n",
              "      border-left-color: var(--fill-color);\n",
              "    }\n",
              "    20% {\n",
              "      border-color: transparent;\n",
              "      border-left-color: var(--fill-color);\n",
              "      border-top-color: var(--fill-color);\n",
              "    }\n",
              "    30% {\n",
              "      border-color: transparent;\n",
              "      border-left-color: var(--fill-color);\n",
              "      border-top-color: var(--fill-color);\n",
              "      border-right-color: var(--fill-color);\n",
              "    }\n",
              "    40% {\n",
              "      border-color: transparent;\n",
              "      border-right-color: var(--fill-color);\n",
              "      border-top-color: var(--fill-color);\n",
              "    }\n",
              "    60% {\n",
              "      border-color: transparent;\n",
              "      border-right-color: var(--fill-color);\n",
              "    }\n",
              "    80% {\n",
              "      border-color: transparent;\n",
              "      border-right-color: var(--fill-color);\n",
              "      border-bottom-color: var(--fill-color);\n",
              "    }\n",
              "    90% {\n",
              "      border-color: transparent;\n",
              "      border-bottom-color: var(--fill-color);\n",
              "    }\n",
              "  }\n",
              "</style>\n",
              "\n",
              "  <script>\n",
              "    async function quickchart(key) {\n",
              "      const quickchartButtonEl =\n",
              "        document.querySelector('#' + key + ' button');\n",
              "      quickchartButtonEl.disabled = true;  // To prevent multiple clicks.\n",
              "      quickchartButtonEl.classList.add('colab-df-spinner');\n",
              "      try {\n",
              "        const charts = await google.colab.kernel.invokeFunction(\n",
              "            'suggestCharts', [key], {});\n",
              "      } catch (error) {\n",
              "        console.error('Error during call to suggestCharts:', error);\n",
              "      }\n",
              "      quickchartButtonEl.classList.remove('colab-df-spinner');\n",
              "      quickchartButtonEl.classList.add('colab-df-quickchart-complete');\n",
              "    }\n",
              "    (() => {\n",
              "      let quickchartButtonEl =\n",
              "        document.querySelector('#df-846ffa17-0d70-4f47-938e-1f69878b9299 button');\n",
              "      quickchartButtonEl.style.display =\n",
              "        google.colab.kernel.accessAllowed ? 'block' : 'none';\n",
              "    })();\n",
              "  </script>\n",
              "</div>\n",
              "\n",
              "    </div>\n",
              "  </div>\n"
            ],
            "text/plain": [
              "                id  vendor_id      pickup_datetime     dropoff_datetime  \\\n",
              "1458639  id2376096          2  2016-04-08 13:31:04  2016-04-08 13:44:02   \n",
              "1458640  id1049543          1  2016-01-10 07:35:15  2016-01-10 07:46:10   \n",
              "1458641  id2304944          2  2016-04-22 06:57:41  2016-04-22 07:10:25   \n",
              "1458642  id2714485          1  2016-01-05 15:56:26  2016-01-05 16:02:39   \n",
              "1458643  id1209952          1  2016-04-05 14:44:25  2016-04-05 14:47:43   \n",
              "\n",
              "         passenger_count  pickup_longitude  pickup_latitude  \\\n",
              "1458639                4        -73.982201        40.745522   \n",
              "1458640                1        -74.000946        40.747379   \n",
              "1458641                1        -73.959129        40.768799   \n",
              "1458642                1        -73.982079        40.749062   \n",
              "1458643                1        -73.979538        40.781750   \n",
              "\n",
              "         dropoff_longitude  dropoff_latitude store_and_fwd_flag  trip_duration  \n",
              "1458639         -73.994911         40.740170                  N            778  \n",
              "1458640         -73.970184         40.796547                  N            655  \n",
              "1458641         -74.004433         40.707371                  N            764  \n",
              "1458642         -73.974632         40.757107                  N            373  \n",
              "1458643         -73.972809         40.790585                  N            198  "
            ]
          },
          "execution_count": 1305,
          "metadata": {},
          "output_type": "execute_result"
        }
      ],
      "source": [
        "# find last 5 data\n",
        "taxi.tail()"
      ]
    },
    {
      "cell_type": "code",
      "execution_count": null,
      "metadata": {
        "colab": {
          "background_save": true
        },
        "id": "e7bdH4-oSqel",
        "outputId": "0d7a3199-4819-4b31-beb3-f9f3a7e7ea13"
      },
      "outputs": [
        {
          "data": {
            "application/vnd.google.colaboratory.intrinsic+json": {
              "repr_error": "0",
              "type": "dataframe"
            },
            "text/html": [
              "\n",
              "  <div id=\"df-b2920ec4-07d7-4982-805e-9584f4ac1790\" class=\"colab-df-container\">\n",
              "    <div>\n",
              "<style scoped>\n",
              "    .dataframe tbody tr th:only-of-type {\n",
              "        vertical-align: middle;\n",
              "    }\n",
              "\n",
              "    .dataframe tbody tr th {\n",
              "        vertical-align: top;\n",
              "    }\n",
              "\n",
              "    .dataframe thead th {\n",
              "        text-align: right;\n",
              "    }\n",
              "</style>\n",
              "<table border=\"1\" class=\"dataframe\">\n",
              "  <thead>\n",
              "    <tr style=\"text-align: right;\">\n",
              "      <th></th>\n",
              "      <th>id</th>\n",
              "      <th>vendor_id</th>\n",
              "      <th>pickup_datetime</th>\n",
              "      <th>dropoff_datetime</th>\n",
              "      <th>passenger_count</th>\n",
              "      <th>pickup_longitude</th>\n",
              "      <th>pickup_latitude</th>\n",
              "      <th>dropoff_longitude</th>\n",
              "      <th>dropoff_latitude</th>\n",
              "      <th>store_and_fwd_flag</th>\n",
              "      <th>trip_duration</th>\n",
              "    </tr>\n",
              "  </thead>\n",
              "  <tbody>\n",
              "    <tr>\n",
              "      <th>62809</th>\n",
              "      <td>id1167708</td>\n",
              "      <td>1</td>\n",
              "      <td>2016-03-02 13:52:21</td>\n",
              "      <td>2016-03-02 14:02:35</td>\n",
              "      <td>1</td>\n",
              "      <td>-73.968315</td>\n",
              "      <td>40.786858</td>\n",
              "      <td>-73.960136</td>\n",
              "      <td>40.771366</td>\n",
              "      <td>N</td>\n",
              "      <td>614</td>\n",
              "    </tr>\n",
              "    <tr>\n",
              "      <th>615852</th>\n",
              "      <td>id1976397</td>\n",
              "      <td>1</td>\n",
              "      <td>2016-03-22 22:04:43</td>\n",
              "      <td>2016-03-22 22:12:12</td>\n",
              "      <td>1</td>\n",
              "      <td>-73.957779</td>\n",
              "      <td>40.765331</td>\n",
              "      <td>-73.954948</td>\n",
              "      <td>40.788361</td>\n",
              "      <td>Y</td>\n",
              "      <td>449</td>\n",
              "    </tr>\n",
              "    <tr>\n",
              "      <th>563192</th>\n",
              "      <td>id2533997</td>\n",
              "      <td>1</td>\n",
              "      <td>2016-03-29 23:03:19</td>\n",
              "      <td>2016-03-29 23:12:48</td>\n",
              "      <td>1</td>\n",
              "      <td>-73.981331</td>\n",
              "      <td>40.780979</td>\n",
              "      <td>-73.967682</td>\n",
              "      <td>40.766949</td>\n",
              "      <td>N</td>\n",
              "      <td>569</td>\n",
              "    </tr>\n",
              "    <tr>\n",
              "      <th>399963</th>\n",
              "      <td>id0780563</td>\n",
              "      <td>2</td>\n",
              "      <td>2016-05-05 19:35:18</td>\n",
              "      <td>2016-05-05 20:07:11</td>\n",
              "      <td>3</td>\n",
              "      <td>-73.990112</td>\n",
              "      <td>40.750881</td>\n",
              "      <td>-74.011070</td>\n",
              "      <td>40.715012</td>\n",
              "      <td>N</td>\n",
              "      <td>1913</td>\n",
              "    </tr>\n",
              "    <tr>\n",
              "      <th>1037231</th>\n",
              "      <td>id1480308</td>\n",
              "      <td>2</td>\n",
              "      <td>2016-03-08 09:17:29</td>\n",
              "      <td>2016-03-08 09:35:07</td>\n",
              "      <td>1</td>\n",
              "      <td>-74.015930</td>\n",
              "      <td>40.711151</td>\n",
              "      <td>-73.992111</td>\n",
              "      <td>40.725269</td>\n",
              "      <td>N</td>\n",
              "      <td>1058</td>\n",
              "    </tr>\n",
              "  </tbody>\n",
              "</table>\n",
              "</div>\n",
              "    <div class=\"colab-df-buttons\">\n",
              "\n",
              "  <div class=\"colab-df-container\">\n",
              "    <button class=\"colab-df-convert\" onclick=\"convertToInteractive('df-b2920ec4-07d7-4982-805e-9584f4ac1790')\"\n",
              "            title=\"Convert this dataframe to an interactive table.\"\n",
              "            style=\"display:none;\">\n",
              "\n",
              "  <svg xmlns=\"http://www.w3.org/2000/svg\" height=\"24px\" viewBox=\"0 -960 960 960\">\n",
              "    <path d=\"M120-120v-720h720v720H120Zm60-500h600v-160H180v160Zm220 220h160v-160H400v160Zm0 220h160v-160H400v160ZM180-400h160v-160H180v160Zm440 0h160v-160H620v160ZM180-180h160v-160H180v160Zm440 0h160v-160H620v160Z\"/>\n",
              "  </svg>\n",
              "    </button>\n",
              "\n",
              "  <style>\n",
              "    .colab-df-container {\n",
              "      display:flex;\n",
              "      gap: 12px;\n",
              "    }\n",
              "\n",
              "    .colab-df-convert {\n",
              "      background-color: #E8F0FE;\n",
              "      border: none;\n",
              "      border-radius: 50%;\n",
              "      cursor: pointer;\n",
              "      display: none;\n",
              "      fill: #1967D2;\n",
              "      height: 32px;\n",
              "      padding: 0 0 0 0;\n",
              "      width: 32px;\n",
              "    }\n",
              "\n",
              "    .colab-df-convert:hover {\n",
              "      background-color: #E2EBFA;\n",
              "      box-shadow: 0px 1px 2px rgba(60, 64, 67, 0.3), 0px 1px 3px 1px rgba(60, 64, 67, 0.15);\n",
              "      fill: #174EA6;\n",
              "    }\n",
              "\n",
              "    .colab-df-buttons div {\n",
              "      margin-bottom: 4px;\n",
              "    }\n",
              "\n",
              "    [theme=dark] .colab-df-convert {\n",
              "      background-color: #3B4455;\n",
              "      fill: #D2E3FC;\n",
              "    }\n",
              "\n",
              "    [theme=dark] .colab-df-convert:hover {\n",
              "      background-color: #434B5C;\n",
              "      box-shadow: 0px 1px 3px 1px rgba(0, 0, 0, 0.15);\n",
              "      filter: drop-shadow(0px 1px 2px rgba(0, 0, 0, 0.3));\n",
              "      fill: #FFFFFF;\n",
              "    }\n",
              "  </style>\n",
              "\n",
              "    <script>\n",
              "      const buttonEl =\n",
              "        document.querySelector('#df-b2920ec4-07d7-4982-805e-9584f4ac1790 button.colab-df-convert');\n",
              "      buttonEl.style.display =\n",
              "        google.colab.kernel.accessAllowed ? 'block' : 'none';\n",
              "\n",
              "      async function convertToInteractive(key) {\n",
              "        const element = document.querySelector('#df-b2920ec4-07d7-4982-805e-9584f4ac1790');\n",
              "        const dataTable =\n",
              "          await google.colab.kernel.invokeFunction('convertToInteractive',\n",
              "                                                    [key], {});\n",
              "        if (!dataTable) return;\n",
              "\n",
              "        const docLinkHtml = 'Like what you see? Visit the ' +\n",
              "          '<a target=\"_blank\" href=https://colab.research.google.com/notebooks/data_table.ipynb>data table notebook</a>'\n",
              "          + ' to learn more about interactive tables.';\n",
              "        element.innerHTML = '';\n",
              "        dataTable['output_type'] = 'display_data';\n",
              "        await google.colab.output.renderOutput(dataTable, element);\n",
              "        const docLink = document.createElement('div');\n",
              "        docLink.innerHTML = docLinkHtml;\n",
              "        element.appendChild(docLink);\n",
              "      }\n",
              "    </script>\n",
              "  </div>\n",
              "\n",
              "\n",
              "<div id=\"df-f3af0a31-d9c1-413b-8dff-739c4854c77f\">\n",
              "  <button class=\"colab-df-quickchart\" onclick=\"quickchart('df-f3af0a31-d9c1-413b-8dff-739c4854c77f')\"\n",
              "            title=\"Suggest charts\"\n",
              "            style=\"display:none;\">\n",
              "\n",
              "<svg xmlns=\"http://www.w3.org/2000/svg\" height=\"24px\"viewBox=\"0 0 24 24\"\n",
              "     width=\"24px\">\n",
              "    <g>\n",
              "        <path d=\"M19 3H5c-1.1 0-2 .9-2 2v14c0 1.1.9 2 2 2h14c1.1 0 2-.9 2-2V5c0-1.1-.9-2-2-2zM9 17H7v-7h2v7zm4 0h-2V7h2v10zm4 0h-2v-4h2v4z\"/>\n",
              "    </g>\n",
              "</svg>\n",
              "  </button>\n",
              "\n",
              "<style>\n",
              "  .colab-df-quickchart {\n",
              "      --bg-color: #E8F0FE;\n",
              "      --fill-color: #1967D2;\n",
              "      --hover-bg-color: #E2EBFA;\n",
              "      --hover-fill-color: #174EA6;\n",
              "      --disabled-fill-color: #AAA;\n",
              "      --disabled-bg-color: #DDD;\n",
              "  }\n",
              "\n",
              "  [theme=dark] .colab-df-quickchart {\n",
              "      --bg-color: #3B4455;\n",
              "      --fill-color: #D2E3FC;\n",
              "      --hover-bg-color: #434B5C;\n",
              "      --hover-fill-color: #FFFFFF;\n",
              "      --disabled-bg-color: #3B4455;\n",
              "      --disabled-fill-color: #666;\n",
              "  }\n",
              "\n",
              "  .colab-df-quickchart {\n",
              "    background-color: var(--bg-color);\n",
              "    border: none;\n",
              "    border-radius: 50%;\n",
              "    cursor: pointer;\n",
              "    display: none;\n",
              "    fill: var(--fill-color);\n",
              "    height: 32px;\n",
              "    padding: 0;\n",
              "    width: 32px;\n",
              "  }\n",
              "\n",
              "  .colab-df-quickchart:hover {\n",
              "    background-color: var(--hover-bg-color);\n",
              "    box-shadow: 0 1px 2px rgba(60, 64, 67, 0.3), 0 1px 3px 1px rgba(60, 64, 67, 0.15);\n",
              "    fill: var(--button-hover-fill-color);\n",
              "  }\n",
              "\n",
              "  .colab-df-quickchart-complete:disabled,\n",
              "  .colab-df-quickchart-complete:disabled:hover {\n",
              "    background-color: var(--disabled-bg-color);\n",
              "    fill: var(--disabled-fill-color);\n",
              "    box-shadow: none;\n",
              "  }\n",
              "\n",
              "  .colab-df-spinner {\n",
              "    border: 2px solid var(--fill-color);\n",
              "    border-color: transparent;\n",
              "    border-bottom-color: var(--fill-color);\n",
              "    animation:\n",
              "      spin 1s steps(1) infinite;\n",
              "  }\n",
              "\n",
              "  @keyframes spin {\n",
              "    0% {\n",
              "      border-color: transparent;\n",
              "      border-bottom-color: var(--fill-color);\n",
              "      border-left-color: var(--fill-color);\n",
              "    }\n",
              "    20% {\n",
              "      border-color: transparent;\n",
              "      border-left-color: var(--fill-color);\n",
              "      border-top-color: var(--fill-color);\n",
              "    }\n",
              "    30% {\n",
              "      border-color: transparent;\n",
              "      border-left-color: var(--fill-color);\n",
              "      border-top-color: var(--fill-color);\n",
              "      border-right-color: var(--fill-color);\n",
              "    }\n",
              "    40% {\n",
              "      border-color: transparent;\n",
              "      border-right-color: var(--fill-color);\n",
              "      border-top-color: var(--fill-color);\n",
              "    }\n",
              "    60% {\n",
              "      border-color: transparent;\n",
              "      border-right-color: var(--fill-color);\n",
              "    }\n",
              "    80% {\n",
              "      border-color: transparent;\n",
              "      border-right-color: var(--fill-color);\n",
              "      border-bottom-color: var(--fill-color);\n",
              "    }\n",
              "    90% {\n",
              "      border-color: transparent;\n",
              "      border-bottom-color: var(--fill-color);\n",
              "    }\n",
              "  }\n",
              "</style>\n",
              "\n",
              "  <script>\n",
              "    async function quickchart(key) {\n",
              "      const quickchartButtonEl =\n",
              "        document.querySelector('#' + key + ' button');\n",
              "      quickchartButtonEl.disabled = true;  // To prevent multiple clicks.\n",
              "      quickchartButtonEl.classList.add('colab-df-spinner');\n",
              "      try {\n",
              "        const charts = await google.colab.kernel.invokeFunction(\n",
              "            'suggestCharts', [key], {});\n",
              "      } catch (error) {\n",
              "        console.error('Error during call to suggestCharts:', error);\n",
              "      }\n",
              "      quickchartButtonEl.classList.remove('colab-df-spinner');\n",
              "      quickchartButtonEl.classList.add('colab-df-quickchart-complete');\n",
              "    }\n",
              "    (() => {\n",
              "      let quickchartButtonEl =\n",
              "        document.querySelector('#df-f3af0a31-d9c1-413b-8dff-739c4854c77f button');\n",
              "      quickchartButtonEl.style.display =\n",
              "        google.colab.kernel.accessAllowed ? 'block' : 'none';\n",
              "    })();\n",
              "  </script>\n",
              "</div>\n",
              "\n",
              "    </div>\n",
              "  </div>\n"
            ],
            "text/plain": [
              "                id  vendor_id      pickup_datetime     dropoff_datetime  \\\n",
              "62809    id1167708          1  2016-03-02 13:52:21  2016-03-02 14:02:35   \n",
              "615852   id1976397          1  2016-03-22 22:04:43  2016-03-22 22:12:12   \n",
              "563192   id2533997          1  2016-03-29 23:03:19  2016-03-29 23:12:48   \n",
              "399963   id0780563          2  2016-05-05 19:35:18  2016-05-05 20:07:11   \n",
              "1037231  id1480308          2  2016-03-08 09:17:29  2016-03-08 09:35:07   \n",
              "\n",
              "         passenger_count  pickup_longitude  pickup_latitude  \\\n",
              "62809                  1        -73.968315        40.786858   \n",
              "615852                 1        -73.957779        40.765331   \n",
              "563192                 1        -73.981331        40.780979   \n",
              "399963                 3        -73.990112        40.750881   \n",
              "1037231                1        -74.015930        40.711151   \n",
              "\n",
              "         dropoff_longitude  dropoff_latitude store_and_fwd_flag  trip_duration  \n",
              "62809           -73.960136         40.771366                  N            614  \n",
              "615852          -73.954948         40.788361                  Y            449  \n",
              "563192          -73.967682         40.766949                  N            569  \n",
              "399963          -74.011070         40.715012                  N           1913  \n",
              "1037231         -73.992111         40.725269                  N           1058  "
            ]
          },
          "execution_count": 1306,
          "metadata": {},
          "output_type": "execute_result"
        }
      ],
      "source": [
        "# find randamly data\n",
        "taxi.sample(5)"
      ]
    },
    {
      "cell_type": "markdown",
      "metadata": {
        "id": "7hBIi_osiCS2"
      },
      "source": [
        "### Dataset Rows & Columns count"
      ]
    },
    {
      "cell_type": "code",
      "execution_count": null,
      "metadata": {
        "colab": {
          "background_save": true
        },
        "id": "Kllu7SJgmLij",
        "outputId": "f12731ca-ffda-497a-b2e7-7f98273f0380"
      },
      "outputs": [
        {
          "data": {
            "text/plain": [
              "(1458644, 11)"
            ]
          },
          "execution_count": 1307,
          "metadata": {},
          "output_type": "execute_result"
        }
      ],
      "source": [
        "# Dataset Rows & Columns count\n",
        "taxi.shape"
      ]
    },
    {
      "cell_type": "markdown",
      "metadata": {
        "id": "_AgRX80ITMdA"
      },
      "source": [
        "### 1458644 Rowa available in the dataset\n",
        "### 11 columns are available in the dataset"
      ]
    },
    {
      "cell_type": "markdown",
      "metadata": {
        "id": "JlHwYmJAmNHm"
      },
      "source": [
        "### Dataset Information"
      ]
    },
    {
      "cell_type": "code",
      "execution_count": null,
      "metadata": {
        "colab": {
          "background_save": true
        },
        "id": "e9hRXRi6meOf",
        "outputId": "a92e55df-77e7-4a0c-a3a4-c917415363c1"
      },
      "outputs": [
        {
          "name": "stdout",
          "output_type": "stream",
          "text": [
            "<class 'pandas.core.frame.DataFrame'>\n",
            "RangeIndex: 1458644 entries, 0 to 1458643\n",
            "Data columns (total 11 columns):\n",
            " #   Column              Non-Null Count    Dtype  \n",
            "---  ------              --------------    -----  \n",
            " 0   id                  1458644 non-null  object \n",
            " 1   vendor_id           1458644 non-null  int64  \n",
            " 2   pickup_datetime     1458644 non-null  object \n",
            " 3   dropoff_datetime    1458644 non-null  object \n",
            " 4   passenger_count     1458644 non-null  int64  \n",
            " 5   pickup_longitude    1458644 non-null  float64\n",
            " 6   pickup_latitude     1458644 non-null  float64\n",
            " 7   dropoff_longitude   1458644 non-null  float64\n",
            " 8   dropoff_latitude    1458644 non-null  float64\n",
            " 9   store_and_fwd_flag  1458644 non-null  object \n",
            " 10  trip_duration       1458644 non-null  int64  \n",
            "dtypes: float64(4), int64(3), object(4)\n",
            "memory usage: 122.4+ MB\n"
          ]
        }
      ],
      "source": [
        "# Dataset Info\n",
        "taxi.info()"
      ]
    },
    {
      "cell_type": "markdown",
      "metadata": {
        "id": "1Jfoqsi2UZDl"
      },
      "source": [
        "\n",
        "\n",
        "1.   **Not null** in the dataset\n",
        "2.   id, pickup_datetime ,dropoff_datetime and store_and_fwd_flag are **Objects** data type\n",
        "3.   vendor_id, passenger_count and trip_duration are **Int64** data type\n",
        "4.   pickup_longitude, pickup_latitude, dropoff_longitude and dropoff_latitude are **Float** type data\n",
        "\n"
      ]
    },
    {
      "cell_type": "markdown",
      "metadata": {
        "id": "35m5QtbWiB9F"
      },
      "source": [
        "#### Duplicate Values"
      ]
    },
    {
      "cell_type": "code",
      "execution_count": null,
      "metadata": {
        "colab": {
          "background_save": true
        },
        "id": "1sLdpKYkmox0",
        "outputId": "1468e890-ee71-4cf1-f34d-903514d5df3f"
      },
      "outputs": [
        {
          "data": {
            "text/plain": [
              "0"
            ]
          },
          "execution_count": 1309,
          "metadata": {},
          "output_type": "execute_result"
        }
      ],
      "source": [
        "# Dataset Duplicate Value Count\n",
        "taxi.duplicated().sum()"
      ]
    },
    {
      "cell_type": "code",
      "execution_count": null,
      "metadata": {
        "colab": {
          "background_save": true
        },
        "id": "QzWanauxY3WZ",
        "outputId": "994707e6-04b0-407f-b926-a7711cccf393"
      },
      "outputs": [
        {
          "data": {
            "text/plain": [
              "0"
            ]
          },
          "execution_count": 1310,
          "metadata": {},
          "output_type": "execute_result"
        }
      ],
      "source": [
        "len(taxi[taxi.duplicated()])"
      ]
    },
    {
      "cell_type": "markdown",
      "metadata": {
        "id": "z4uEGz1GWdUr"
      },
      "source": [
        "### No Duplicate data in the dataset"
      ]
    },
    {
      "cell_type": "markdown",
      "metadata": {
        "id": "PoPl-ycgm1ru"
      },
      "source": [
        "#### Missing Values/Null Values"
      ]
    },
    {
      "cell_type": "code",
      "execution_count": null,
      "metadata": {
        "colab": {
          "background_save": true
        },
        "id": "GgHWkxvamxVg",
        "outputId": "f816bcb1-397c-4d88-d409-f73c598694b4"
      },
      "outputs": [
        {
          "data": {
            "text/html": [
              "<div>\n",
              "<style scoped>\n",
              "    .dataframe tbody tr th:only-of-type {\n",
              "        vertical-align: middle;\n",
              "    }\n",
              "\n",
              "    .dataframe tbody tr th {\n",
              "        vertical-align: top;\n",
              "    }\n",
              "\n",
              "    .dataframe thead th {\n",
              "        text-align: right;\n",
              "    }\n",
              "</style>\n",
              "<table border=\"1\" class=\"dataframe\">\n",
              "  <thead>\n",
              "    <tr style=\"text-align: right;\">\n",
              "      <th></th>\n",
              "      <th>0</th>\n",
              "    </tr>\n",
              "  </thead>\n",
              "  <tbody>\n",
              "    <tr>\n",
              "      <th>id</th>\n",
              "      <td>0</td>\n",
              "    </tr>\n",
              "    <tr>\n",
              "      <th>vendor_id</th>\n",
              "      <td>0</td>\n",
              "    </tr>\n",
              "    <tr>\n",
              "      <th>pickup_datetime</th>\n",
              "      <td>0</td>\n",
              "    </tr>\n",
              "    <tr>\n",
              "      <th>dropoff_datetime</th>\n",
              "      <td>0</td>\n",
              "    </tr>\n",
              "    <tr>\n",
              "      <th>passenger_count</th>\n",
              "      <td>0</td>\n",
              "    </tr>\n",
              "    <tr>\n",
              "      <th>pickup_longitude</th>\n",
              "      <td>0</td>\n",
              "    </tr>\n",
              "    <tr>\n",
              "      <th>pickup_latitude</th>\n",
              "      <td>0</td>\n",
              "    </tr>\n",
              "    <tr>\n",
              "      <th>dropoff_longitude</th>\n",
              "      <td>0</td>\n",
              "    </tr>\n",
              "    <tr>\n",
              "      <th>dropoff_latitude</th>\n",
              "      <td>0</td>\n",
              "    </tr>\n",
              "    <tr>\n",
              "      <th>store_and_fwd_flag</th>\n",
              "      <td>0</td>\n",
              "    </tr>\n",
              "    <tr>\n",
              "      <th>trip_duration</th>\n",
              "      <td>0</td>\n",
              "    </tr>\n",
              "  </tbody>\n",
              "</table>\n",
              "</div><br><label><b>dtype:</b> int64</label>"
            ],
            "text/plain": [
              "id                    0\n",
              "vendor_id             0\n",
              "pickup_datetime       0\n",
              "dropoff_datetime      0\n",
              "passenger_count       0\n",
              "pickup_longitude      0\n",
              "pickup_latitude       0\n",
              "dropoff_longitude     0\n",
              "dropoff_latitude      0\n",
              "store_and_fwd_flag    0\n",
              "trip_duration         0\n",
              "dtype: int64"
            ]
          },
          "execution_count": 1311,
          "metadata": {},
          "output_type": "execute_result"
        }
      ],
      "source": [
        "# Missing Values/Null Values Count\n",
        "taxi.isnull().sum()"
      ]
    },
    {
      "cell_type": "markdown",
      "metadata": {
        "id": "YuyhBaFaWzmJ"
      },
      "source": [
        "### No Missing values in the dataset"
      ]
    },
    {
      "cell_type": "code",
      "execution_count": null,
      "metadata": {
        "colab": {
          "background_save": true
        },
        "id": "3q5wnI3om9sJ"
      },
      "outputs": [],
      "source": [
        "# Visualizing the missing values"
      ]
    },
    {
      "cell_type": "code",
      "execution_count": null,
      "metadata": {
        "id": "AVZmEHwUZK0I"
      },
      "outputs": [],
      "source": [
        "plt.figure(figsize=(12, 6))\n",
        "sns.heatmap(taxi.isnull(), cmap='viridis', cbar=False, yticklabels=False)\n",
        "\n",
        "# Rotating x-axis labels for better readability\n",
        "plt.xticks(rotation=45, ha='right')\n",
        "\n",
        "plt.title('Missing Values Heatmap')\n",
        "plt.show()"
      ]
    },
    {
      "cell_type": "markdown",
      "metadata": {
        "id": "H0kj-8xxnORC"
      },
      "source": [
        "### What did you know about your dataset?"
      ]
    },
    {
      "cell_type": "markdown",
      "metadata": {
        "id": "gfoNAAC-nUe_"
      },
      "source": [
        "1. 1458644 Rowa available in the dataset\n",
        "2. 11 columns are available in the dataset\n",
        "3.   **Not null** in the dataset\n",
        "4.   id, pickup_datetime ,dropoff_datetime and store_and_fwd_flag are **Objects** data type\n",
        "5.   vendor_id, passenger_count and trip_duration are **Int64** data type\n",
        "6.   pickup_longitude, pickup_latitude, dropoff_longitude and dropoff_latitude are **Float** type data\n",
        "7.  No Duplicate data in the dataset\n",
        "8.  No Missing values or null values in the dataset"
      ]
    },
    {
      "cell_type": "markdown",
      "metadata": {
        "id": "nA9Y7ga8ng1Z"
      },
      "source": [
        "## ***2. Understanding Your Variables***"
      ]
    },
    {
      "cell_type": "code",
      "execution_count": null,
      "metadata": {
        "id": "j7xfkqrt5Ag5"
      },
      "outputs": [],
      "source": [
        "# Dataset Columns\n",
        "taxi.columns"
      ]
    },
    {
      "cell_type": "markdown",
      "metadata": {
        "id": "gqgwUCOicLW-"
      },
      "source": [
        "\n",
        "## **Columns name**\n",
        "\n",
        "### There are 11 columns in the dataset\n",
        "#### id, vendor_id, pickup_datetime, dropoff_datetime, passenger_count pickup_longitude, pickup_latitude, dropoff_longitude, dropoff_latitude, store_and_fwd_flag, trip_duration\n",
        "\n"
      ]
    },
    {
      "cell_type": "markdown",
      "metadata": {
        "id": "qfYgVWl5u8WO"
      },
      "source": [
        "### **Before decribe the data convert datetime format on columns pickup_datetime and dropoff_datetime**"
      ]
    },
    {
      "cell_type": "code",
      "execution_count": null,
      "metadata": {
        "id": "YjqCRi-IsGd9"
      },
      "outputs": [],
      "source": [
        "taxi['pickup_datetime'] = pd.to_datetime(taxi['pickup_datetime'], format='ISO8601')"
      ]
    },
    {
      "cell_type": "code",
      "execution_count": null,
      "metadata": {
        "id": "JG5BJaHysGaX"
      },
      "outputs": [],
      "source": [
        "taxi['dropoff_datetime'] = pd.to_datetime(taxi['dropoff_datetime'], format='ISO8601')\n"
      ]
    },
    {
      "cell_type": "code",
      "execution_count": null,
      "metadata": {
        "id": "q6RR_pGhsGYO"
      },
      "outputs": [],
      "source": [
        "#After convert then find datatype\n",
        "taxi.info()"
      ]
    },
    {
      "cell_type": "code",
      "execution_count": null,
      "metadata": {
        "id": "DnOaZdaE5Q5t"
      },
      "outputs": [],
      "source": [
        "# Dataset Describe only numerical values\n",
        "taxi.describe()"
      ]
    },
    {
      "cell_type": "code",
      "execution_count": null,
      "metadata": {
        "id": "1X4wL1sea6st"
      },
      "outputs": [],
      "source": [
        "# Dataset Describe with numerical and categorical values\n",
        "taxi.describe(include='all')"
      ]
    },
    {
      "cell_type": "markdown",
      "metadata": {
        "id": "PBTbrJXOngz2"
      },
      "source": [
        "### Variables Description"
      ]
    },
    {
      "cell_type": "markdown",
      "metadata": {
        "id": "aJV4KIxSnxay"
      },
      "source": [
        "### All Variables are normal but two variable are some outlayer ( **passenger_count, trip_duration** )"
      ]
    },
    {
      "cell_type": "markdown",
      "metadata": {
        "id": "u3PMJOP6ngxN"
      },
      "source": [
        "### find Unique Values for each variable."
      ]
    },
    {
      "cell_type": "code",
      "execution_count": null,
      "metadata": {
        "id": "zms12Yq5n-jE"
      },
      "outputs": [],
      "source": [
        "# find Unique Values for each variable."
      ]
    },
    {
      "cell_type": "markdown",
      "metadata": {
        "id": "7il8fDH6xHeT"
      },
      "source": [
        "### find Unique data in ID columns"
      ]
    },
    {
      "cell_type": "code",
      "execution_count": null,
      "metadata": {
        "id": "rq_7rhqWwvxl"
      },
      "outputs": [],
      "source": [
        "taxi['id'].unique()"
      ]
    },
    {
      "cell_type": "code",
      "execution_count": null,
      "metadata": {
        "id": "j3W3tWtGwvug"
      },
      "outputs": [],
      "source": [
        "taxi['id'].nunique()"
      ]
    },
    {
      "cell_type": "markdown",
      "metadata": {
        "id": "acyRAp4DxR8H"
      },
      "source": [
        "### find unique data in vendor_id columns"
      ]
    },
    {
      "cell_type": "code",
      "execution_count": null,
      "metadata": {
        "id": "7QvMN8GAwvri"
      },
      "outputs": [],
      "source": [
        "taxi['vendor_id'].unique()"
      ]
    },
    {
      "cell_type": "code",
      "execution_count": null,
      "metadata": {
        "id": "vWt_Z78ywvpe"
      },
      "outputs": [],
      "source": [
        "taxi['vendor_id'].nunique()"
      ]
    },
    {
      "cell_type": "markdown",
      "metadata": {
        "id": "4fnB_vsTx7Pw"
      },
      "source": [
        "### find unique data in pickup_datetime columns"
      ]
    },
    {
      "cell_type": "code",
      "execution_count": null,
      "metadata": {
        "id": "Pbd4HBbIwvm-"
      },
      "outputs": [],
      "source": [
        "taxi['pickup_datetime'].unique()"
      ]
    },
    {
      "cell_type": "code",
      "execution_count": null,
      "metadata": {
        "id": "TCxlmm-3wvjF"
      },
      "outputs": [],
      "source": [
        "taxi['pickup_datetime'].nunique()"
      ]
    },
    {
      "cell_type": "markdown",
      "metadata": {
        "id": "KYyPzQxFyCIC"
      },
      "source": [
        "### find unique data in drop_datetime columns"
      ]
    },
    {
      "cell_type": "code",
      "execution_count": null,
      "metadata": {
        "id": "NxJRDCVgwvfs"
      },
      "outputs": [],
      "source": [
        "taxi['dropoff_datetime'].unique()"
      ]
    },
    {
      "cell_type": "code",
      "execution_count": null,
      "metadata": {
        "id": "TOXbSnwxwvdQ"
      },
      "outputs": [],
      "source": [
        "taxi['dropoff_datetime'].nunique()"
      ]
    },
    {
      "cell_type": "markdown",
      "metadata": {
        "id": "JivyeMzxynFY"
      },
      "source": [
        "### find unique data in passenger_count columns"
      ]
    },
    {
      "cell_type": "code",
      "execution_count": null,
      "metadata": {
        "id": "oQnxbIIFyU_0"
      },
      "outputs": [],
      "source": [
        "taxi['passenger_count'].unique()"
      ]
    },
    {
      "cell_type": "code",
      "execution_count": null,
      "metadata": {
        "id": "Zo7tCVOdyU9-"
      },
      "outputs": [],
      "source": [
        "taxi['passenger_count'].nunique()"
      ]
    },
    {
      "cell_type": "markdown",
      "metadata": {
        "id": "93B4sCQhzGfS"
      },
      "source": [
        "### find unique data in pickup_lomgitude columns"
      ]
    },
    {
      "cell_type": "code",
      "execution_count": null,
      "metadata": {
        "id": "s5pXfyjZyU8D"
      },
      "outputs": [],
      "source": [
        "taxi['pickup_longitude'].unique()"
      ]
    },
    {
      "cell_type": "code",
      "execution_count": null,
      "metadata": {
        "id": "UuEFzbXAyU4x"
      },
      "outputs": [],
      "source": [
        "taxi['pickup_longitude'].nunique()"
      ]
    },
    {
      "cell_type": "markdown",
      "metadata": {
        "id": "paKtKbzQzQhi"
      },
      "source": [
        "### find unique data in pickup_latitude columns"
      ]
    },
    {
      "cell_type": "code",
      "execution_count": null,
      "metadata": {
        "id": "DupCnVxwyU1o"
      },
      "outputs": [],
      "source": [
        "taxi['pickup_latitude'].unique()"
      ]
    },
    {
      "cell_type": "code",
      "execution_count": null,
      "metadata": {
        "id": "nXuuGR6syUzc"
      },
      "outputs": [],
      "source": [
        "taxi['pickup_latitude'].nunique()"
      ]
    },
    {
      "cell_type": "markdown",
      "metadata": {
        "id": "2viAvLJ-zoAF"
      },
      "source": [
        "### find unique data in drop_langitude columns"
      ]
    },
    {
      "cell_type": "code",
      "execution_count": null,
      "metadata": {
        "id": "guDo3t28zltT"
      },
      "outputs": [],
      "source": [
        "taxi['dropoff_longitude'].nunique()"
      ]
    },
    {
      "cell_type": "code",
      "execution_count": null,
      "metadata": {
        "id": "aKbdl_Zwzlp7"
      },
      "outputs": [],
      "source": [
        "taxi['dropoff_longitude'].unique()"
      ]
    },
    {
      "cell_type": "markdown",
      "metadata": {
        "id": "3aLbm7JRz6xx"
      },
      "source": [
        "### find unique data in drop_latitude columns"
      ]
    },
    {
      "cell_type": "code",
      "execution_count": null,
      "metadata": {
        "id": "N74C7o9-zlnJ"
      },
      "outputs": [],
      "source": [
        "taxi['dropoff_latitude'].unique()"
      ]
    },
    {
      "cell_type": "code",
      "execution_count": null,
      "metadata": {
        "id": "opPO1yNLzlkl"
      },
      "outputs": [],
      "source": [
        "taxi['dropoff_latitude'].nunique()"
      ]
    },
    {
      "cell_type": "markdown",
      "metadata": {
        "id": "SJ-fcEqi0Nwk"
      },
      "source": [
        "### find unique data in store_and_fws_flag columns"
      ]
    },
    {
      "cell_type": "code",
      "execution_count": null,
      "metadata": {
        "id": "w4wqkri1zliC"
      },
      "outputs": [],
      "source": [
        "taxi['store_and_fwd_flag'].unique()"
      ]
    },
    {
      "cell_type": "code",
      "execution_count": null,
      "metadata": {
        "id": "uq3SGU6o0boC"
      },
      "outputs": [],
      "source": [
        "taxi['store_and_fwd_flag'].nunique()"
      ]
    },
    {
      "cell_type": "markdown",
      "metadata": {
        "id": "rP79xaIx0qAk"
      },
      "source": [
        "### find unique data in trip_duration columns"
      ]
    },
    {
      "cell_type": "code",
      "execution_count": null,
      "metadata": {
        "id": "k7skH8Pt0bU5"
      },
      "outputs": [],
      "source": [
        "taxi['trip_duration'].unique()"
      ]
    },
    {
      "cell_type": "code",
      "execution_count": null,
      "metadata": {
        "id": "EFsyM3cj0nXy"
      },
      "outputs": [],
      "source": [
        "taxi['trip_duration'].nunique()"
      ]
    },
    {
      "cell_type": "code",
      "execution_count": null,
      "metadata": {
        "id": "nB82RFV9dt6y"
      },
      "outputs": [],
      "source": [
        "for col in taxi.columns:\n",
        "  uq_values = taxi[col].nunique()\n",
        "  print(f\"Unique values in column {col} : {uq_values}\")"
      ]
    },
    {
      "cell_type": "markdown",
      "metadata": {
        "id": "dauF4eBmngu3"
      },
      "source": [
        "## 3. ***Data Wrangling***"
      ]
    },
    {
      "cell_type": "markdown",
      "metadata": {
        "id": "bKJF3rekwFvQ"
      },
      "source": [
        "### Data Wrangling Code"
      ]
    },
    {
      "cell_type": "code",
      "execution_count": null,
      "metadata": {
        "id": "wk-9a2fpoLcV"
      },
      "outputs": [],
      "source": [
        "# Write your code to make your dataset analysis ready.\n",
        "taxi.sample(5)"
      ]
    },
    {
      "cell_type": "markdown",
      "metadata": {
        "id": "PXDrkcw2fNNT"
      },
      "source": [
        "### **Univariate analysis**"
      ]
    },
    {
      "cell_type": "code",
      "execution_count": null,
      "metadata": {
        "id": "7HgYnTEpe5i7"
      },
      "outputs": [],
      "source": [
        "# vendor_id analysis\n",
        "taxi['vendor_id'].value_counts().reset_index()"
      ]
    },
    {
      "cell_type": "markdown",
      "metadata": {
        "id": "R2gaeUidfmho"
      },
      "source": [
        "### There are two vendor\n",
        "\n",
        "\n",
        "1.   vendor 1 is = 678342\n",
        "2.   vendor 2 is = 780302\n",
        "\n",
        "**Note:** Almost balanced data of vendor id\n",
        "\n"
      ]
    },
    {
      "cell_type": "markdown",
      "metadata": {
        "id": "6c2DIsHlkouR"
      },
      "source": [
        "### Passenger_count analysis"
      ]
    },
    {
      "cell_type": "code",
      "execution_count": null,
      "metadata": {
        "id": "Ho0wW1Qhe5fg"
      },
      "outputs": [],
      "source": [
        "taxi['passenger_count'].value_counts().reset_index()"
      ]
    },
    {
      "cell_type": "code",
      "execution_count": null,
      "metadata": {
        "id": "z5Zp2tKRlETj"
      },
      "outputs": [],
      "source": [
        "taxi['passenger_count'].min()"
      ]
    },
    {
      "cell_type": "code",
      "execution_count": null,
      "metadata": {
        "id": "rOYzCJ5klEQE"
      },
      "outputs": [],
      "source": [
        "taxi['passenger_count'].max()"
      ]
    },
    {
      "cell_type": "code",
      "execution_count": null,
      "metadata": {
        "id": "hcWO7KDQlEMw"
      },
      "outputs": [],
      "source": [
        "taxi['passenger_count'].mean()"
      ]
    },
    {
      "cell_type": "code",
      "execution_count": null,
      "metadata": {
        "id": "wK30SwBbkwgN"
      },
      "outputs": [],
      "source": [
        "taxi['passenger_count'].describe()"
      ]
    },
    {
      "cell_type": "markdown",
      "metadata": {
        "id": "Rn4v-eSeijoy"
      },
      "source": [
        "### Passenger_count unbalanced data set and some outlayer in the dataset\n",
        "\n",
        "**Passenger Count:** The number of passengers in the taxi during the ride minimum 0 passenger , maximum 9 passenger , average on 1.66 and 25% to 75% 1 to 2 passenger tarveling during the ride.\n"
      ]
    },
    {
      "cell_type": "code",
      "execution_count": null,
      "metadata": {
        "id": "D6suyd1Re5dV"
      },
      "outputs": [],
      "source": [
        "#Store and Forward Flag columns analysis\n",
        "taxi['store_and_fwd_flag'].value_counts().reset_index()"
      ]
    },
    {
      "cell_type": "markdown",
      "metadata": {
        "id": "OnNbVAC_jCzJ"
      },
      "source": [
        "### Store and Forward Flag: Indicates whether the trip record was held in the taxi’s memory before sending to the vendor (for instances when the vehicle was outside network coverage).\n",
        "\n",
        "\n",
        "\n",
        "1.   Unblanced dataset\n",
        "2.   There are two data count one is Yes and two is No\n",
        "\n"
      ]
    },
    {
      "cell_type": "code",
      "execution_count": null,
      "metadata": {
        "id": "pvU_CnzHe5YY"
      },
      "outputs": [],
      "source": [
        "# Trip Duration analysis\n",
        "taxi['trip_duration'].value_counts().reset_index()"
      ]
    },
    {
      "cell_type": "code",
      "execution_count": null,
      "metadata": {
        "id": "YsVywkcve5WB"
      },
      "outputs": [],
      "source": [
        "taxi['trip_duration'].min()"
      ]
    },
    {
      "cell_type": "code",
      "execution_count": null,
      "metadata": {
        "id": "9rJ2fkxye5TM"
      },
      "outputs": [],
      "source": [
        "taxi['trip_duration'].max()"
      ]
    },
    {
      "cell_type": "code",
      "execution_count": null,
      "metadata": {
        "id": "nlEqen2Ie5Q1"
      },
      "outputs": [],
      "source": [
        "taxi['trip_duration'].mean()"
      ]
    },
    {
      "cell_type": "code",
      "execution_count": null,
      "metadata": {
        "id": "3gsEFT-8e5OY"
      },
      "outputs": [],
      "source": [
        "taxi['trip_duration'].describe()"
      ]
    },
    {
      "cell_type": "markdown",
      "metadata": {
        "id": "nPY0d3m1ohbc"
      },
      "source": [
        "### **Trip Distance:** The distance covered during the trip, typically in miles.\n",
        "\n",
        "\n",
        "\n",
        "1.   Trip Distance dataset in the some outlayer\n",
        "2.   Trip Distance Inblanced dataset\n",
        "3.   maximum distance 35 lakh miles.\n",
        "4.   minimum distance 1 miles.\n",
        "\n",
        "\n"
      ]
    },
    {
      "cell_type": "markdown",
      "metadata": {
        "id": "vrDq2B_qygIX"
      },
      "source": [
        "### **Date and Time Analysis**"
      ]
    },
    {
      "cell_type": "code",
      "execution_count": null,
      "metadata": {
        "id": "VaS-POJ9yl5n"
      },
      "outputs": [],
      "source": [
        "## Calculate the Duration\n",
        "taxi['duration'] = (taxi['dropoff_datetime'] - taxi['pickup_datetime']).dt.total_seconds() / 60  # Duration in minutes"
      ]
    },
    {
      "cell_type": "code",
      "execution_count": null,
      "metadata": {
        "id": "VyfJ0tkRyl2M"
      },
      "outputs": [],
      "source": [
        "taxi['duration'].describe()"
      ]
    },
    {
      "cell_type": "code",
      "execution_count": null,
      "metadata": {
        "id": "Q5eB2Jf0e5Jv"
      },
      "outputs": [],
      "source": [
        "## pikup datetime dataanalysis of year extract\n",
        "taxi['pickup_datetime'].dt.year.value_counts().reset_index()"
      ]
    },
    {
      "cell_type": "code",
      "execution_count": null,
      "metadata": {
        "id": "w4q-TlzVe5Gu"
      },
      "outputs": [],
      "source": [
        "## pikup datetime dataanalysis of month extract\n",
        "taxi['pickup_datetime'].dt.month.value_counts().reset_index()"
      ]
    },
    {
      "cell_type": "code",
      "execution_count": null,
      "metadata": {
        "id": "yre1EkjNe5D-"
      },
      "outputs": [],
      "source": [
        "## pikup datetime dataanalysis of month name extract\n",
        "taxi['pickup_datetime'].dt.month_name().value_counts().reset_index()"
      ]
    },
    {
      "cell_type": "code",
      "execution_count": null,
      "metadata": {
        "id": "-Mr8g9P1tONP"
      },
      "outputs": [],
      "source": [
        "## pikup datetime dataanalysis of week day extract\n",
        "taxi['pickup_datetime'].dt.day_name().value_counts().reset_index()"
      ]
    },
    {
      "cell_type": "code",
      "execution_count": null,
      "metadata": {
        "id": "vqBdcnNBtOJ3"
      },
      "outputs": [],
      "source": [
        "## pikup datetime dataanalysis of quarter extract\n",
        "taxi['pickup_datetime'].dt.quarter.value_counts().reset_index()"
      ]
    },
    {
      "cell_type": "code",
      "execution_count": null,
      "metadata": {
        "id": "Q-kyAOmitOGw"
      },
      "outputs": [],
      "source": [
        "## pikup datetime dataanalysis of Hourly extract\n",
        "taxi['pickup_datetime'].dt.hour.value_counts().reset_index()"
      ]
    },
    {
      "cell_type": "code",
      "execution_count": null,
      "metadata": {
        "id": "hDMQt40owAbx"
      },
      "outputs": [],
      "source": [
        "## Drop datetime dataanalysis of Hourly extract\n",
        "taxi['dropoff_datetime'].dt.hour.value_counts().reset_index()"
      ]
    },
    {
      "cell_type": "code",
      "execution_count": null,
      "metadata": {
        "id": "i0A4UwdfwAZf"
      },
      "outputs": [],
      "source": [
        "## Drop datetime dataanalysis of year extract\n",
        "taxi['dropoff_datetime'].dt.year.value_counts().reset_index()"
      ]
    },
    {
      "cell_type": "code",
      "execution_count": null,
      "metadata": {
        "id": "xWAvkDgswAXK"
      },
      "outputs": [],
      "source": [
        "## Drop datetime dataanalysis of month_name extract\n",
        "taxi['dropoff_datetime'].dt.month_name().value_counts().reset_index()"
      ]
    },
    {
      "cell_type": "code",
      "execution_count": null,
      "metadata": {
        "id": "s-tco5hRwAU5"
      },
      "outputs": [],
      "source": [
        "## Drop datetime dataanalysis of day_name extract\n",
        "taxi['dropoff_datetime'].dt.day_name().value_counts().reset_index()"
      ]
    },
    {
      "cell_type": "code",
      "execution_count": null,
      "metadata": {
        "id": "GYM1F6_KwASZ"
      },
      "outputs": [],
      "source": [
        "## Drop datetime dataanalysis of quarter extract\n",
        "taxi['dropoff_datetime'].dt.quarter.value_counts().reset_index()"
      ]
    },
    {
      "cell_type": "markdown",
      "metadata": {
        "id": "y6rku9NP03mm"
      },
      "source": [
        "### **Pickup and Dropoff Datetimes:** Timestamps indicating when and where the ride started and ended.\n",
        "\n",
        "\n",
        "1.   Only 2016 data\n",
        "2.   two quarter 1 and 2\n",
        "3.   almost balanced dataset\n",
        "4.   only six month data janaury to june\n",
        "\n"
      ]
    },
    {
      "cell_type": "markdown",
      "metadata": {
        "id": "eeN0giP4282g"
      },
      "source": [
        "### **Latitude and longitude analysis**"
      ]
    },
    {
      "cell_type": "code",
      "execution_count": null,
      "metadata": {
        "id": "qtNWeU3N2JpX"
      },
      "outputs": [],
      "source": [
        "taxi[['pickup_longitude','pickup_latitude','dropoff_longitude', 'dropoff_latitude']].describe()"
      ]
    },
    {
      "cell_type": "markdown",
      "metadata": {
        "id": "0jh0apTI3ZYu"
      },
      "source": [
        "### **Pickup and Dropoff Locations:** Latitude and longitude coordinates, or taxi zones indicating where the ride began and ended.\n",
        "\n",
        "\n",
        "\n",
        "1.   almost balanced dataset and no outlayer\n",
        "\n",
        "\n",
        "\n"
      ]
    },
    {
      "cell_type": "markdown",
      "metadata": {
        "id": "lsQ776Tf4BH1"
      },
      "source": [
        "### **Trip Duration analysis**"
      ]
    },
    {
      "cell_type": "code",
      "execution_count": null,
      "metadata": {
        "id": "fieAPUjX2JjZ"
      },
      "outputs": [],
      "source": [
        "taxi['trip_duration'].value_counts().reset_index()"
      ]
    },
    {
      "cell_type": "code",
      "execution_count": null,
      "metadata": {
        "id": "22R6SZCn2Jgu"
      },
      "outputs": [],
      "source": [
        "taxi['trip_duration'].min()"
      ]
    },
    {
      "cell_type": "code",
      "execution_count": null,
      "metadata": {
        "id": "A1SRuk6k4xCK"
      },
      "outputs": [],
      "source": [
        "one_trip = taxi[taxi['trip_duration'] == 1]"
      ]
    },
    {
      "cell_type": "code",
      "execution_count": null,
      "metadata": {
        "id": "ArbO5v8M5mZ4"
      },
      "outputs": [],
      "source": [
        "one_trip.shape"
      ]
    },
    {
      "cell_type": "code",
      "execution_count": null,
      "metadata": {
        "id": "Ms2RyJkG2Jcy"
      },
      "outputs": [],
      "source": [
        "taxi['trip_duration'].max()"
      ]
    },
    {
      "cell_type": "code",
      "execution_count": null,
      "metadata": {
        "id": "8Ex8E9eS6gUI"
      },
      "outputs": [],
      "source": [
        "taxi[taxi['trip_duration'] == taxi['trip_duration'].max()].shape"
      ]
    },
    {
      "cell_type": "code",
      "execution_count": null,
      "metadata": {
        "id": "71OKagoM4cEP"
      },
      "outputs": [],
      "source": [
        "taxi['trip_duration'].mean()"
      ]
    },
    {
      "cell_type": "code",
      "execution_count": null,
      "metadata": {
        "id": "n9Gl2ta44cAm"
      },
      "outputs": [],
      "source": [
        "taxi['trip_duration'].describe()"
      ]
    },
    {
      "cell_type": "markdown",
      "metadata": {
        "id": "ub5i9eBP03hB"
      },
      "source": [
        "### **Trip Distance:** The distance covered during the trip, typically in miles. Other Metadata:\n",
        "\n",
        "\n",
        "\n",
        "1.   trip distance minimum 1 miles and maximum 35 lakh\n",
        "2.   some outlayer in the dataset\n",
        "3.   One miles trip distance data is 33\n",
        "4.   35 lakh miles trip distance data is 1\n",
        "\n"
      ]
    },
    {
      "cell_type": "markdown",
      "metadata": {
        "id": "j-ararg07CZe"
      },
      "source": [
        "## **Bivariate Analysis**"
      ]
    },
    {
      "cell_type": "markdown",
      "metadata": {
        "id": "etZ3-NDs8eaq"
      },
      "source": [
        "### Vendor_id and Trip Distance analysis"
      ]
    },
    {
      "cell_type": "code",
      "execution_count": null,
      "metadata": {
        "id": "CqhErYPo7Btp"
      },
      "outputs": [],
      "source": [
        "taxi.groupby('vendor_id')['trip_duration'].sum().reset_index()"
      ]
    },
    {
      "cell_type": "markdown",
      "metadata": {
        "id": "lYZ6wjqu8pav"
      },
      "source": [
        "### Inblanced data"
      ]
    },
    {
      "cell_type": "code",
      "execution_count": null,
      "metadata": {
        "id": "FGOCe_0e7Bq-"
      },
      "outputs": [],
      "source": [
        "# passenger_count and trip distance\n",
        "taxi.groupby('passenger_count')['trip_duration'].sum().reset_index()"
      ]
    },
    {
      "cell_type": "markdown",
      "metadata": {
        "id": "3SMm63U89T1F"
      },
      "source": [
        "## Inbalced data of passenger count and tri distance"
      ]
    },
    {
      "cell_type": "code",
      "execution_count": null,
      "metadata": {
        "id": "daNjTN3I7Bok"
      },
      "outputs": [],
      "source": [
        "# passenger_count and trip distance\n",
        "taxi.groupby('passenger_count')['duration'].sum().reset_index()"
      ]
    },
    {
      "cell_type": "code",
      "execution_count": null,
      "metadata": {
        "id": "eO3Wb0WW7BmQ"
      },
      "outputs": [],
      "source": [
        "# duration and trip distance\n",
        "taxi.groupby('duration')['trip_duration'].sum().reset_index()"
      ]
    },
    {
      "cell_type": "code",
      "execution_count": null,
      "metadata": {
        "id": "P7Bq_DWM7BhS"
      },
      "outputs": [],
      "source": [
        "# store_and_fwd_flag and trip distance\n",
        "taxi.groupby('store_and_fwd_flag')['trip_duration'].sum().reset_index()"
      ]
    },
    {
      "cell_type": "markdown",
      "metadata": {
        "id": "W3fDXnq9AJgS"
      },
      "source": [
        "### **Extract the year, month, day and hour**"
      ]
    },
    {
      "cell_type": "code",
      "execution_count": null,
      "metadata": {
        "id": "K73Ripd47BfE"
      },
      "outputs": [],
      "source": [
        "taxi['year'] = taxi['pickup_datetime'].dt.year\n",
        "taxi['month'] = taxi['pickup_datetime'].dt.month_name()\n",
        "taxi['week_name'] = taxi['pickup_datetime'].dt.day_name()\n",
        "taxi['quarter'] = taxi['pickup_datetime'].dt.quarter\n",
        "taxi['hour'] = taxi['pickup_datetime'].dt.hour\n",
        "taxi['weekend'] = taxi['week_name'].isin(['Saturday', 'Sunday'])\n",
        "taxi['week'] = taxi['week_name'].apply(lambda x: 'Weekend' if x == 'Saturday' or x == 'Sunday' else 'Weekdays')"
      ]
    },
    {
      "cell_type": "code",
      "execution_count": null,
      "metadata": {
        "id": "KRkJRzha7BaB"
      },
      "outputs": [],
      "source": [
        "# Yearly and trip distance analysis\n",
        "taxi.groupby('year')['trip_duration'].sum().reset_index()"
      ]
    },
    {
      "cell_type": "code",
      "execution_count": null,
      "metadata": {
        "id": "8aBVQSeg7BXk"
      },
      "outputs": [],
      "source": [
        "#Monthly and trip distance analysis\n",
        "taxi.groupby('month')['trip_duration'].sum().reset_index()"
      ]
    },
    {
      "cell_type": "code",
      "execution_count": null,
      "metadata": {
        "id": "Wn7z8DsE7BVS"
      },
      "outputs": [],
      "source": [
        "#weekly and trip distance analysis\n",
        "taxi.groupby('week_name')['trip_duration'].sum().reset_index()"
      ]
    },
    {
      "cell_type": "code",
      "execution_count": null,
      "metadata": {
        "id": "8Zqed-FkBIeb"
      },
      "outputs": [],
      "source": [
        "#Querterly and trip distance analysis\n",
        "taxi.groupby('quarter')['trip_duration'].sum().reset_index()"
      ]
    },
    {
      "cell_type": "code",
      "execution_count": null,
      "metadata": {
        "id": "-g8kbEWRBIbR"
      },
      "outputs": [],
      "source": [
        "#Hourly and trip distance analysis\n",
        "taxi.groupby('hour')['trip_duration'].sum().reset_index()"
      ]
    },
    {
      "cell_type": "code",
      "execution_count": null,
      "metadata": {
        "id": "OsT9oOnkBIY5"
      },
      "outputs": [],
      "source": [
        "#weekly and trip distance analysis\n",
        "taxi.groupby('week')['trip_duration'].sum().reset_index()"
      ]
    },
    {
      "cell_type": "code",
      "execution_count": null,
      "metadata": {
        "id": "iLMt_ravBIW1"
      },
      "outputs": [],
      "source": [
        "#weeken vs Trip Distance\n",
        "taxi.groupby('weekend')['trip_duration'].sum().reset_index()"
      ]
    },
    {
      "cell_type": "code",
      "execution_count": null,
      "metadata": {
        "id": "WnMvesbiBIT0"
      },
      "outputs": [],
      "source": [
        "taxi.groupby('weekend')['duration'].sum().reset_index()"
      ]
    },
    {
      "cell_type": "markdown",
      "metadata": {
        "id": "yG7CTwZ2C62j"
      },
      "source": [
        "## **multivariate analysis**"
      ]
    },
    {
      "cell_type": "markdown",
      "metadata": {
        "id": "P44WEw2CGv2f"
      },
      "source": [
        "### Remove weekend and week_name columns"
      ]
    },
    {
      "cell_type": "code",
      "execution_count": null,
      "metadata": {
        "id": "H9XSQGvNGL-m"
      },
      "outputs": [],
      "source": [
        "taxi.drop(columns=['weekend','week_name'], inplace=True)"
      ]
    },
    {
      "cell_type": "markdown",
      "metadata": {
        "id": "7utfNujBG4j-"
      },
      "source": [
        "### Vendor id , passenger and trip distance analysis"
      ]
    },
    {
      "cell_type": "code",
      "execution_count": null,
      "metadata": {
        "id": "8hSkO0eoCytz"
      },
      "outputs": [],
      "source": [
        "taxi.groupby(['vendor_id','passenger_count'])['trip_duration'].sum().unstack()"
      ]
    },
    {
      "cell_type": "markdown",
      "metadata": {
        "id": "T6KlL95lHD5G"
      },
      "source": [
        "Vendor id , Duration and trip distance analysis"
      ]
    },
    {
      "cell_type": "code",
      "execution_count": null,
      "metadata": {
        "id": "Y7Y7tYaNCyrp"
      },
      "outputs": [],
      "source": [
        "taxi.groupby(['vendor_id','duration'])['trip_duration'].sum().unstack()"
      ]
    },
    {
      "cell_type": "markdown",
      "metadata": {
        "id": "GjBVVPiwHMP3"
      },
      "source": [
        "#### Vendor id , month and trip distance analysis"
      ]
    },
    {
      "cell_type": "code",
      "execution_count": null,
      "metadata": {
        "id": "LlHbqkpZCypF"
      },
      "outputs": [],
      "source": [
        "taxi.groupby(['vendor_id','month'])['trip_duration'].sum().unstack()"
      ]
    },
    {
      "cell_type": "markdown",
      "metadata": {
        "id": "8dWUAHNAHRsC"
      },
      "source": [
        "Vendor id , week and trip distance analysis"
      ]
    },
    {
      "cell_type": "code",
      "execution_count": null,
      "metadata": {
        "id": "VxagSVDgCymj"
      },
      "outputs": [],
      "source": [
        "taxi.groupby(['vendor_id','week'])['trip_duration'].sum().unstack()"
      ]
    },
    {
      "cell_type": "markdown",
      "metadata": {
        "id": "fREcHaBnHVMg"
      },
      "source": [
        "#### Vendor id , year and trip distance analysis"
      ]
    },
    {
      "cell_type": "code",
      "execution_count": null,
      "metadata": {
        "id": "g06VZg-zCykF"
      },
      "outputs": [],
      "source": [
        "taxi.groupby(['vendor_id','year'])['trip_duration'].sum().unstack()"
      ]
    },
    {
      "cell_type": "markdown",
      "metadata": {
        "id": "djtqDMgxHZKZ"
      },
      "source": [
        "#### Vendor id , passenger , year and trip distance analysis"
      ]
    },
    {
      "cell_type": "code",
      "execution_count": null,
      "metadata": {
        "id": "vfG47HqgCyhs"
      },
      "outputs": [],
      "source": [
        "taxi.groupby(['vendor_id','passenger_count','year'])['trip_duration'].sum().unstack()"
      ]
    },
    {
      "cell_type": "markdown",
      "metadata": {
        "id": "VGKm4MHwHhks"
      },
      "source": [
        "#### Vendor id , passenger , month and trip distance analysis"
      ]
    },
    {
      "cell_type": "code",
      "execution_count": null,
      "metadata": {
        "id": "wNwzq_19CyfK"
      },
      "outputs": [],
      "source": [
        "taxi.groupby(['vendor_id','passenger_count','month'])['trip_duration'].sum().unstack()"
      ]
    },
    {
      "cell_type": "markdown",
      "metadata": {
        "id": "BSkXEpYoHmY2"
      },
      "source": [
        "#### Vendor id , passenger , week and trip distance analysis"
      ]
    },
    {
      "cell_type": "code",
      "execution_count": null,
      "metadata": {
        "id": "hjgJIFOlEuB3"
      },
      "outputs": [],
      "source": [
        "taxi.groupby(['vendor_id','passenger_count','week'])['trip_duration'].sum().unstack()"
      ]
    },
    {
      "cell_type": "markdown",
      "metadata": {
        "id": "-hNbOvAMHsNi"
      },
      "source": [
        "####Vendor id , passenger , quarter and trip distance analysis"
      ]
    },
    {
      "cell_type": "code",
      "execution_count": null,
      "metadata": {
        "id": "k1f1zqoWEt87"
      },
      "outputs": [],
      "source": [
        "taxi.groupby(['vendor_id','passenger_count','quarter'])['trip_duration'].sum().unstack()"
      ]
    },
    {
      "cell_type": "markdown",
      "metadata": {
        "id": "lZ-kI7ZBHxYA"
      },
      "source": [
        "#### Vendor id , hour and trip distance analysis"
      ]
    },
    {
      "cell_type": "code",
      "execution_count": null,
      "metadata": {
        "id": "HVQUHSs5Et6u"
      },
      "outputs": [],
      "source": [
        "taxi.groupby(['vendor_id','hour'])['trip_duration'].sum().unstack()"
      ]
    },
    {
      "cell_type": "markdown",
      "metadata": {
        "id": "kM8iWxwmH6WJ"
      },
      "source": [
        "### week , hour and trip distance analysis"
      ]
    },
    {
      "cell_type": "code",
      "execution_count": null,
      "metadata": {
        "id": "95xBDdhdEt4O"
      },
      "outputs": [],
      "source": [
        "taxi.groupby(['week','hour'])['trip_duration'].sum().unstack()"
      ]
    },
    {
      "cell_type": "markdown",
      "metadata": {
        "id": "ucNjjD_pH_Wp"
      },
      "source": [
        "###month , hour and trip distance analysis"
      ]
    },
    {
      "cell_type": "code",
      "execution_count": null,
      "metadata": {
        "id": "hJ9rl034Et16"
      },
      "outputs": [],
      "source": [
        "taxi.groupby(['month','hour'])['trip_duration'].sum().unstack()"
      ]
    },
    {
      "cell_type": "markdown",
      "metadata": {
        "id": "n_KjLgacIDck"
      },
      "source": [
        "### Quarter , hour and trip distance analysis"
      ]
    },
    {
      "cell_type": "code",
      "execution_count": null,
      "metadata": {
        "id": "3uNbPbIOEtze"
      },
      "outputs": [],
      "source": [
        "taxi.groupby(['quarter','hour'])['trip_duration'].sum().unstack()"
      ]
    },
    {
      "cell_type": "markdown",
      "metadata": {
        "id": "-eG5223bIHjd"
      },
      "source": [
        "### Year , month and trip distance analysis"
      ]
    },
    {
      "cell_type": "code",
      "execution_count": null,
      "metadata": {
        "id": "MzLpDd2YEtw9"
      },
      "outputs": [],
      "source": [
        "taxi.groupby(['year','month'])['trip_duration'].sum().unstack()"
      ]
    },
    {
      "cell_type": "markdown",
      "metadata": {
        "id": "hTuqqD0LINs7"
      },
      "source": [
        "### Year ,Quarter and trip distance analysis"
      ]
    },
    {
      "cell_type": "code",
      "execution_count": null,
      "metadata": {
        "id": "DaI5lNtEFhe1"
      },
      "outputs": [],
      "source": [
        "taxi.groupby(['year','quarter'])['trip_duration'].sum().unstack()"
      ]
    },
    {
      "cell_type": "markdown",
      "metadata": {
        "id": "o6UlTJfDIRa0"
      },
      "source": [
        "###Year, Week and trip distance analysis"
      ]
    },
    {
      "cell_type": "code",
      "execution_count": null,
      "metadata": {
        "id": "X6CtCVdhFhbc"
      },
      "outputs": [],
      "source": [
        "taxi.groupby(['year','week'])['trip_duration'].sum().unstack()"
      ]
    },
    {
      "cell_type": "markdown",
      "metadata": {
        "id": "dWx36T-bIVEt"
      },
      "source": [
        "### Year ,hour and trip distance analysis"
      ]
    },
    {
      "cell_type": "code",
      "execution_count": null,
      "metadata": {
        "id": "tXnQTfC0FhY3"
      },
      "outputs": [],
      "source": [
        "taxi.groupby(['year','hour'])['trip_duration'].sum().unstack()"
      ]
    },
    {
      "cell_type": "code",
      "execution_count": null,
      "metadata": {
        "id": "KtjqC2_pFhWJ"
      },
      "outputs": [],
      "source": []
    },
    {
      "cell_type": "markdown",
      "metadata": {
        "id": "MSa1f5Uengrz"
      },
      "source": [
        "### What all manipulations have you done and insights you found?"
      ]
    },
    {
      "cell_type": "markdown",
      "metadata": {
        "id": "LbyXE7I1olp8"
      },
      "source": [
        "## **Trip Information:**\n",
        "\n",
        "**Vendor ID:** Identifies the provider of the taxi service.\n",
        "\n",
        "**Passenger Count:** The number of passengers in the taxi during the ride.\n",
        "\n",
        "**Store and Forward Flag:** Indicates whether the trip record was held in the taxi’s memory before sending to the vendor (for instances when the vehicle was outside network coverage).\n",
        "\n",
        "**Pickup and Dropoff Datetimes:** Timestamps indicating when and where the ride started and ended.\n",
        "\n",
        "**Pickup and Dropoff Locations:** Latitude and longitude coordinates, or taxi zones indicating where the ride began and ended.\n",
        "\n",
        "**Trip Distance:** The distance covered during the trip, typically in miles.\n",
        "Other Metadata:\n",
        "\n",
        "\n",
        "**Trip Type:** Indicates whether the trip was a street-hail or a dispatch trip.\n"
      ]
    },
    {
      "cell_type": "markdown",
      "metadata": {
        "id": "GF8Ens_Soomf"
      },
      "source": [
        "## ***4. Data Vizualization, Storytelling & Experimenting with charts : Understand the relationships between variables***"
      ]
    },
    {
      "cell_type": "markdown",
      "metadata": {
        "id": "0wOQAZs5pc--"
      },
      "source": [
        "#### Chart - 1"
      ]
    },
    {
      "cell_type": "code",
      "execution_count": null,
      "metadata": {
        "id": "7v_ESjsspbW7"
      },
      "outputs": [],
      "source": [
        "# Chart - 1 visualization code"
      ]
    },
    {
      "cell_type": "code",
      "execution_count": null,
      "metadata": {
        "id": "NPsBbuseoPUP"
      },
      "outputs": [],
      "source": [
        "# Assuming `vendor_counts` is the DataFrame obtained from the value_counts reset_index operation\n",
        "vendor_counts = taxi['vendor_id'].value_counts().reset_index()\n",
        "vendor_counts.columns = ['vendor_id', 'count']  # Rename columns for clarity\n",
        "\n",
        "#add custom color\n",
        "bar_colors = ['#E7B484','#B17886']\n",
        "\n",
        "# Plotting the bar chart\n",
        "plt.figure(figsize=(6, 4))\n",
        "ax = sns.barplot(x='vendor_id', y='count', data=vendor_counts, palette=bar_colors, width=0.4)\n",
        "\n",
        "# Add labels to each bar\n",
        "for p in ax.patches:\n",
        "    ax.annotate(str(p.get_height()), (p.get_x() * 1.005, p.get_height() * 1.005))\n",
        "\n",
        "# Adding title and labels\n",
        "plt.title('Distribution of Rides by Vendor ID')\n",
        "plt.xlabel('Vendor ID')\n",
        "plt.ylabel('Number of Rides')\n",
        "\n",
        "# Show the plot\n",
        "plt.show()"
      ]
    },
    {
      "cell_type": "markdown",
      "metadata": {
        "id": "K5QZ13OEpz2H"
      },
      "source": [
        "##### 1. Why did you pick the specific chart?"
      ]
    },
    {
      "cell_type": "markdown",
      "metadata": {
        "id": "XESiWehPqBRc"
      },
      "source": [
        "I chose a bar chart because it is one of the most effective ways to visualize categorical data, particularly when comparing the frequency or count of distinct categories. Here’s why a bar chart is suitable for vendor_id data:"
      ]
    },
    {
      "cell_type": "markdown",
      "metadata": {
        "id": "lQ7QKXXCp7Bj"
      },
      "source": [
        "##### 2. What is/are the insight(s) found from the chart?"
      ]
    },
    {
      "cell_type": "markdown",
      "metadata": {
        "id": "C_j1G7yiqdRP"
      },
      "source": [
        "**Most Popular Vendor:**\n",
        "\n",
        "The bar chart will show which vendor has the highest number of rides. The tallest bar represents the most frequently used vendor, indicating this vendor’s market dominance or preference among riders."
      ]
    },
    {
      "cell_type": "markdown",
      "metadata": {
        "id": "448CDAPjqfQr"
      },
      "source": [
        "##### 3. Will the gained insights help creating a positive business impact?\n",
        "Are there any insights that lead to negative growth? Justify with specific reason."
      ]
    },
    {
      "cell_type": "markdown",
      "metadata": {
        "id": "3cspy4FjqxJW"
      },
      "source": [
        "These insights help in optimizing strategies, improving service offerings, and making data-driven decisions that can lead to increased customer satisfaction, better market positioning, and ultimately, a positive impact on the business's bottom line."
      ]
    },
    {
      "cell_type": "markdown",
      "metadata": {
        "id": "KSlN3yHqYklG"
      },
      "source": [
        "#### Chart - 2"
      ]
    },
    {
      "cell_type": "code",
      "execution_count": null,
      "metadata": {
        "id": "R4YgtaqtYklH"
      },
      "outputs": [],
      "source": [
        "# Chart - 2 visualization code"
      ]
    },
    {
      "cell_type": "code",
      "execution_count": null,
      "metadata": {
        "id": "t5q7Dkv2sn68"
      },
      "outputs": [],
      "source": [
        "df = taxi['passenger_count'].value_counts().reset_index()\n",
        "df.columns = ['Passenger Count', 'Number of Trips']\n",
        "\n",
        "#add custom color\n",
        "bar_colors = ['#E89898','#E89898','#CDAB94','#CEC09E','#C8CE9E','#B1C2A7','#CDAB94','#CEC09E','#C8CE9E','#B1C2A7']\n",
        "\n",
        "# Plotting the bar chart\n",
        "plt.figure(figsize=(10, 6))\n",
        "ax = sns.barplot(x='Passenger Count', y='Number of Trips', data=df, palette=bar_colors)\n",
        "\n",
        "# Add labels to each bar\n",
        "for p in ax.patches:\n",
        "    ax.annotate(str(p.get_height()), (p.get_x() * 1.005, p.get_height() * 1.005))\n",
        "\n",
        "# Adding title and labels\n",
        "plt.title('Distribution of Passenger Count in NYC Taxi Trips', fontsize=16)\n",
        "plt.xlabel('Passenger Count', fontsize=14)\n",
        "plt.ylabel('Number of Trips', fontsize=14)\n",
        "plt.xticks(fontsize=12)\n",
        "plt.yticks(fontsize=12)\n",
        "\n",
        "# Show the plot\n",
        "plt.show()"
      ]
    },
    {
      "cell_type": "markdown",
      "metadata": {
        "id": "t6dVpIINYklI"
      },
      "source": [
        "##### 1. Why did you pick the specific chart?"
      ]
    },
    {
      "cell_type": "markdown",
      "metadata": {
        "id": "5aaW0BYyYklI"
      },
      "source": [
        "I chose a bar chart because it is one of the most effective ways to visualize categorical data, particularly when comparing the frequency or count of distinct categories. Here’s why a bar chart is suitable for Passenger Count data:"
      ]
    },
    {
      "cell_type": "markdown",
      "metadata": {
        "id": "ijmpgYnKYklI"
      },
      "source": [
        "##### 2. What is/are the insight(s) found from the chart?"
      ]
    },
    {
      "cell_type": "markdown",
      "metadata": {
        "id": "PSx9atu2YklI"
      },
      "source": [
        "#### The plot will likely show that certain passenger counts (e.g., 1 or 2 passengers) have much higher counts compared to others. This suggests that most taxi rides are taken by single passengers or small groups.\n",
        "\n",
        "**Outliers:** If there are outlier points where the passenger count is unusually high or low, but the count of rides is relatively small, it could indicate uncommon scenarios (e.g., group bookings or incorrect data entries)."
      ]
    },
    {
      "cell_type": "markdown",
      "metadata": {
        "id": "-JiQyfWJYklI"
      },
      "source": [
        "##### 3. Will the gained insights help creating a positive business impact?\n",
        "Are there any insights that lead to negative growth? Justify with specific reason."
      ]
    },
    {
      "cell_type": "markdown",
      "metadata": {
        "id": "BcBbebzrYklV"
      },
      "source": [
        "\n",
        "\n",
        "1.   **Resource Allocation:** If the data shows that most rides involve 1-2 passengers, taxi companies could optimize their fleet by focusing on vehicles suited for small groups, potentially reducing operational costs by minimizing the number of larger vehicles in the fleet.\n",
        "2.   **Ride-sharing Opportunities:** Understanding the distribution of passenger counts could inform strategies for ride-sharing services. For instance, if there is a significant number of rides with 1 passenger, companies might promote ride-sharing options more aggressively to increase efficiency and reduce costs per ride.\n",
        "\n"
      ]
    },
    {
      "cell_type": "markdown",
      "metadata": {
        "id": "EM7whBJCYoAo"
      },
      "source": [
        "#### Chart - 3"
      ]
    },
    {
      "cell_type": "code",
      "execution_count": null,
      "metadata": {
        "id": "t6GMdE67YoAp"
      },
      "outputs": [],
      "source": [
        "# Chart - 3 visualization code"
      ]
    },
    {
      "cell_type": "code",
      "execution_count": null,
      "metadata": {
        "id": "Q3HFnmOxyGqs"
      },
      "outputs": [],
      "source": [
        "# Calculate the value counts and reset the index\n",
        "store_and_fwd_data = taxi['store_and_fwd_flag'].value_counts().reset_index()\n",
        "store_and_fwd_data.columns = ['store_and_fwd_flag', 'count']\n",
        "\n",
        "explode = (0, 0.1) # show the 3d chart\n",
        "\n",
        "colors = ['#A36E6C','#A3806C']  # colors difiend\n",
        "\n",
        "# Create a pie chart\n",
        "plt.figure(figsize=(4, 4))\n",
        "\n",
        "plt.pie(store_and_fwd_data['count'], labels=store_and_fwd_data['store_and_fwd_flag'], shadow = True, autopct='%1.1f%%', startangle=140, explode=explode, colors=colors)\n",
        "\n",
        "# Add a title\n",
        "plt.title('Distribution of Store and Forward Flag')\n",
        "\n",
        "# Show the plot\n",
        "plt.show()"
      ]
    },
    {
      "cell_type": "markdown",
      "metadata": {
        "id": "fge-S5ZAYoAp"
      },
      "source": [
        "##### 1. Why did you pick the specific chart?"
      ]
    },
    {
      "cell_type": "markdown",
      "metadata": {
        "id": "5dBItgRVYoAp"
      },
      "source": [
        "Show the distribution of percentage form"
      ]
    },
    {
      "cell_type": "markdown",
      "metadata": {
        "id": "85gYPyotYoAp"
      },
      "source": [
        "##### 2. What is/are the insight(s) found from the chart?"
      ]
    },
    {
      "cell_type": "markdown",
      "metadata": {
        "id": "4jstXR6OYoAp"
      },
      "source": [
        "\n",
        "\n",
        "1.   Find the No network area 99.4%\n",
        "2.   Find the network area 0.6% only\n",
        "\n"
      ]
    },
    {
      "cell_type": "markdown",
      "metadata": {
        "id": "RoGjAbkUYoAp"
      },
      "source": [
        "##### 3. Will the gained insights help creating a positive business impact?\n",
        "Are there any insights that lead to negative growth? Justify with specific reason."
      ]
    },
    {
      "cell_type": "markdown",
      "metadata": {
        "id": "zfJ8IqMcYoAp"
      },
      "source": [
        "Answer Here"
      ]
    },
    {
      "cell_type": "markdown",
      "metadata": {
        "id": "4Of9eVA-YrdM"
      },
      "source": [
        "#### Chart - 4"
      ]
    },
    {
      "cell_type": "code",
      "execution_count": null,
      "metadata": {
        "id": "irlUoxc8YrdO"
      },
      "outputs": [],
      "source": [
        "# Chart - 4 visualization code"
      ]
    },
    {
      "cell_type": "code",
      "execution_count": null,
      "metadata": {
        "id": "kY7GXGy0CjYV"
      },
      "outputs": [],
      "source": [
        "# Rename columns for clarity\n",
        "taxi_monthly_counts = taxi['pickup_datetime'].dt.month_name().value_counts().reset_index()\n",
        "taxi_monthly_counts.columns = ['Month', 'Pickup_Count']\n",
        "\n",
        "# Sort the DataFrame by month order\n",
        "month_order = ['January', 'February', 'March', 'April', 'May', 'June', 'July', 'August', 'September', 'October', 'November', 'December']\n",
        "taxi_monthly_counts['Month'] = pd.Categorical(taxi_monthly_counts['Month'], categories=month_order, ordered=True)\n",
        "taxi_monthly_counts = taxi_monthly_counts.sort_values('Month')\n",
        "\n",
        "# Create the bar plot\n",
        "plt.figure(figsize=(10, 6))\n",
        "sns.barplot(x='Month', y='Pickup_Count', data=taxi_monthly_counts, palette='Set2')\n",
        "\n",
        "# Customize the plot\n",
        "plt.title('NYC Taxi Pickups by Month')\n",
        "plt.xlabel('Month')\n",
        "plt.ylabel('Number of Pickups')\n",
        "plt.xticks(rotation=45)\n",
        "plt.show()"
      ]
    },
    {
      "cell_type": "markdown",
      "metadata": {
        "id": "iky9q4vBYrdO"
      },
      "source": [
        "##### 1. Why did you pick the specific chart?"
      ]
    },
    {
      "cell_type": "markdown",
      "metadata": {
        "id": "aJRCwT6DYrdO"
      },
      "source": [
        "*  The data consists of months, which are categorical variables. Bar charts are ideal for visualizing counts or frequencies of categorical data, making it easy to compare the number of taxi pickups across different months.\n",
        "\n",
        "*   Bar charts are straightforward and provide an intuitive way to compare values."
      ]
    },
    {
      "cell_type": "markdown",
      "metadata": {
        "id": "F6T5p64dYrdO"
      },
      "source": [
        "##### 2. What is/are the insight(s) found from the chart?"
      ]
    },
    {
      "cell_type": "markdown",
      "metadata": {
        "id": "Xx8WAJvtYrdO"
      },
      "source": [
        "*   Janaury to june is high drive but july to December is nill"
      ]
    },
    {
      "cell_type": "markdown",
      "metadata": {
        "id": "y-Ehk30pYrdP"
      },
      "source": [
        "##### 3. Will the gained insights help creating a positive business impact?\n",
        "Are there any insights that lead to negative growth? Justify with specific reason."
      ]
    },
    {
      "cell_type": "markdown",
      "metadata": {
        "id": "jLNxxz7MYrdP"
      },
      "source": [
        "*  By analyzing the chart, you can better understand the temporal dynamics of taxi usage in NYC, which can be crucial for business decision-making, operational planning, or further analysis."
      ]
    },
    {
      "cell_type": "markdown",
      "metadata": {
        "id": "bamQiAODYuh1"
      },
      "source": [
        "#### Chart - 5"
      ]
    },
    {
      "cell_type": "code",
      "execution_count": null,
      "metadata": {
        "id": "TIJwrbroYuh3"
      },
      "outputs": [],
      "source": [
        "# Chart - 5 visualization code"
      ]
    },
    {
      "cell_type": "code",
      "execution_count": null,
      "metadata": {
        "id": "BeIHtKxEIwWQ"
      },
      "outputs": [],
      "source": [
        "# Assuming 'taxi_day_counts' is the result of your value_counts().reset_index()\n",
        "taxi_day_counts = taxi['pickup_datetime'].dt.day_name().value_counts().reset_index()\n",
        "taxi_day_counts.columns = ['Day', 'Pickups']\n",
        "\n",
        "# Sorting the data by days of the week (optional, for better readability)\n",
        "ordered_days = ['Monday', 'Tuesday', 'Wednesday', 'Thursday', 'Friday', 'Saturday', 'Sunday']\n",
        "taxi_day_counts['Day'] = pd.Categorical(taxi_day_counts['Day'], categories=ordered_days, ordered=True)\n",
        "taxi_day_counts = taxi_day_counts.sort_values('Day')\n",
        "\n",
        "# Plotting the horizontal bar chart\n",
        "plt.figure(figsize=(10, 6))\n",
        "sns.barplot(x='Pickups', y='Day', data=taxi_day_counts, palette='Set2')\n",
        "plt.title('Number of Taxi Pickups by Day of the Week')\n",
        "plt.xlabel('Number of Pickups')\n",
        "plt.ylabel('Day of the Week')\n",
        "plt.show()"
      ]
    },
    {
      "cell_type": "markdown",
      "metadata": {
        "id": "QHF8YVU7Yuh3"
      },
      "source": [
        "##### 1. Why did you pick the specific chart?"
      ]
    },
    {
      "cell_type": "markdown",
      "metadata": {
        "id": "dcxuIMRPYuh3"
      },
      "source": [
        "*  Horizontal Bar Chart: It's useful when the category labels are long or when there are many categories."
      ]
    },
    {
      "cell_type": "markdown",
      "metadata": {
        "id": "GwzvFGzlYuh3"
      },
      "source": [
        "##### 2. What is/are the insight(s) found from the chart?"
      ]
    },
    {
      "cell_type": "markdown",
      "metadata": {
        "id": "uyqkiB8YYuh3"
      },
      "source": [
        "*  This chart will give you a clear and easy-to-read visual representation of the taxi pickups distribution across different days of the week."
      ]
    },
    {
      "cell_type": "markdown",
      "metadata": {
        "id": "qYpmQ266Yuh3"
      },
      "source": [
        "##### 3. Will the gained insights help creating a positive business impact?\n",
        "Are there any insights that lead to negative growth? Justify with specific reason."
      ]
    },
    {
      "cell_type": "markdown",
      "metadata": {
        "id": "_WtzZ_hCYuh4"
      },
      "source": [
        "*  By leveraging these insights, a taxi service company can make data-driven decisions that not only improve operational efficiency but also enhance customer satisfaction, optimize revenue streams, and strategically plan for future growth. This holistic approach ensures a positive business impact.\n",
        "*  Will the gained insights help creating a positive business impact.\n",
        "\n",
        "*  If certain days have lower pickups, the company could run targeted promotions or discounts to encourage more rides on those days, helping to balance demand throughout the week."
      ]
    },
    {
      "cell_type": "markdown",
      "metadata": {
        "id": "OH-pJp9IphqM"
      },
      "source": [
        "#### Chart - 6"
      ]
    },
    {
      "cell_type": "code",
      "execution_count": null,
      "metadata": {
        "id": "kuRf4wtuphqN"
      },
      "outputs": [],
      "source": [
        "# Chart - 6 visualization code"
      ]
    },
    {
      "cell_type": "code",
      "execution_count": null,
      "metadata": {
        "id": "6Jxq4Zq5Kr5w"
      },
      "outputs": [],
      "source": [
        "data = taxi['pickup_datetime'].dt.quarter.value_counts().reset_index()\n",
        "# Renaming columns for clarity\n",
        "data.columns = ['Quarter', 'Ride Count']\n",
        "\n",
        "# Sorting data by Quarter for proper visualization\n",
        "data = data.sort_values('Quarter')\n",
        "\n",
        "# Plotting the data\n",
        "plt.figure(figsize=(8, 5))\n",
        "sns.barplot(x='Quarter', y='Ride Count', data=data, palette='coolwarm')\n",
        "plt.xlabel('Quarter')\n",
        "plt.ylabel('Number of Rides')\n",
        "plt.title('Number of Taxi Rides per Quarter')\n",
        "plt.show()"
      ]
    },
    {
      "cell_type": "code",
      "execution_count": null,
      "metadata": {
        "id": "zrJojFbVKr2Y"
      },
      "outputs": [],
      "source": []
    },
    {
      "cell_type": "markdown",
      "metadata": {
        "id": "bbFf2-_FphqN"
      },
      "source": [
        "##### 1. Why did you pick the specific chart?"
      ]
    },
    {
      "cell_type": "markdown",
      "metadata": {
        "id": "loh7H2nzphqN"
      },
      "source": [
        "The data represents counts (i.e., the number of rides in each quarter), which are best represented by the lengths of bars in a bar chart. This makes it straightforward to interpret the data"
      ]
    },
    {
      "cell_type": "markdown",
      "metadata": {
        "id": "_ouA3fa0phqN"
      },
      "source": [
        "##### 2. What is/are the insight(s) found from the chart?"
      ]
    },
    {
      "cell_type": "markdown",
      "metadata": {
        "id": "VECbqPI7phqN"
      },
      "source": [
        "*  There are two quarter only in the data\n",
        "*  balanced data"
      ]
    },
    {
      "cell_type": "markdown",
      "metadata": {
        "id": "Seke61FWphqN"
      },
      "source": [
        "##### 3. Will the gained insights help creating a positive business impact?\n",
        "Are there any insights that lead to negative growth? Justify with specific reason."
      ]
    },
    {
      "cell_type": "markdown",
      "metadata": {
        "id": "DW4_bGpfphqN"
      },
      "source": [
        "*   By understanding which quarters have the highest demand, a taxi company can allocate more drivers and vehicles during peak periods. This ensures that supply meets demand, reducing wait times for customers and maximizing revenue"
      ]
    },
    {
      "cell_type": "markdown",
      "metadata": {
        "id": "PIIx-8_IphqN"
      },
      "source": [
        "#### Chart - 7"
      ]
    },
    {
      "cell_type": "code",
      "execution_count": null,
      "metadata": {
        "id": "lqAIGUfyphqO"
      },
      "outputs": [],
      "source": [
        "# Chart - 7 visualization code"
      ]
    },
    {
      "cell_type": "code",
      "execution_count": null,
      "metadata": {
        "id": "F-f97DiTL6DX"
      },
      "outputs": [],
      "source": [
        "# Assuming your DataFrame is stored in the variable 'taxi'\n",
        "grouped_data = taxi.groupby('vendor_id')['trip_duration'].sum().reset_index()\n",
        "\n",
        "explode = (0, 0.1) # show the 3d chart\n",
        "\n",
        "colors = ['#E7B484','#B17886']\n",
        "\n",
        "# Plotting\n",
        "plt.figure(figsize=(5, 5))\n",
        "plt.pie(grouped_data['trip_duration'], labels=grouped_data['vendor_id'], autopct='%1.1f%%', explode=explode, shadow=True, colors=colors)\n",
        "\n",
        "# Adding a title\n",
        "plt.title('Proportion of Total Trip Duration by Vendor ID')\n",
        "\n",
        "# Display the plot\n",
        "plt.show()"
      ]
    },
    {
      "cell_type": "markdown",
      "metadata": {
        "id": "t27r6nlMphqO"
      },
      "source": [
        "##### 1. Why did you pick the specific chart?"
      ]
    },
    {
      "cell_type": "markdown",
      "metadata": {
        "id": "iv6ro40sphqO"
      },
      "source": [
        "* Show the distribution of percentage form"
      ]
    },
    {
      "cell_type": "markdown",
      "metadata": {
        "id": "r2jJGEOYphqO"
      },
      "source": [
        "##### 2. What is/are the insight(s) found from the chart?"
      ]
    },
    {
      "cell_type": "markdown",
      "metadata": {
        "id": "Po6ZPi4hphqO"
      },
      "source": [
        "* Vendor high performace according to vendor 1"
      ]
    },
    {
      "cell_type": "markdown",
      "metadata": {
        "id": "b0JNsNcRphqO"
      },
      "source": [
        "##### 3. Will the gained insights help creating a positive business impact?\n",
        "Are there any insights that lead to negative growth? Justify with specific reason."
      ]
    },
    {
      "cell_type": "markdown",
      "metadata": {
        "id": "xvSq8iUTphqO"
      },
      "source": [
        "*  Increase the vendor 1 efficiency."
      ]
    },
    {
      "cell_type": "markdown",
      "metadata": {
        "id": "BZR9WyysphqO"
      },
      "source": [
        "#### Chart - 8"
      ]
    },
    {
      "cell_type": "code",
      "execution_count": null,
      "metadata": {
        "id": "TdPTWpAVphqO"
      },
      "outputs": [],
      "source": [
        "# Chart - 8 visualization code"
      ]
    },
    {
      "cell_type": "code",
      "execution_count": null,
      "metadata": {
        "id": "l98LGo-kOlyV"
      },
      "outputs": [],
      "source": [
        "# Assuming 'taxi_grouped' is the result of your groupby operation\n",
        "taxi_grouped = taxi.groupby(['vendor_id', 'passenger_count'])['trip_duration'].sum().unstack()\n",
        "\n",
        "plt.figure(figsize=(14, 5))\n",
        "sns.heatmap(taxi_grouped, annot=True, fmt='.0f', cmap='YlGnBu', linewidths=.5)\n",
        "plt.title('Trip Duration by Vendor ID and Passenger Count')\n",
        "plt.xlabel('Passenger Count')\n",
        "plt.ylabel('Vendor ID')\n",
        "plt.show()"
      ]
    },
    {
      "cell_type": "markdown",
      "metadata": {
        "id": "jj7wYXLtphqO"
      },
      "source": [
        "##### 1. Why did you pick the specific chart?"
      ]
    },
    {
      "cell_type": "markdown",
      "metadata": {
        "id": "Ob8u6rCTphqO"
      },
      "source": [
        "*  **Easily Spot Patterns:** Heatmaps use color gradients to represent values, making it easy to spot trends, clusters, or outliers. In your case, you can quickly see which vendor_id and passenger_count combinations have higher or lower total trip durations."
      ]
    },
    {
      "cell_type": "markdown",
      "metadata": {
        "id": "eZrbJ2SmphqO"
      },
      "source": [
        "##### 2. What is/are the insight(s) found from the chart?"
      ]
    },
    {
      "cell_type": "markdown",
      "metadata": {
        "id": "mZtgC_hjphqO"
      },
      "source": [
        "*  Areas with darker colors indicate higher trip durations, while lighter colors represent lower durations. You can identify which vendor_id and passenger_count combinations are associated with longer or shorter trips."
      ]
    },
    {
      "cell_type": "markdown",
      "metadata": {
        "id": "rFu4xreNphqO"
      },
      "source": [
        "##### 3. Will the gained insights help creating a positive business impact?\n",
        "Are there any insights that lead to negative growth? Justify with specific reason."
      ]
    },
    {
      "cell_type": "markdown",
      "metadata": {
        "id": "ey_0qi68phqO"
      },
      "source": [
        "*  By identifying which vendor_id and passenger_count combinations have higher trip durations, you can allocate resources (e.g., vehicles, drivers) more effectively to meet demand and improve service efficiency.\n",
        "\n",
        "*  Insights into high or low trip durations can help in creating targeted strategies for different vendors or passenger groups, potentially increasing overall operational efficiency and profitability"
      ]
    },
    {
      "cell_type": "markdown",
      "metadata": {
        "id": "YJ55k-q6phqO"
      },
      "source": [
        "#### Chart - 9"
      ]
    },
    {
      "cell_type": "code",
      "execution_count": null,
      "metadata": {
        "id": "B2aS4O1ophqO"
      },
      "outputs": [],
      "source": [
        "# Chart - 9 visualization code"
      ]
    },
    {
      "cell_type": "code",
      "execution_count": null,
      "metadata": {
        "id": "rvebf7UhQLw2"
      },
      "outputs": [],
      "source": [
        "# Assuming 'taxi' is your DataFrame\n",
        "grouped_data = taxi.groupby(['vendor_id', 'month'])['trip_duration'].sum().unstack()\n",
        "\n",
        "colors = ['#A36E6C','#A3806C','#908652','#B4CD86','#7D7CAC','#6F7D5F'] #set color\n",
        "\n",
        "# Plotting\n",
        "grouped_data.plot(kind='line', marker='o', figsize=(12, 6), color=colors)\n",
        "plt.title('Trip Duration Trends by Vendor and Month')\n",
        "plt.xlabel('Month')\n",
        "plt.ylabel('Total Trip Duration')\n",
        "plt.legend(title='Vendor ID')\n",
        "plt.grid(True)\n",
        "plt.show()"
      ]
    },
    {
      "cell_type": "code",
      "execution_count": null,
      "metadata": {
        "id": "HlLhLcRyQ4Dr"
      },
      "outputs": [],
      "source": [
        "# Assuming 'taxi' is your DataFrame\n",
        "grouped_data = taxi.groupby(['vendor_id', 'month'])['trip_duration'].sum().unstack()\n",
        "\n",
        "colors = ['#A36E6C','#A3806C','#908652','#B4CD86','#7D7CAC','#6F7D5F'] #set color\n",
        "\n",
        "# Plotting\n",
        "ax = grouped_data.plot(kind='bar', stacked=True, figsize=(8, 5), color=colors)\n",
        "\n",
        "# Adding labels\n",
        "for container in ax.containers:\n",
        "    ax.bar_label(container, label_type='center', fontsize=9)\n",
        "\n",
        "plt.title('Total Trip Duration by Vendor and Month')\n",
        "plt.xlabel('Month')\n",
        "plt.ylabel('Total Trip Duration')\n",
        "plt.legend(title='Vendor ID')\n",
        "plt.show()"
      ]
    },
    {
      "cell_type": "markdown",
      "metadata": {
        "id": "gCFgpxoyphqP"
      },
      "source": [
        "##### 1. Why did you pick the specific chart?"
      ]
    },
    {
      "cell_type": "markdown",
      "metadata": {
        "id": "TVxDimi2phqP"
      },
      "source": [
        "\n",
        "\n",
        "1.   A line chart can show trends over time for each vendor_id.\n",
        "2.   A stacked bar chart can help you compare the total trip_duration per month across different\n",
        "\n"
      ]
    },
    {
      "cell_type": "markdown",
      "metadata": {
        "id": "OVtJsKN_phqQ"
      },
      "source": [
        "##### 2. What is/are the insight(s) found from the chart?"
      ]
    },
    {
      "cell_type": "markdown",
      "metadata": {
        "id": "ngGi97qjphqQ"
      },
      "source": [
        "*  Identify which vendors have higher or lower total trip durations each month. This can reveal which vendors are handling more trips or have longer trips."
      ]
    },
    {
      "cell_type": "markdown",
      "metadata": {
        "id": "lssrdh5qphqQ"
      },
      "source": [
        "##### 3. Will the gained insights help creating a positive business impact?\n",
        "Are there any insights that lead to negative growth? Justify with specific reason."
      ]
    },
    {
      "cell_type": "markdown",
      "metadata": {
        "id": "tBpY5ekJphqQ"
      },
      "source": [
        "*  Understanding trip durations by month can help identify peak times and optimize resource allocation. For example, if certain months have longer trip durations, you might need more resources during those periods."
      ]
    },
    {
      "cell_type": "markdown",
      "metadata": {
        "id": "U2RJ9gkRphqQ"
      },
      "source": [
        "#### Chart - 10"
      ]
    },
    {
      "cell_type": "code",
      "execution_count": null,
      "metadata": {
        "id": "GM7a4YP4phqQ"
      },
      "outputs": [],
      "source": [
        "# Chart - 10 visualization code"
      ]
    },
    {
      "cell_type": "code",
      "execution_count": null,
      "metadata": {
        "id": "4TIKgy9DY3no"
      },
      "outputs": [],
      "source": [
        "# Assuming 'grouped_data' is the DataFrame from your code\n",
        "grouped_data = taxi.groupby(['vendor_id','week'])['trip_duration'].sum().unstack()\n",
        "\n",
        "colors = ['#A36E6C','#A3806C']\n",
        "\n",
        "# Plot\n",
        "grouped_data.plot(kind='area', stacked=True, figsize=(12, 6), color=colors)\n",
        "\n",
        "plt.title('Weekly Trip Duration by Vendor')\n",
        "plt.xlabel('Week')\n",
        "plt.ylabel('Total Trip Duration')\n",
        "plt.legend(title='Vendor ID')\n",
        "plt.grid(True)\n",
        "plt.show()"
      ]
    },
    {
      "cell_type": "markdown",
      "metadata": {
        "id": "1M8mcRywphqQ"
      },
      "source": [
        "##### 1. Why did you pick the specific chart?"
      ]
    },
    {
      "cell_type": "markdown",
      "metadata": {
        "id": "8agQvks0phqQ"
      },
      "source": [
        "*  stacked area chart is useful for understanding the contribution of each vendor to the total duration."
      ]
    },
    {
      "cell_type": "markdown",
      "metadata": {
        "id": "tgIPom80phqQ"
      },
      "source": [
        "##### 2. What is/are the insight(s) found from the chart?"
      ]
    },
    {
      "cell_type": "markdown",
      "metadata": {
        "id": "Qp13pnNzphqQ"
      },
      "source": [
        "\n",
        "\n",
        "1.   Weekdays high ditribution of the drive\n",
        "2.   Weekend low ditribution of the drive\n",
        "\n"
      ]
    },
    {
      "cell_type": "markdown",
      "metadata": {
        "id": "JMzcOPDDphqR"
      },
      "source": [
        "##### 3. Will the gained insights help creating a positive business impact?\n",
        "Are there any insights that lead to negative growth? Justify with specific reason."
      ]
    },
    {
      "cell_type": "markdown",
      "metadata": {
        "id": "R4Ka1PC2phqR"
      },
      "source": [
        "*  Identifying trends or seasonal patterns in trip durations by week can help in forecasting demand and optimizing resource allocation."
      ]
    },
    {
      "cell_type": "markdown",
      "metadata": {
        "id": "x-EpHcCOp1ci"
      },
      "source": [
        "#### Chart - 11"
      ]
    },
    {
      "cell_type": "code",
      "execution_count": null,
      "metadata": {
        "id": "mAQTIvtqp1cj"
      },
      "outputs": [],
      "source": [
        "# Chart - 11 visualization code"
      ]
    },
    {
      "cell_type": "code",
      "execution_count": null,
      "metadata": {
        "id": "dJijA1i0a3RC"
      },
      "outputs": [],
      "source": [
        "data = taxi.groupby(['vendor_id', 'hour'])['trip_duration'].sum().reset_index()\n",
        "\n",
        "# Create the scatter plot\n",
        "plt.figure(figsize=(16, 6))\n",
        "sns.scatterplot(data=data, x='hour', y='trip_duration', hue='vendor_id', palette='viridis', s=100)\n",
        "\n",
        "# Add labels and title\n",
        "plt.xlabel('Hour of Day')\n",
        "plt.ylabel('Total Trip Duration')\n",
        "plt.title('Total Trip Duration by Hour and Vendor')\n",
        "\n",
        "# Show the plot\n",
        "plt.legend(title='Vendor ID')\n",
        "plt.show()"
      ]
    },
    {
      "cell_type": "markdown",
      "metadata": {
        "id": "X_VqEhTip1ck"
      },
      "source": [
        "##### 1. Why did you pick the specific chart?"
      ]
    },
    {
      "cell_type": "markdown",
      "metadata": {
        "id": "-vsMzt_np1ck"
      },
      "source": [
        "*  This scatter plot will show how the total trip duration varies with the hour of the day for each vendor.\n",
        "*  Different colors will represent different vendors, allowing you to compare their performance across hours."
      ]
    },
    {
      "cell_type": "markdown",
      "metadata": {
        "id": "8zGJKyg5p1ck"
      },
      "source": [
        "##### 2. What is/are the insight(s) found from the chart?"
      ]
    },
    {
      "cell_type": "markdown",
      "metadata": {
        "id": "ZYdMsrqVp1ck"
      },
      "source": [
        "Identify which hours of the day have the highest total trip durations. This can indicate peak periods when demand for taxis is highest.\n",
        "\n",
        "* 3 pm to 7 pm high peak periods for taxi demand"
      ]
    },
    {
      "cell_type": "markdown",
      "metadata": {
        "id": "PVzmfK_Ep1ck"
      },
      "source": [
        "##### 3. Will the gained insights help creating a positive business impact?\n",
        "Are there any insights that lead to negative growth? Justify with specific reason."
      ]
    },
    {
      "cell_type": "markdown",
      "metadata": {
        "id": "druuKYZpp1ck"
      },
      "source": [
        "*  By focusing on high-demand periods, you can reduce wait times and ensure better service availability, leading to increased customer satisfaction."
      ]
    },
    {
      "cell_type": "markdown",
      "metadata": {
        "id": "n3dbpmDWp1ck"
      },
      "source": [
        "#### Chart - 12"
      ]
    },
    {
      "cell_type": "code",
      "execution_count": null,
      "metadata": {
        "id": "bwevp1tKp1ck"
      },
      "outputs": [],
      "source": [
        "# Chart - 12 visualization code"
      ]
    },
    {
      "cell_type": "code",
      "execution_count": null,
      "metadata": {
        "id": "VUQHZGdNd0cI"
      },
      "outputs": [],
      "source": [
        "data = taxi.groupby(['month', 'hour'])['trip_duration'].sum().unstack()\n",
        "\n",
        "# Create the heatmap\n",
        "plt.figure(figsize=(12, 8))\n",
        "sns.heatmap(data, cmap='YlGnBu', linewidths=.5)\n",
        "\n",
        "# Add labels and title\n",
        "plt.xlabel('Hour of Day')\n",
        "plt.ylabel('Month')\n",
        "plt.title('Total Trip Duration by Month and Hour of Day')\n",
        "\n",
        "# Show the plot\n",
        "plt.show()"
      ]
    },
    {
      "cell_type": "markdown",
      "metadata": {
        "id": "ylSl6qgtp1ck"
      },
      "source": [
        "##### 1. Why did you pick the specific chart?"
      ]
    },
    {
      "cell_type": "markdown",
      "metadata": {
        "id": "m2xqNkiQp1ck"
      },
      "source": [
        "*  his DataFrame is created by grouping by month and hour, then summing the trip durations and unstacking the data to prepare it for the heatmap."
      ]
    },
    {
      "cell_type": "markdown",
      "metadata": {
        "id": "ZWILFDl5p1ck"
      },
      "source": [
        "##### 2. What is/are the insight(s) found from the chart?"
      ]
    },
    {
      "cell_type": "markdown",
      "metadata": {
        "id": "x-lUsV2mp1ck"
      },
      "source": [
        "*   Identify which months have the highest and lowest total trip durations, helping to understand seasonal variations.\n",
        "*   See how trip durations vary by hour within each month, revealing patterns in daily demand."
      ]
    },
    {
      "cell_type": "markdown",
      "metadata": {
        "id": "M7G43BXep1ck"
      },
      "source": [
        "##### 3. Will the gained insights help creating a positive business impact?\n",
        "Are there any insights that lead to negative growth? Justify with specific reason."
      ]
    },
    {
      "cell_type": "markdown",
      "metadata": {
        "id": "5wwDJXsLp1cl"
      },
      "source": [
        "*   Understanding peak months and hours can help in scheduling more drivers or taxis during high-demand periods, improving service availability."
      ]
    },
    {
      "cell_type": "markdown",
      "metadata": {
        "id": "Ag9LCva-p1cl"
      },
      "source": [
        "#### Chart - 13"
      ]
    },
    {
      "cell_type": "code",
      "execution_count": null,
      "metadata": {
        "id": "EUfxeq9-p1cl"
      },
      "outputs": [],
      "source": [
        "# Chart - 13 visualization code"
      ]
    },
    {
      "cell_type": "code",
      "execution_count": null,
      "metadata": {
        "id": "Qt_ocixTfLnb"
      },
      "outputs": [],
      "source": [
        "# Pivot the data for heatmap\n",
        "heatmap_data = table = pd.pivot_table(taxi, values='trip_duration', index=['passenger_count','vendor_id'], columns=['quarter'], aggfunc=\"sum\")\n",
        "\n",
        "# Plot\n",
        "plt.figure(figsize=(8, 8))\n",
        "sns.heatmap(heatmap_data, cmap='YlGnBu', annot=True, fmt='.1f', linewidths=.5)\n",
        "\n",
        "# Customize the plot\n",
        "plt.title('Heatmap of Total Trip Duration by Passenger Count and Quarter')\n",
        "plt.xlabel('Quarter')\n",
        "plt.ylabel('Passenger Count')\n",
        "plt.tight_layout()\n",
        "\n",
        "# Show the plot\n",
        "plt.show()"
      ]
    },
    {
      "cell_type": "markdown",
      "metadata": {
        "id": "E6MkPsBcp1cl"
      },
      "source": [
        "##### 1. Why did you pick the specific chart?"
      ]
    },
    {
      "cell_type": "markdown",
      "metadata": {
        "id": "V22bRsFWp1cl"
      },
      "source": [
        "*  A heatmap effectively visualizes intensity or magnitude across two dimensions. In your case, it helps illustrate how trip_duration varies with passenger_count and quarter"
      ]
    },
    {
      "cell_type": "markdown",
      "metadata": {
        "id": "2cELzS2fp1cl"
      },
      "source": [
        "##### 2. What is/are the insight(s) found from the chart?"
      ]
    },
    {
      "cell_type": "markdown",
      "metadata": {
        "id": "ozQPc2_Ip1cl"
      },
      "source": [
        "*  Determine if certain quarters (e.g., Q1 vs. Q2) have consistently higher or lower trip durations, which might indicate seasonal effects or specific business cycles."
      ]
    },
    {
      "cell_type": "markdown",
      "metadata": {
        "id": "3MPXvC8up1cl"
      },
      "source": [
        "##### 3. Will the gained insights help creating a positive business impact?\n",
        "Are there any insights that lead to negative growth? Justify with specific reason."
      ]
    },
    {
      "cell_type": "markdown",
      "metadata": {
        "id": "GL8l1tdLp1cl"
      },
      "source": [
        "*  Understanding which factors contribute to longer trip durations (e.g., certain times of day or passenger counts) can help improve the overall customer experience by addressing potential delays or inefficiencies."
      ]
    },
    {
      "cell_type": "markdown",
      "metadata": {
        "id": "OGM0QvpNnBMb"
      },
      "source": [
        "## **Chart - 14**    \n",
        "Total Trip Duration by Month"
      ]
    },
    {
      "cell_type": "code",
      "execution_count": null,
      "metadata": {
        "id": "7Qpv8kgvjOFZ"
      },
      "outputs": [],
      "source": [
        "# Group by month and sum the trip duration\n",
        "monthly_trip_duration = taxi.groupby('month')['trip_duration'].sum().reset_index()\n",
        "\n",
        "# Plotting\n",
        "plt.figure(figsize=(10, 6))\n",
        "plt.plot(monthly_trip_duration['month'], monthly_trip_duration['trip_duration'], marker='o', linestyle='-', color='#A36E6C')\n",
        "plt.title('Total Trip Duration by Month')\n",
        "plt.xlabel('Month')\n",
        "plt.ylabel('Total Trip Duration')\n",
        "plt.grid(True)\n",
        "plt.xticks(rotation=45)\n",
        "plt.tight_layout()\n",
        "plt.show()"
      ]
    },
    {
      "cell_type": "markdown",
      "metadata": {
        "id": "Vnu2Vrubnpma"
      },
      "source": [
        "## **Chart 15**\n",
        "\n",
        "Total Trip Duration by Week"
      ]
    },
    {
      "cell_type": "code",
      "execution_count": null,
      "metadata": {
        "id": "AuorQJf1kmyl"
      },
      "outputs": [],
      "source": [
        "# Group by week_name and sum the trip duration\n",
        "weekly_trip_duration = taxi.groupby('week')['trip_duration'].sum().reset_index()\n",
        "\n",
        "colors = ['#A36B78','#D0A0C6']\n",
        "# Plotting\n",
        "plt.figure(figsize=(8, 5))\n",
        "plt.bar(weekly_trip_duration['week'], weekly_trip_duration['trip_duration'], color=colors)\n",
        "plt.title('Total Trip Duration by Week')\n",
        "plt.xlabel('Week Name')\n",
        "plt.ylabel('Total Trip Duration')\n",
        "plt.xticks(rotation=45)\n",
        "plt.grid(axis='y')\n",
        "plt.tight_layout()\n",
        "plt.show()"
      ]
    },
    {
      "cell_type": "markdown",
      "metadata": {
        "id": "G0lKAFRgotT9"
      },
      "source": [
        "## **Chart 16**\n",
        "\n",
        "* Total Trip Duration by Quarter"
      ]
    },
    {
      "cell_type": "code",
      "execution_count": null,
      "metadata": {
        "id": "a_3mxlINjK27"
      },
      "outputs": [],
      "source": [
        "# Group by quarter and sum the trip duration\n",
        "quarterly_trip_duration = taxi.groupby('quarter')['trip_duration'].sum().reset_index()\n",
        "\n",
        "colors = ['#7780A5','#859E84']\n",
        "# Plotting\n",
        "plt.figure(figsize=(8, 4))\n",
        "plt.bar(quarterly_trip_duration['quarter'], quarterly_trip_duration['trip_duration'], color=colors)\n",
        "plt.title('Total Trip Duration by Quarter')\n",
        "plt.xlabel('Quarter')\n",
        "plt.ylabel('Total Trip Duration')\n",
        "plt.xticks(rotation=45)\n",
        "plt.grid(axis='y')\n",
        "plt.tight_layout()\n",
        "plt.show()"
      ]
    },
    {
      "cell_type": "markdown",
      "metadata": {
        "id": "0DUkeBuEpYxj"
      },
      "source": [
        "## **Chart 17**\n",
        "\n",
        "*  Total Trip Duration by Hour"
      ]
    },
    {
      "cell_type": "code",
      "execution_count": null,
      "metadata": {
        "id": "O2MTbnTJoze3"
      },
      "outputs": [],
      "source": [
        "# Grouping data\n",
        "hourly_trip_duration = taxi.groupby('hour')['trip_duration'].sum().reset_index()\n",
        "\n",
        "# Plotting\n",
        "plt.figure(figsize=(16, 6))\n",
        "sns.lineplot(x='hour', y='trip_duration', data=hourly_trip_duration, marker='o',color='#A36E6C')\n",
        "plt.title('Total Trip Duration by Hour')\n",
        "plt.xlabel('Hour of the Day')\n",
        "plt.ylabel('Total Trip Duration')\n",
        "plt.xticks(range(24))\n",
        "plt.grid(True)\n",
        "plt.show()"
      ]
    },
    {
      "cell_type": "markdown",
      "metadata": {
        "id": "1myHVYjmqLBM"
      },
      "source": [
        "## **Chart 18**\n",
        "\n",
        "*  Total Trip Duration by Vendor, Passenger Count, and Month"
      ]
    },
    {
      "cell_type": "code",
      "execution_count": null,
      "metadata": {
        "id": "ov3xu2dUozb_"
      },
      "outputs": [],
      "source": [
        "taxi_duration_by_vendor_passenger = taxi.groupby(['vendor_id', 'passenger_count', 'month'])['trip_duration'].sum().unstack()\n",
        "\n",
        "plt.figure(figsize=(12, 8))\n",
        "sns.heatmap(taxi_duration_by_vendor_passenger, annot=True, fmt='.0f', cmap='coolwarm', linewidths=.5)\n",
        "\n",
        "# Adding titles and labels\n",
        "plt.title('Total Trip Duration by Vendor, Passenger Count, and Month')\n",
        "plt.xlabel('Month')\n",
        "plt.ylabel('Vendor ID, Passenger Count')\n",
        "\n",
        "# Display the chart\n",
        "plt.show()"
      ]
    },
    {
      "cell_type": "markdown",
      "metadata": {
        "id": "CqnjVYlXq_7q"
      },
      "source": [
        "## **Chart 19**\n",
        "\n",
        "*  Sum of Trip Duration by Vendor ID, Passenger Count, and Week"
      ]
    },
    {
      "cell_type": "code",
      "execution_count": null,
      "metadata": {
        "id": "lSmaEBaiozYn"
      },
      "outputs": [],
      "source": [
        "# Assuming 'taxi' is your DataFrame and you've run the groupby operation\n",
        "data = taxi.groupby(['vendor_id', 'passenger_count', 'week'])['trip_duration'].sum().unstack()\n",
        "\n",
        "# Create a heatmap\n",
        "plt.figure(figsize=(8, 8))\n",
        "sns.heatmap(data, annot=True, fmt=\".1f\", cmap='Set3')\n",
        "plt.title('Sum of Trip Duration by Vendor ID, Passenger Count, and Week')\n",
        "plt.ylabel('Vendor ID and Passenger Count')\n",
        "plt.xlabel('Week')\n",
        "plt.show()"
      ]
    },
    {
      "cell_type": "markdown",
      "metadata": {
        "id": "9mBPHZZDr6SG"
      },
      "source": [
        "## **Chart 20**\n",
        "\n",
        "*  Total Trip Duration by Week and Hour"
      ]
    },
    {
      "cell_type": "code",
      "execution_count": null,
      "metadata": {
        "id": "spvw7DatozUY"
      },
      "outputs": [],
      "source": [
        "pivot_data = taxi.groupby(['week', 'hour'])['trip_duration'].sum().unstack()\n",
        "\n",
        "# Create the heatmap\n",
        "plt.figure(figsize=(12, 4))\n",
        "sns.heatmap(pivot_data, cmap='Set2', linewidths=.5)\n",
        "\n",
        "# Adding title and labels\n",
        "plt.title('Total Trip Duration by Week and Hour', fontsize=16)\n",
        "plt.xlabel('Hour of the Day', fontsize=12)\n",
        "plt.ylabel('Week', fontsize=12)\n",
        "\n",
        "plt.show()"
      ]
    },
    {
      "cell_type": "markdown",
      "metadata": {
        "id": "BmwlzE_kscBu"
      },
      "source": [
        "## **Chart 21**\n",
        "\n",
        "* Total Trip Duration by Quarter and Hour"
      ]
    },
    {
      "cell_type": "code",
      "execution_count": null,
      "metadata": {
        "id": "h5HOpwszozRd"
      },
      "outputs": [],
      "source": [
        "pivot_data = taxi.groupby(['quarter', 'hour'])['trip_duration'].sum().unstack()\n",
        "\n",
        "# Create the heatmap\n",
        "plt.figure(figsize=(12, 4))\n",
        "sns.heatmap(pivot_data, cmap='Set2', linewidths=.5)\n",
        "\n",
        "# Adding title and labels\n",
        "plt.title('Total Trip Duration by Quarter and Hour', fontsize=16)\n",
        "plt.xlabel('Hour of the Day', fontsize=12)\n",
        "plt.ylabel('Quarter', fontsize=12)\n",
        "\n",
        "plt.show()"
      ]
    },
    {
      "cell_type": "markdown",
      "metadata": {
        "id": "3mP6ggYqtz0s"
      },
      "source": [
        "## Chart 22\n"
      ]
    },
    {
      "cell_type": "code",
      "execution_count": null,
      "metadata": {
        "id": "m8HCQFVBozOg"
      },
      "outputs": [],
      "source": [
        "# Categorical-Categorical\n",
        "sns.clustermap(pd.crosstab(taxi['month'], taxi['week'])) # Bie-Variant Analysis\n",
        "plt.show()"
      ]
    },
    {
      "cell_type": "markdown",
      "metadata": {
        "id": "pmvduVmBu3eB"
      },
      "source": [
        "## **Chart 23**\n",
        "*  Pickup and Dropoff Locations\n",
        "\n",
        "*  Map show of pickup location to drop location"
      ]
    },
    {
      "cell_type": "code",
      "execution_count": null,
      "metadata": {
        "id": "Hvc9nbKhuHFj"
      },
      "outputs": [],
      "source": [
        "import folium\n",
        "\n",
        "nyc_map = folium.Map(location=[40.7128, -74.0060], zoom_start=6)\n",
        "\n",
        "for _, row in taxi.sample(100).iterrows():  # sample 100 points for visualization\n",
        "    folium.CircleMarker(location=[row['pickup_latitude'], row['pickup_longitude']], radius=2, color='blue', fill=True).add_to(nyc_map)\n",
        "    folium.CircleMarker(location=[row['dropoff_latitude'], row['dropoff_longitude']], radius=2, color='red', fill=True).add_to(nyc_map)\n",
        "\n",
        "nyc_map\n"
      ]
    },
    {
      "cell_type": "markdown",
      "metadata": {
        "id": "ubC6PWQPwlKO"
      },
      "source": [
        "####  Pickup and Dropoff Locations"
      ]
    },
    {
      "cell_type": "code",
      "execution_count": null,
      "metadata": {
        "id": "86wX-e2QuHAD"
      },
      "outputs": [],
      "source": [
        "plt.scatter(taxi['pickup_longitude'], taxi['pickup_latitude'], c='blue', s=1, alpha=0.5, label='Pickup')\n",
        "plt.scatter(taxi['dropoff_longitude'], taxi['dropoff_latitude'], c='red', s=1, alpha=0.5, label='Dropoff')\n",
        "plt.xlabel('Longitude')\n",
        "plt.ylabel('Latitude')\n",
        "plt.legend()\n",
        "plt.title('Pickup and Dropoff Locations')\n",
        "plt.show()"
      ]
    },
    {
      "cell_type": "markdown",
      "metadata": {
        "id": "HG1df5LN9328"
      },
      "source": [
        "## **Chart 24**\n",
        "\n",
        "*   trip_duration count of each hour in weekdays and weekend"
      ]
    },
    {
      "cell_type": "code",
      "execution_count": null,
      "metadata": {
        "colab": {
          "background_save": true
        },
        "id": "9OPF5jaTuG6g",
        "outputId": "635d0d84-47fa-472e-d3fb-df9576324071"
      },
      "outputs": [
        {
          "data": {
            "image/png": "[encoded data removed]",
            "text/plain": [
              "<Figure size 1500x700 with 1 Axes>"
            ]
          },
          "metadata": {},
          "output_type": "display_data"
        }
      ],
      "source": [
        "plt.figure(figsize=(15,7))\n",
        "sns.pointplot(x = taxi['hour'],y = taxi['trip_duration'],hue = taxi['week'])\n",
        "plt.title('trip_duration count of each hour in weekdays and weekend')\n",
        "plt.show()"
      ]
    },
    {
      "cell_type": "markdown",
      "metadata": {
        "id": "NC_X3p0fY2L0"
      },
      "source": [
        "#### **Chart - 25 - Correlation Heatmap**"
      ]
    },
    {
      "cell_type": "code",
      "execution_count": null,
      "metadata": {
        "colab": {
          "background_save": true
        },
        "id": "xyC9zolEZNRQ",
        "outputId": "6a00d391-e187-42fd-896a-6a8b5fcbb732"
      },
      "outputs": [
        {
          "data": {
            "application/vnd.google.colaboratory.intrinsic+json": {
              "summary": "{\n  \"name\": \"df_numeric\",\n  \"rows\": 5,\n  \"fields\": [\n    {\n      \"column\": \"vendor_id\",\n      \"properties\": {\n        \"dtype\": \"number\",\n        \"std\": 0.4299297944130813,\n        \"min\": -0.005943904855750602,\n        \"max\": 1.0,\n        \"num_unique_values\": 5,\n        \"samples\": [\n          0.28741532541844783,\n          0.009298599643365076,\n          0.020304177490056467\n        ],\n        \"semantic_type\": \"\",\n        \"description\": \"\"\n      }\n    },\n    {\n      \"column\": \"passenger_count\",\n      \"properties\": {\n        \"dtype\": \"number\",\n        \"std\": 0.4308400161647107,\n        \"min\": -0.000629514695046554,\n        \"max\": 1.0,\n        \"num_unique_values\": 5,\n        \"samples\": [\n          1.0,\n          0.009101436776686303,\n          0.008470987890306895\n        ],\n        \"semantic_type\": \"\",\n        \"description\": \"\"\n      }\n    },\n    {\n      \"column\": \"trip_duration\",\n      \"properties\": {\n        \"dtype\": \"number\",\n        \"std\": 0.4429446271687367,\n        \"min\": 0.0036903123551839706,\n        \"max\": 1.0,\n        \"num_unique_values\": 5,\n        \"samples\": [\n          0.008470987890306895,\n          0.0036903123551839706,\n          1.0\n        ],\n        \"semantic_type\": \"\",\n        \"description\": \"\"\n      }\n    },\n    {\n      \"column\": \"quarter\",\n      \"properties\": {\n        \"dtype\": \"number\",\n        \"std\": 0.44780782171515654,\n        \"min\": -0.005943904855750602,\n        \"max\": 1.0,\n        \"num_unique_values\": 5,\n        \"samples\": [\n          -0.000629514695046554,\n          -0.004649099545654203,\n          0.006128334090778622\n        ],\n        \"semantic_type\": \"\",\n        \"description\": \"\"\n      }\n    },\n    {\n      \"column\": \"hour\",\n      \"properties\": {\n        \"dtype\": \"number\",\n        \"std\": 0.44529967255541003,\n        \"min\": -0.004649099545654203,\n        \"max\": 1.0,\n        \"num_unique_values\": 5,\n        \"samples\": [\n          0.009101436776686303,\n          1.0,\n          0.0036903123551839706\n        ],\n        \"semantic_type\": \"\",\n        \"description\": \"\"\n      }\n    }\n  ]\n}",
              "type": "dataframe"
            },
            "text/html": [
              "\n",
              "  <div id=\"df-bb5df7fa-ed3d-4e2a-95a3-5f7e7326132b\" class=\"colab-df-container\">\n",
              "    <div>\n",
              "<style scoped>\n",
              "    .dataframe tbody tr th:only-of-type {\n",
              "        vertical-align: middle;\n",
              "    }\n",
              "\n",
              "    .dataframe tbody tr th {\n",
              "        vertical-align: top;\n",
              "    }\n",
              "\n",
              "    .dataframe thead th {\n",
              "        text-align: right;\n",
              "    }\n",
              "</style>\n",
              "<table border=\"1\" class=\"dataframe\">\n",
              "  <thead>\n",
              "    <tr style=\"text-align: right;\">\n",
              "      <th></th>\n",
              "      <th>vendor_id</th>\n",
              "      <th>passenger_count</th>\n",
              "      <th>trip_duration</th>\n",
              "      <th>quarter</th>\n",
              "      <th>hour</th>\n",
              "    </tr>\n",
              "  </thead>\n",
              "  <tbody>\n",
              "    <tr>\n",
              "      <th>vendor_id</th>\n",
              "      <td>1.000000</td>\n",
              "      <td>0.287415</td>\n",
              "      <td>0.020304</td>\n",
              "      <td>-0.005944</td>\n",
              "      <td>0.009299</td>\n",
              "    </tr>\n",
              "    <tr>\n",
              "      <th>passenger_count</th>\n",
              "      <td>0.287415</td>\n",
              "      <td>1.000000</td>\n",
              "      <td>0.008471</td>\n",
              "      <td>-0.000630</td>\n",
              "      <td>0.009101</td>\n",
              "    </tr>\n",
              "    <tr>\n",
              "      <th>trip_duration</th>\n",
              "      <td>0.020304</td>\n",
              "      <td>0.008471</td>\n",
              "      <td>1.000000</td>\n",
              "      <td>0.006128</td>\n",
              "      <td>0.003690</td>\n",
              "    </tr>\n",
              "    <tr>\n",
              "      <th>quarter</th>\n",
              "      <td>-0.005944</td>\n",
              "      <td>-0.000630</td>\n",
              "      <td>0.006128</td>\n",
              "      <td>1.000000</td>\n",
              "      <td>-0.004649</td>\n",
              "    </tr>\n",
              "    <tr>\n",
              "      <th>hour</th>\n",
              "      <td>0.009299</td>\n",
              "      <td>0.009101</td>\n",
              "      <td>0.003690</td>\n",
              "      <td>-0.004649</td>\n",
              "      <td>1.000000</td>\n",
              "    </tr>\n",
              "  </tbody>\n",
              "</table>\n",
              "</div>\n",
              "    <div class=\"colab-df-buttons\">\n",
              "\n",
              "  <div class=\"colab-df-container\">\n",
              "    <button class=\"colab-df-convert\" onclick=\"convertToInteractive('df-bb5df7fa-ed3d-4e2a-95a3-5f7e7326132b')\"\n",
              "            title=\"Convert this dataframe to an interactive table.\"\n",
              "            style=\"display:none;\">\n",
              "\n",
              "  <svg xmlns=\"http://www.w3.org/2000/svg\" height=\"24px\" viewBox=\"0 -960 960 960\">\n",
              "    <path d=\"M120-120v-720h720v720H120Zm60-500h600v-160H180v160Zm220 220h160v-160H400v160Zm0 220h160v-160H400v160ZM180-400h160v-160H180v160Zm440 0h160v-160H620v160ZM180-180h160v-160H180v160Zm440 0h160v-160H620v160Z\"/>\n",
              "  </svg>\n",
              "    </button>\n",
              "\n",
              "  <style>\n",
              "    .colab-df-container {\n",
              "      display:flex;\n",
              "      gap: 12px;\n",
              "    }\n",
              "\n",
              "    .colab-df-convert {\n",
              "      background-color: #E8F0FE;\n",
              "      border: none;\n",
              "      border-radius: 50%;\n",
              "      cursor: pointer;\n",
              "      display: none;\n",
              "      fill: #1967D2;\n",
              "      height: 32px;\n",
              "      padding: 0 0 0 0;\n",
              "      width: 32px;\n",
              "    }\n",
              "\n",
              "    .colab-df-convert:hover {\n",
              "      background-color: #E2EBFA;\n",
              "      box-shadow: 0px 1px 2px rgba(60, 64, 67, 0.3), 0px 1px 3px 1px rgba(60, 64, 67, 0.15);\n",
              "      fill: #174EA6;\n",
              "    }\n",
              "\n",
              "    .colab-df-buttons div {\n",
              "      margin-bottom: 4px;\n",
              "    }\n",
              "\n",
              "    [theme=dark] .colab-df-convert {\n",
              "      background-color: #3B4455;\n",
              "      fill: #D2E3FC;\n",
              "    }\n",
              "\n",
              "    [theme=dark] .colab-df-convert:hover {\n",
              "      background-color: #434B5C;\n",
              "      box-shadow: 0px 1px 3px 1px rgba(0, 0, 0, 0.15);\n",
              "      filter: drop-shadow(0px 1px 2px rgba(0, 0, 0, 0.3));\n",
              "      fill: #FFFFFF;\n",
              "    }\n",
              "  </style>\n",
              "\n",
              "    <script>\n",
              "      const buttonEl =\n",
              "        document.querySelector('#df-bb5df7fa-ed3d-4e2a-95a3-5f7e7326132b button.colab-df-convert');\n",
              "      buttonEl.style.display =\n",
              "        google.colab.kernel.accessAllowed ? 'block' : 'none';\n",
              "\n",
              "      async function convertToInteractive(key) {\n",
              "        const element = document.querySelector('#df-bb5df7fa-ed3d-4e2a-95a3-5f7e7326132b');\n",
              "        const dataTable =\n",
              "          await google.colab.kernel.invokeFunction('convertToInteractive',\n",
              "                                                    [key], {});\n",
              "        if (!dataTable) return;\n",
              "\n",
              "        const docLinkHtml = 'Like what you see? Visit the ' +\n",
              "          '<a target=\"_blank\" href=https://colab.research.google.com/notebooks/data_table.ipynb>data table notebook</a>'\n",
              "          + ' to learn more about interactive tables.';\n",
              "        element.innerHTML = '';\n",
              "        dataTable['output_type'] = 'display_data';\n",
              "        await google.colab.output.renderOutput(dataTable, element);\n",
              "        const docLink = document.createElement('div');\n",
              "        docLink.innerHTML = docLinkHtml;\n",
              "        element.appendChild(docLink);\n",
              "      }\n",
              "    </script>\n",
              "  </div>\n",
              "\n",
              "\n",
              "<div id=\"df-26a74a4e-2cc9-44a0-9613-5f049b8726f2\">\n",
              "  <button class=\"colab-df-quickchart\" onclick=\"quickchart('df-26a74a4e-2cc9-44a0-9613-5f049b8726f2')\"\n",
              "            title=\"Suggest charts\"\n",
              "            style=\"display:none;\">\n",
              "\n",
              "<svg xmlns=\"http://www.w3.org/2000/svg\" height=\"24px\"viewBox=\"0 0 24 24\"\n",
              "     width=\"24px\">\n",
              "    <g>\n",
              "        <path d=\"M19 3H5c-1.1 0-2 .9-2 2v14c0 1.1.9 2 2 2h14c1.1 0 2-.9 2-2V5c0-1.1-.9-2-2-2zM9 17H7v-7h2v7zm4 0h-2V7h2v10zm4 0h-2v-4h2v4z\"/>\n",
              "    </g>\n",
              "</svg>\n",
              "  </button>\n",
              "\n",
              "<style>\n",
              "  .colab-df-quickchart {\n",
              "      --bg-color: #E8F0FE;\n",
              "      --fill-color: #1967D2;\n",
              "      --hover-bg-color: #E2EBFA;\n",
              "      --hover-fill-color: #174EA6;\n",
              "      --disabled-fill-color: #AAA;\n",
              "      --disabled-bg-color: #DDD;\n",
              "  }\n",
              "\n",
              "  [theme=dark] .colab-df-quickchart {\n",
              "      --bg-color: #3B4455;\n",
              "      --fill-color: #D2E3FC;\n",
              "      --hover-bg-color: #434B5C;\n",
              "      --hover-fill-color: #FFFFFF;\n",
              "      --disabled-bg-color: #3B4455;\n",
              "      --disabled-fill-color: #666;\n",
              "  }\n",
              "\n",
              "  .colab-df-quickchart {\n",
              "    background-color: var(--bg-color);\n",
              "    border: none;\n",
              "    border-radius: 50%;\n",
              "    cursor: pointer;\n",
              "    display: none;\n",
              "    fill: var(--fill-color);\n",
              "    height: 32px;\n",
              "    padding: 0;\n",
              "    width: 32px;\n",
              "  }\n",
              "\n",
              "  .colab-df-quickchart:hover {\n",
              "    background-color: var(--hover-bg-color);\n",
              "    box-shadow: 0 1px 2px rgba(60, 64, 67, 0.3), 0 1px 3px 1px rgba(60, 64, 67, 0.15);\n",
              "    fill: var(--button-hover-fill-color);\n",
              "  }\n",
              "\n",
              "  .colab-df-quickchart-complete:disabled,\n",
              "  .colab-df-quickchart-complete:disabled:hover {\n",
              "    background-color: var(--disabled-bg-color);\n",
              "    fill: var(--disabled-fill-color);\n",
              "    box-shadow: none;\n",
              "  }\n",
              "\n",
              "  .colab-df-spinner {\n",
              "    border: 2px solid var(--fill-color);\n",
              "    border-color: transparent;\n",
              "    border-bottom-color: var(--fill-color);\n",
              "    animation:\n",
              "      spin 1s steps(1) infinite;\n",
              "  }\n",
              "\n",
              "  @keyframes spin {\n",
              "    0% {\n",
              "      border-color: transparent;\n",
              "      border-bottom-color: var(--fill-color);\n",
              "      border-left-color: var(--fill-color);\n",
              "    }\n",
              "    20% {\n",
              "      border-color: transparent;\n",
              "      border-left-color: var(--fill-color);\n",
              "      border-top-color: var(--fill-color);\n",
              "    }\n",
              "    30% {\n",
              "      border-color: transparent;\n",
              "      border-left-color: var(--fill-color);\n",
              "      border-top-color: var(--fill-color);\n",
              "      border-right-color: var(--fill-color);\n",
              "    }\n",
              "    40% {\n",
              "      border-color: transparent;\n",
              "      border-right-color: var(--fill-color);\n",
              "      border-top-color: var(--fill-color);\n",
              "    }\n",
              "    60% {\n",
              "      border-color: transparent;\n",
              "      border-right-color: var(--fill-color);\n",
              "    }\n",
              "    80% {\n",
              "      border-color: transparent;\n",
              "      border-right-color: var(--fill-color);\n",
              "      border-bottom-color: var(--fill-color);\n",
              "    }\n",
              "    90% {\n",
              "      border-color: transparent;\n",
              "      border-bottom-color: var(--fill-color);\n",
              "    }\n",
              "  }\n",
              "</style>\n",
              "\n",
              "  <script>\n",
              "    async function quickchart(key) {\n",
              "      const quickchartButtonEl =\n",
              "        document.querySelector('#' + key + ' button');\n",
              "      quickchartButtonEl.disabled = true;  // To prevent multiple clicks.\n",
              "      quickchartButtonEl.classList.add('colab-df-spinner');\n",
              "      try {\n",
              "        const charts = await google.colab.kernel.invokeFunction(\n",
              "            'suggestCharts', [key], {});\n",
              "      } catch (error) {\n",
              "        console.error('Error during call to suggestCharts:', error);\n",
              "      }\n",
              "      quickchartButtonEl.classList.remove('colab-df-spinner');\n",
              "      quickchartButtonEl.classList.add('colab-df-quickchart-complete');\n",
              "    }\n",
              "    (() => {\n",
              "      let quickchartButtonEl =\n",
              "        document.querySelector('#df-26a74a4e-2cc9-44a0-9613-5f049b8726f2 button');\n",
              "      quickchartButtonEl.style.display =\n",
              "        google.colab.kernel.accessAllowed ? 'block' : 'none';\n",
              "    })();\n",
              "  </script>\n",
              "</div>\n",
              "\n",
              "    </div>\n",
              "  </div>\n"
            ],
            "text/plain": [
              "                 vendor_id  passenger_count  trip_duration   quarter      hour\n",
              "vendor_id         1.000000         0.287415       0.020304 -0.005944  0.009299\n",
              "passenger_count   0.287415         1.000000       0.008471 -0.000630  0.009101\n",
              "trip_duration     0.020304         0.008471       1.000000  0.006128  0.003690\n",
              "quarter          -0.005944        -0.000630       0.006128  1.000000 -0.004649\n",
              "hour              0.009299         0.009101       0.003690 -0.004649  1.000000"
            ]
          },
          "execution_count": 1450,
          "metadata": {},
          "output_type": "execute_result"
        }
      ],
      "source": [
        "# Correlation Heatmap visualization code\n",
        "# Find the Correlation\n",
        "df_numeric = taxi[['vendor_id','passenger_count','trip_duration','quarter','hour']]\n",
        "df_numeric.corr()"
      ]
    },
    {
      "cell_type": "code",
      "execution_count": null,
      "metadata": {
        "colab": {
          "background_save": true
        },
        "id": "ES3SY9Ihxx3-",
        "outputId": "1c581751-3c1a-4f57-8568-0c3212a7d591"
      },
      "outputs": [
        {
          "data": {
            "image/png": "[encoded data removed]",
            "text/plain": [
              "<Figure size 900x600 with 2 Axes>"
            ]
          },
          "metadata": {},
          "output_type": "display_data"
        }
      ],
      "source": [
        "# Correlation Heatmap visualization code\n",
        "plt.figure(figsize=(9, 6))\n",
        "\n",
        "dataplot = sns.heatmap(df_numeric.corr(), cmap=\"YlGnBu\", annot=True) # Multivariant analysis\n",
        "\n",
        "plt.xticks(rotation=45, ha='right')\n",
        "\n",
        "plt.yticks(rotation=45, ha='right')\n",
        "\n",
        "# displaying heatmap\n",
        "plt.show()"
      ]
    },
    {
      "cell_type": "markdown",
      "metadata": {
        "id": "UV0SzAkaZNRQ"
      },
      "source": [
        "##### 1. Why did you pick the specific chart?"
      ]
    },
    {
      "cell_type": "markdown",
      "metadata": {
        "id": "DVPuT8LYZNRQ"
      },
      "source": [
        "A correlation heatmap visually represents the strength and direction of relationships between variables. Positive correlations are typically shown in one color (e.g., blue), while negative correlations are shown in another (e.g., red). The intensity of the color indicates the strength of the correlation.\n",
        "\n",
        "*   Identify Strong Relationships\n",
        "*   Detect Multicollinearity\n",
        "*   Simplify Complex Data\n",
        "*   Highlight Anomalies\n",
        "*   Easy Interpretation"
      ]
    },
    {
      "cell_type": "markdown",
      "metadata": {
        "id": "YPEH6qLeZNRQ"
      },
      "source": [
        "##### 2. What is/are the insight(s) found from the chart?"
      ]
    },
    {
      "cell_type": "markdown",
      "metadata": {
        "id": "bfSqtnDqZNRR"
      },
      "source": [
        "*  **High Positive Correlation:** Variables that are strongly positively correlated (e.g., a correlation coefficient close to +1) indicate that as one variable increases, the other tends to increase as well. This might suggest a direct relationship.\n",
        "*  **High Negative Correlation:** Variables with a strong negative correlation (e.g., close to -1) indicate that as one variable increases, the other tends to decrease. This could indicate an inverse relationship.\n",
        "*  **Low or No Correlation:** Variables with correlations near 0 have little to no linear relationship, suggesting they might be independent of each other.\n",
        "* **Multicollinearity:** Identifying pairs of variables that are highly correlated with each other might indicate multicollinearity, which can affect model performance."
      ]
    },
    {
      "cell_type": "markdown",
      "metadata": {
        "id": "q29F0dvdveiT"
      },
      "source": [
        "#### **Chart - 26 - Pair Plot**"
      ]
    },
    {
      "cell_type": "code",
      "execution_count": null,
      "metadata": {
        "id": "o58-TEIhveiU"
      },
      "outputs": [],
      "source": [
        "# Pair Plot visualization code\n",
        "sns.pairplot(df_numeric, diag_kind=\"kde\", palette='YlGn', height=2.5)\n",
        "plt.show()"
      ]
    },
    {
      "cell_type": "markdown",
      "metadata": {
        "id": "EXh0U9oCveiU"
      },
      "source": [
        "##### 1. Why did you pick the specific chart?"
      ]
    },
    {
      "cell_type": "markdown",
      "metadata": {
        "id": "eMmPjTByveiU"
      },
      "source": [
        "**Identify Relationships:** Pair plots help in identifying relationships (linear or non-linear) between different features. By plotting every feature against every other feature, you can quickly see if there’s a strong correlation.\n",
        "\n",
        "**Detect Outliers:** They are useful for detecting outliers, which might skew your analysis or model training. Outliers often stand out clearly in a pair plot.\n",
        "\n",
        "**Understand Data Distribution:** The diagonal of a pair plot often shows the distribution of each variable, helping you understand the data's spread and any skewness.\n",
        "\n",
        "**Multivariate Analysis:** Pair plots provide a compact view of the entire dataset, allowing you to assess interactions between variables in a multivariate context, which is particularly useful in exploratory data analysis (EDA)."
      ]
    },
    {
      "cell_type": "markdown",
      "metadata": {
        "id": "22aHeOlLveiV"
      },
      "source": [
        "##### 2. What is/are the insight(s) found from the chart?"
      ]
    },
    {
      "cell_type": "markdown",
      "metadata": {
        "id": "uPQ8RGwHveiV"
      },
      "source": [
        "*  **Linear Relationship:** If two variables show a straight-line pattern, it suggests a linear relationship. For example, if the scatterplot between two variables forms a line from the bottom left to the top right, there is a positive linear correlation.\n",
        "*  **Non-linear Relationship:** Curved patterns may indicate non-linear relationships. For instance, a parabolic shape suggests a quadratic relationship between the variables.\n",
        "*  **No Relationship:** A random scatter of points with no discernible pattern indicates no significant relationship between the variables.\n",
        "\n",
        "* **Outliers:** Points that are distant from the rest of the data in any of the scatterplots may be outliers. These can affect statistical analyses and model performance, so identifying them is crucial.\n",
        "\n",
        "*  **Skewness:** The diagonal plots (usually histograms or kernel density estimates) show the distribution of individual variables. A skewed distribution might suggest the need for transformation, such as logarithmic scaling.\n",
        "*  **Bimodal Distribution:** If a diagonal plot shows two peaks, it might indicate a bimodal distribution, which could suggest the presence of two different populations within the data."
      ]
    },
    {
      "cell_type": "markdown",
      "metadata": {
        "id": "g-ATYxFrGrvw"
      },
      "source": [
        "## ***5. Hypothesis Testing***"
      ]
    },
    {
      "cell_type": "markdown",
      "metadata": {
        "id": "Yfr_Vlr8HBkt"
      },
      "source": [
        "### Based on your chart experiments, define three hypothetical statements from the dataset. In the next three questions, perform hypothesis testing to obtain final conclusion about the statements through your code and statistical testing."
      ]
    },
    {
      "cell_type": "markdown",
      "metadata": {
        "id": "-7MS06SUHkB-"
      },
      "source": [
        "Answer Here."
      ]
    },
    {
      "cell_type": "markdown",
      "metadata": {
        "id": "8yEUt7NnHlrM"
      },
      "source": [
        "### Hypothetical Statement - 1"
      ]
    },
    {
      "cell_type": "markdown",
      "metadata": {
        "id": "tEA2Xm5dHt1r"
      },
      "source": [
        "#### 1. State Your research hypothesis as a null hypothesis and alternate hypothesis."
      ]
    },
    {
      "cell_type": "markdown",
      "metadata": {
        "id": "HI9ZP0laH0D-"
      },
      "source": [
        "Answer Here."
      ]
    },
    {
      "cell_type": "markdown",
      "metadata": {
        "id": "I79__PHVH19G"
      },
      "source": [
        "#### 2. Perform an appropriate statistical test."
      ]
    },
    {
      "cell_type": "code",
      "execution_count": null,
      "metadata": {
        "id": "oZrfquKtyian"
      },
      "outputs": [],
      "source": [
        "# Perform Statistical Test to obtain P-Value"
      ]
    },
    {
      "cell_type": "markdown",
      "metadata": {
        "id": "Ou-I18pAyIpj"
      },
      "source": [
        "##### Which statistical test have you done to obtain P-Value?"
      ]
    },
    {
      "cell_type": "markdown",
      "metadata": {
        "id": "s2U0kk00ygSB"
      },
      "source": [
        "Answer Here."
      ]
    },
    {
      "cell_type": "markdown",
      "metadata": {
        "id": "fF3858GYyt-u"
      },
      "source": [
        "##### Why did you choose the specific statistical test?"
      ]
    },
    {
      "cell_type": "markdown",
      "metadata": {
        "id": "HO4K0gP5y3B4"
      },
      "source": [
        "Answer Here."
      ]
    },
    {
      "cell_type": "markdown",
      "metadata": {
        "id": "4_0_7-oCpUZd"
      },
      "source": [
        "### Hypothetical Statement - 2"
      ]
    },
    {
      "cell_type": "markdown",
      "metadata": {
        "id": "hwyV_J3ipUZe"
      },
      "source": [
        "#### 1. State Your research hypothesis as a null hypothesis and alternate hypothesis."
      ]
    },
    {
      "cell_type": "markdown",
      "metadata": {
        "id": "FnpLGJ-4pUZe"
      },
      "source": [
        "Answer Here."
      ]
    },
    {
      "cell_type": "markdown",
      "metadata": {
        "id": "3yB-zSqbpUZe"
      },
      "source": [
        "#### 2. Perform an appropriate statistical test."
      ]
    },
    {
      "cell_type": "code",
      "execution_count": null,
      "metadata": {
        "id": "sWxdNTXNpUZe"
      },
      "outputs": [],
      "source": [
        "# Perform Statistical Test to obtain P-Value"
      ]
    },
    {
      "cell_type": "markdown",
      "metadata": {
        "id": "dEUvejAfpUZe"
      },
      "source": [
        "##### Which statistical test have you done to obtain P-Value?"
      ]
    },
    {
      "cell_type": "markdown",
      "metadata": {
        "id": "oLDrPz7HpUZf"
      },
      "source": [
        "Answer Here."
      ]
    },
    {
      "cell_type": "markdown",
      "metadata": {
        "id": "Fd15vwWVpUZf"
      },
      "source": [
        "##### Why did you choose the specific statistical test?"
      ]
    },
    {
      "cell_type": "markdown",
      "metadata": {
        "id": "4xOGYyiBpUZf"
      },
      "source": [
        "Answer Here."
      ]
    },
    {
      "cell_type": "markdown",
      "metadata": {
        "id": "bn_IUdTipZyH"
      },
      "source": [
        "### Hypothetical Statement - 3"
      ]
    },
    {
      "cell_type": "markdown",
      "metadata": {
        "id": "49K5P_iCpZyH"
      },
      "source": [
        "#### 1. State Your research hypothesis as a null hypothesis and alternate hypothesis."
      ]
    },
    {
      "cell_type": "markdown",
      "metadata": {
        "id": "7gWI5rT9pZyH"
      },
      "source": [
        "Answer Here."
      ]
    },
    {
      "cell_type": "markdown",
      "metadata": {
        "id": "Nff-vKELpZyI"
      },
      "source": [
        "#### 2. Perform an appropriate statistical test."
      ]
    },
    {
      "cell_type": "code",
      "execution_count": null,
      "metadata": {
        "id": "s6AnJQjtpZyI"
      },
      "outputs": [],
      "source": [
        "# Perform Statistical Test to obtain P-Value"
      ]
    },
    {
      "cell_type": "markdown",
      "metadata": {
        "id": "kLW572S8pZyI"
      },
      "source": [
        "##### Which statistical test have you done to obtain P-Value?"
      ]
    },
    {
      "cell_type": "markdown",
      "metadata": {
        "id": "ytWJ8v15pZyI"
      },
      "source": [
        "Answer Here."
      ]
    },
    {
      "cell_type": "markdown",
      "metadata": {
        "id": "dWbDXHzopZyI"
      },
      "source": [
        "##### Why did you choose the specific statistical test?"
      ]
    },
    {
      "cell_type": "markdown",
      "metadata": {
        "id": "M99G98V6pZyI"
      },
      "source": [
        "Answer Here."
      ]
    },
    {
      "cell_type": "markdown",
      "metadata": {
        "id": "yLjJCtPM0KBk"
      },
      "source": [
        "## ***6. Feature Engineering & Data Pre-processing***"
      ]
    },
    {
      "cell_type": "markdown",
      "metadata": {
        "id": "xiyOF9F70UgQ"
      },
      "source": [
        "### 1. Handling Missing Values"
      ]
    },
    {
      "cell_type": "code",
      "execution_count": null,
      "metadata": {
        "id": "rYBJ7w_8qHn8"
      },
      "outputs": [],
      "source": [
        "#copy original dataset in new dataset\n",
        "df = taxi.copy()"
      ]
    },
    {
      "cell_type": "code",
      "execution_count": null,
      "metadata": {
        "id": "CuV7P8xruHu9"
      },
      "outputs": [],
      "source": [
        "df.drop('id', inplace=True, axis=1)"
      ]
    },
    {
      "cell_type": "code",
      "execution_count": null,
      "metadata": {
        "id": "0XpQK75kx6iT"
      },
      "outputs": [],
      "source": [
        "df.info()"
      ]
    },
    {
      "cell_type": "markdown",
      "metadata": {
        "id": "uZrweXqv2KI-"
      },
      "source": [
        "### hour columns"
      ]
    },
    {
      "cell_type": "code",
      "execution_count": null,
      "metadata": {
        "id": "CPqkyiM2uHri"
      },
      "outputs": [],
      "source": [
        "def hour_con(h):\n",
        "  if h>=6 and h<=10:\n",
        "    return \"Morning\"\n",
        "  elif h>=11 and h<=16:\n",
        "    return \"Noon\"\n",
        "  elif h>=17 and h<=22:\n",
        "    return \"Evening\"\n",
        "  else:\n",
        "    return \"Night\"\n"
      ]
    },
    {
      "cell_type": "code",
      "execution_count": null,
      "metadata": {
        "id": "cbc4Xels26JS"
      },
      "outputs": [],
      "source": [
        "df['hour'] = df['hour'].apply(hour_con)"
      ]
    },
    {
      "cell_type": "code",
      "execution_count": null,
      "metadata": {
        "id": "1ScCPJe23BTo"
      },
      "outputs": [],
      "source": [
        "df['hour'].value_counts()"
      ]
    },
    {
      "cell_type": "code",
      "execution_count": null,
      "metadata": {
        "id": "RfkHpY0w3le-"
      },
      "outputs": [],
      "source": [
        "df['year'] = df['year'].astype(str)"
      ]
    },
    {
      "cell_type": "code",
      "execution_count": null,
      "metadata": {
        "id": "4KczeVsk4Fqd"
      },
      "outputs": [],
      "source": [
        "df.info()"
      ]
    },
    {
      "cell_type": "code",
      "execution_count": null,
      "metadata": {
        "id": "qt7FgaEP4XoT"
      },
      "outputs": [],
      "source": [
        "df.drop(['quarter','pickup_datetime','dropoff_datetime'], inplace=True, axis=1)"
      ]
    },
    {
      "cell_type": "code",
      "execution_count": null,
      "metadata": {
        "id": "A3S85RZx4tEs"
      },
      "outputs": [],
      "source": [
        "df.columns"
      ]
    },
    {
      "cell_type": "markdown",
      "metadata": {
        "id": "v1SgQ9kB5LeY"
      },
      "source": [
        "### Rename trip_duration columns to trip_distance"
      ]
    },
    {
      "cell_type": "code",
      "execution_count": null,
      "metadata": {
        "id": "csHXU0go5DJx"
      },
      "outputs": [],
      "source": [
        "df.rename(columns={'trip_duration': 'trip_distance'}, inplace=True)"
      ]
    },
    {
      "cell_type": "code",
      "execution_count": null,
      "metadata": {
        "id": "hGJgwf9m5qxD"
      },
      "outputs": [],
      "source": [
        "# Convert the Miles to Kilometer\n",
        "df['trip_distance'] = df['trip_distance'] * 1.60934"
      ]
    },
    {
      "cell_type": "code",
      "execution_count": null,
      "metadata": {
        "id": "-oEx6k6sMNeI"
      },
      "outputs": [],
      "source": [
        "df[df['duration'] != 0.016666666666666666].head(2)"
      ]
    },
    {
      "cell_type": "code",
      "execution_count": null,
      "metadata": {
        "id": "xJDc-Y39MNas"
      },
      "outputs": [],
      "source": [
        "df[df['trip_distance'] != 0].head(2)"
      ]
    },
    {
      "cell_type": "code",
      "execution_count": null,
      "metadata": {
        "id": "F3nlXaepMNXE"
      },
      "outputs": [],
      "source": [
        "df[df['passenger_count'] != 0].head(2)"
      ]
    },
    {
      "cell_type": "code",
      "execution_count": null,
      "metadata": {
        "id": "50mw_yso5zaq"
      },
      "outputs": [],
      "source": [
        "df.columns"
      ]
    },
    {
      "cell_type": "code",
      "execution_count": null,
      "metadata": {
        "id": "Deaj5oPr544B"
      },
      "outputs": [],
      "source": [
        "df.info()"
      ]
    },
    {
      "cell_type": "code",
      "execution_count": null,
      "metadata": {
        "id": "iRsAHk1K0fpS"
      },
      "outputs": [],
      "source": [
        "# Handling Missing Values & Missing Value Imputation"
      ]
    },
    {
      "cell_type": "code",
      "execution_count": null,
      "metadata": {
        "id": "MG9JmlDxqsv9"
      },
      "outputs": [],
      "source": [
        "df.isnull().sum()"
      ]
    },
    {
      "cell_type": "markdown",
      "metadata": {
        "id": "eZBZQMUqyaTX"
      },
      "source": [
        "### No null values or missing data in the dataset"
      ]
    },
    {
      "cell_type": "markdown",
      "metadata": {
        "id": "7wuGOrhz0itI"
      },
      "source": [
        "#### What all missing value imputation techniques have you used and why did you use those techniques?"
      ]
    },
    {
      "cell_type": "markdown",
      "metadata": {
        "id": "1ixusLtI0pqI"
      },
      "source": [
        "Answer Here."
      ]
    },
    {
      "cell_type": "code",
      "execution_count": null,
      "metadata": {
        "id": "LKKPeRjBym8u"
      },
      "outputs": [],
      "source": [
        "df[df.duplicated()]"
      ]
    },
    {
      "cell_type": "markdown",
      "metadata": {
        "id": "Aqgfgg0wy7aX"
      },
      "source": [
        "## there are 7 dublicated data"
      ]
    },
    {
      "cell_type": "code",
      "execution_count": null,
      "metadata": {
        "id": "fSK5wKpLzByw"
      },
      "outputs": [],
      "source": [
        "df.drop_duplicates(inplace=True)"
      ]
    },
    {
      "cell_type": "code",
      "execution_count": null,
      "metadata": {
        "id": "ijFISwhUzJeu"
      },
      "outputs": [],
      "source": [
        "df.duplicated().sum()"
      ]
    },
    {
      "cell_type": "markdown",
      "metadata": {
        "id": "id1riN9m0vUs"
      },
      "source": [
        "### 2. Handling Outliers"
      ]
    },
    {
      "cell_type": "markdown",
      "metadata": {
        "id": "n16wuDYE7BDK"
      },
      "source": [
        "### Checking the Outliers"
      ]
    },
    {
      "cell_type": "code",
      "execution_count": null,
      "metadata": {
        "id": "7McpL-rI6LVK"
      },
      "outputs": [],
      "source": [
        "# List of columns to plot\n",
        "columns_to_plot = ['passenger_count', 'pickup_longitude', 'pickup_latitude', 'dropoff_longitude', 'dropoff_latitude', 'trip_distance', 'duration']\n",
        "\n",
        "# Number of plots\n",
        "num_plots = len(columns_to_plot)\n",
        "\n",
        "# Create a figure and axes array\n",
        "fig, axes = plt.subplots(1, num_plots, figsize=(30, 5))  # Adjust the figure size as needed\n",
        "\n",
        "# Plot each box plot in its own subplot\n",
        "for i, column in enumerate(columns_to_plot):\n",
        "    axes[i].boxplot(df[column])\n",
        "    axes[i].set_title(column)\n",
        "    axes[i].set_ylabel('Values')\n",
        "    axes[i].set_xticklabels([column])  # Set x-tick labels\n",
        "\n",
        "# Adjust layout\n",
        "plt.tight_layout()\n",
        "\n",
        "# Show the plots\n",
        "plt.show()"
      ]
    },
    {
      "cell_type": "markdown",
      "metadata": {
        "id": "n1HO3M5_7SS8"
      },
      "source": [
        "### Outliers columns :\n",
        "passenger_count\n",
        "\n",
        "pickup_longitude\n",
        "\n",
        "pickup_latitude\n",
        "\n",
        "dropoff_longitude\n",
        "\n",
        "dropoff_latitude\n",
        "\n",
        "trip_distance\n",
        "\n",
        "duration'"
      ]
    },
    {
      "cell_type": "code",
      "execution_count": null,
      "metadata": {
        "id": "M6w2CzZf04JK"
      },
      "outputs": [],
      "source": [
        "# Handling Outliers & Outlier treatments"
      ]
    },
    {
      "cell_type": "markdown",
      "metadata": {
        "id": "WCU8WryV8bbo"
      },
      "source": [
        "### Check the distribution and outliers passenger_count columns"
      ]
    },
    {
      "cell_type": "code",
      "execution_count": null,
      "metadata": {
        "id": "ix94THVw7lmJ"
      },
      "outputs": [],
      "source": [
        "## For distribution\n",
        "plt.figure(figsize=(14,8))\n",
        "plt.subplot(2,2,1)\n",
        "sns.distplot(taxi['passenger_count'])\n",
        "\n",
        "# For Outliers\n",
        "plt.subplot(2,2,2)\n",
        "sns.boxplot(taxi['passenger_count'])\n",
        "plt.show()"
      ]
    },
    {
      "cell_type": "markdown",
      "metadata": {
        "id": "FwzMkEIe87Nq"
      },
      "source": [
        "## Remove Outliers of the Passenger count"
      ]
    },
    {
      "cell_type": "code",
      "execution_count": null,
      "metadata": {
        "id": "AM9HOMnp7lbT"
      },
      "outputs": [],
      "source": [
        "# Finding the IQR\n",
        "percentile25 = df['passenger_count'].quantile(0.25)\n",
        "percentile75 = df['passenger_count'].quantile(0.75)\n",
        "iqr = percentile75 - percentile25\n",
        "upper_limit = percentile75 + 1.5 * iqr\n",
        "lower_limit = percentile25 - 1.5 * iqr\n",
        "\n",
        "print(\"Upper limit\",upper_limit)\n",
        "print(\"Lower limit\",lower_limit)"
      ]
    },
    {
      "cell_type": "markdown",
      "metadata": {
        "id": "XEUtFXdj9SKW"
      },
      "source": [
        "### Using capping method remove outliers"
      ]
    },
    {
      "cell_type": "code",
      "execution_count": null,
      "metadata": {
        "id": "XeugekoF9V07"
      },
      "outputs": [],
      "source": [
        "df['passenger_count'] = np.where(\n",
        "    df['passenger_count'] > upper_limit,\n",
        "    upper_limit,\n",
        "    np.where(\n",
        "        df['passenger_count'] < lower_limit,\n",
        "        lower_limit,\n",
        "        df['passenger_count']\n",
        "    )\n",
        ")\n"
      ]
    },
    {
      "cell_type": "code",
      "execution_count": null,
      "metadata": {
        "id": "KgdiCm639VxJ"
      },
      "outputs": [],
      "source": [
        "# Comparing\n",
        "\n",
        "plt.figure(figsize=(14,8))\n",
        "plt.subplot(2,2,1)\n",
        "sns.distplot(taxi['passenger_count'])\n",
        "\n",
        "plt.subplot(2,2,2)\n",
        "sns.boxplot(taxi['passenger_count'])\n",
        "\n",
        "plt.subplot(2,2,3)\n",
        "sns.distplot(df['passenger_count'])\n",
        "\n",
        "plt.subplot(2,2,4)\n",
        "sns.boxplot(df['passenger_count'])\n",
        "\n",
        "plt.show()"
      ]
    },
    {
      "cell_type": "code",
      "execution_count": null,
      "metadata": {
        "id": "3pmcWQwI-NRL"
      },
      "outputs": [],
      "source": [
        "df.shape"
      ]
    },
    {
      "cell_type": "markdown",
      "metadata": {
        "id": "aTw3N2pB_K3Z"
      },
      "source": [
        "### Check the distribution and outliers pickup_longitude columns"
      ]
    },
    {
      "cell_type": "code",
      "execution_count": null,
      "metadata": {
        "id": "mt_iwV_6_BOW"
      },
      "outputs": [],
      "source": [
        "## For distribution\n",
        "plt.figure(figsize=(14,8))\n",
        "plt.subplot(2,2,1)\n",
        "sns.distplot(taxi['pickup_longitude'])\n",
        "\n",
        "# For Outliers\n",
        "plt.subplot(2,2,2)\n",
        "sns.boxplot(taxi['pickup_longitude'])\n",
        "plt.show()"
      ]
    },
    {
      "cell_type": "markdown",
      "metadata": {
        "id": "CNcj-Z1vAACQ"
      },
      "source": [
        "### Remove Outlier of the Pickup_logitude"
      ]
    },
    {
      "cell_type": "code",
      "execution_count": null,
      "metadata": {
        "id": "pzp9CkGS_BLo"
      },
      "outputs": [],
      "source": [
        "# Finding the IQR\n",
        "percentile25 = df['pickup_longitude'].quantile(0.25)\n",
        "percentile75 = df['pickup_longitude'].quantile(0.75)\n",
        "iqr = percentile75 - percentile25\n",
        "upper_limit = percentile75 + 1.5 * iqr\n",
        "lower_limit = percentile25 - 1.5 * iqr\n",
        "\n",
        "print(\"Upper limit\",upper_limit)\n",
        "print(\"Lower limit\",lower_limit)"
      ]
    },
    {
      "cell_type": "markdown",
      "metadata": {
        "id": "dqLX7Hyf_5Pa"
      },
      "source": [
        "### Using capping method remove outliers"
      ]
    },
    {
      "cell_type": "code",
      "execution_count": null,
      "metadata": {
        "id": "Kxo3piy9_BHw"
      },
      "outputs": [],
      "source": [
        "df['pickup_longitude'] = np.where(\n",
        "    df['pickup_longitude'] > upper_limit,\n",
        "    upper_limit,\n",
        "    np.where(\n",
        "        df['pickup_longitude'] < lower_limit,\n",
        "        lower_limit,\n",
        "        df['pickup_longitude']\n",
        "    )\n",
        ")"
      ]
    },
    {
      "cell_type": "code",
      "execution_count": null,
      "metadata": {
        "id": "Jhv-sCmBAX08"
      },
      "outputs": [],
      "source": [
        "df.shape"
      ]
    },
    {
      "cell_type": "code",
      "execution_count": null,
      "metadata": {
        "colab": {
          "background_save": true
        },
        "id": "NwQreEoW_BDV",
        "outputId": "2934dd0e-266e-4799-8c19-c07d8d45d440"
      },
      "outputs": [
        {
          "data": {
            "image/png": "[encoded data removed]",
            "text/plain": [
              "<Figure size 1400x800 with 4 Axes>"
            ]
          },
          "metadata": {},
          "output_type": "display_data"
        }
      ],
      "source": [
        "# Comparing\n",
        "\n",
        "plt.figure(figsize=(14,8))\n",
        "plt.subplot(2,2,1)\n",
        "sns.distplot(taxi['pickup_longitude'])\n",
        "\n",
        "plt.subplot(2,2,2)\n",
        "sns.boxplot(taxi['pickup_longitude'])\n",
        "\n",
        "plt.subplot(2,2,3)\n",
        "sns.distplot(df['pickup_longitude'])\n",
        "\n",
        "plt.subplot(2,2,4)\n",
        "sns.boxplot(df['pickup_longitude'])\n",
        "\n",
        "plt.show()"
      ]
    },
    {
      "cell_type": "markdown",
      "metadata": {
        "id": "B2asKsVuA_AT"
      },
      "source": [
        "### Remove Outlier of the Pickup_latitude"
      ]
    },
    {
      "cell_type": "code",
      "execution_count": null,
      "metadata": {
        "colab": {
          "background_save": true
        },
        "id": "QhqK8Jue_A5g",
        "outputId": "21b4b688-611d-4706-edc1-a6cae64e020c"
      },
      "outputs": [
        {
          "name": "stdout",
          "output_type": "stream",
          "text": [
            "Upper limit 40.814880371093736\n",
            "Lower limit 40.69082641601564\n"
          ]
        }
      ],
      "source": [
        "# Finding the IQR\n",
        "percentile25 = df['pickup_latitude'].quantile(0.25)\n",
        "percentile75 = df['pickup_latitude'].quantile(0.75)\n",
        "iqr = percentile75 - percentile25\n",
        "upper_limit = percentile75 + 1.5 * iqr\n",
        "lower_limit = percentile25 - 1.5 * iqr\n",
        "\n",
        "print(\"Upper limit\",upper_limit)\n",
        "print(\"Lower limit\",lower_limit)"
      ]
    },
    {
      "cell_type": "markdown",
      "metadata": {
        "id": "xTHC87bYBKnt"
      },
      "source": [
        "### Using capping method remove outliers"
      ]
    },
    {
      "cell_type": "code",
      "execution_count": null,
      "metadata": {
        "colab": {
          "background_save": true
        },
        "id": "O0ik0JhWA0eT"
      },
      "outputs": [],
      "source": [
        "df['pickup_latitude'] = np.where(\n",
        "    df['pickup_latitude'] > upper_limit,\n",
        "    upper_limit,\n",
        "    np.where(\n",
        "        df['pickup_latitude'] < lower_limit,\n",
        "        lower_limit,\n",
        "        df['pickup_latitude']\n",
        "    )\n",
        ")"
      ]
    },
    {
      "cell_type": "code",
      "execution_count": null,
      "metadata": {
        "colab": {
          "background_save": true
        },
        "id": "STBpWkgRBSs4",
        "outputId": "7595e807-b61e-46e9-8135-d223d0211058"
      },
      "outputs": [
        {
          "data": {
            "text/plain": [
              "(1458636, 13)"
            ]
          },
          "execution_count": 1492,
          "metadata": {},
          "output_type": "execute_result"
        }
      ],
      "source": [
        "df.shape"
      ]
    },
    {
      "cell_type": "code",
      "execution_count": null,
      "metadata": {
        "id": "Ow9u4147A0ba"
      },
      "outputs": [],
      "source": [
        "# Comparing\n",
        "\n",
        "plt.figure(figsize=(14,8))\n",
        "plt.subplot(2,2,1)\n",
        "sns.distplot(taxi['pickup_latitude'])\n",
        "\n",
        "plt.subplot(2,2,2)\n",
        "sns.boxplot(taxi['pickup_latitude'])\n",
        "\n",
        "plt.subplot(2,2,3)\n",
        "sns.distplot(df['pickup_latitude'])\n",
        "\n",
        "plt.subplot(2,2,4)\n",
        "sns.boxplot(df['pickup_latitude'])\n",
        "\n",
        "plt.show()"
      ]
    },
    {
      "cell_type": "markdown",
      "metadata": {
        "id": "1BqlW9ErDc4G"
      },
      "source": [
        "### Remove Outlier of the dropoff_longitude"
      ]
    },
    {
      "cell_type": "code",
      "execution_count": null,
      "metadata": {
        "id": "Y81hBNb3A0Y4"
      },
      "outputs": [],
      "source": [
        "# Finding the IQR\n",
        "percentile25 = df['dropoff_longitude'].quantile(0.25)\n",
        "percentile75 = df['dropoff_longitude'].quantile(0.75)\n",
        "iqr = percentile75 - percentile25\n",
        "upper_limit = percentile75 + 1.5 * iqr\n",
        "lower_limit = percentile25 - 1.5 * iqr\n",
        "\n",
        "print(\"Upper limit\",upper_limit)\n",
        "print(\"Lower limit\",lower_limit)"
      ]
    },
    {
      "cell_type": "markdown",
      "metadata": {
        "id": "TYxhh154Dh7i"
      },
      "source": [
        "### Using capping method remove outliers"
      ]
    },
    {
      "cell_type": "code",
      "execution_count": null,
      "metadata": {
        "id": "FpfazgRoA0WN"
      },
      "outputs": [],
      "source": [
        "df['dropoff_longitude'] = np.where(\n",
        "    df['dropoff_longitude'] > upper_limit,\n",
        "    upper_limit,\n",
        "    np.where(\n",
        "        df['dropoff_longitude'] < lower_limit,\n",
        "        lower_limit,\n",
        "        df['dropoff_longitude']\n",
        "    )\n",
        ")"
      ]
    },
    {
      "cell_type": "code",
      "execution_count": null,
      "metadata": {
        "id": "CadJqsDQEFjp"
      },
      "outputs": [],
      "source": [
        "df.shape"
      ]
    },
    {
      "cell_type": "code",
      "execution_count": null,
      "metadata": {
        "id": "q1oJXuIMA0TW"
      },
      "outputs": [],
      "source": [
        "# Comparing\n",
        "\n",
        "plt.figure(figsize=(14,8))\n",
        "plt.subplot(2,2,1)\n",
        "sns.distplot(taxi['dropoff_longitude'])\n",
        "\n",
        "plt.subplot(2,2,2)\n",
        "sns.boxplot(taxi['dropoff_longitude'])\n",
        "\n",
        "plt.subplot(2,2,3)\n",
        "sns.distplot(df['dropoff_longitude'])\n",
        "\n",
        "plt.subplot(2,2,4)\n",
        "sns.boxplot(df['dropoff_longitude'])\n",
        "\n",
        "plt.show()"
      ]
    },
    {
      "cell_type": "markdown",
      "metadata": {
        "id": "LFQzPVmWErKc"
      },
      "source": [
        "### Remove Outlier of the dropoff_latitude"
      ]
    },
    {
      "cell_type": "code",
      "execution_count": null,
      "metadata": {
        "id": "YZWsDExWA0Qs"
      },
      "outputs": [],
      "source": [
        "# Finding the IQR\n",
        "percentile25 = df['dropoff_latitude'].quantile(0.25)\n",
        "percentile75 = df['dropoff_latitude'].quantile(0.75)\n",
        "iqr = percentile75 - percentile25\n",
        "upper_limit = percentile75 + 1.5 * iqr\n",
        "lower_limit = percentile25 - 1.5 * iqr\n",
        "\n",
        "print(\"Upper limit\",upper_limit)\n",
        "print(\"Lower limit\",lower_limit)"
      ]
    },
    {
      "cell_type": "markdown",
      "metadata": {
        "id": "bNx4zXFiEmHC"
      },
      "source": [
        "### Using capping method remove outliers"
      ]
    },
    {
      "cell_type": "code",
      "execution_count": null,
      "metadata": {
        "id": "-w5EnXMMA0OB"
      },
      "outputs": [],
      "source": [
        "df['dropoff_latitude'] = np.where(\n",
        "    df['dropoff_latitude'] > upper_limit,\n",
        "    upper_limit,\n",
        "    np.where(\n",
        "        df['dropoff_latitude'] < lower_limit,\n",
        "        lower_limit,\n",
        "        df['dropoff_latitude']\n",
        "    )\n",
        ")"
      ]
    },
    {
      "cell_type": "code",
      "execution_count": null,
      "metadata": {
        "id": "drnX9zyPFEIq"
      },
      "outputs": [],
      "source": [
        "df.shape"
      ]
    },
    {
      "cell_type": "code",
      "execution_count": null,
      "metadata": {
        "id": "j41-FYsRA0Lb"
      },
      "outputs": [],
      "source": [
        "# Comparing\n",
        "\n",
        "plt.figure(figsize=(14,8))\n",
        "plt.subplot(2,2,1)\n",
        "sns.distplot(taxi['dropoff_latitude'])\n",
        "\n",
        "plt.subplot(2,2,2)\n",
        "sns.boxplot(taxi['dropoff_latitude'])\n",
        "\n",
        "plt.subplot(2,2,3)\n",
        "sns.distplot(df['dropoff_latitude'])\n",
        "\n",
        "plt.subplot(2,2,4)\n",
        "sns.boxplot(df['dropoff_latitude'])\n",
        "\n",
        "plt.show()"
      ]
    },
    {
      "cell_type": "markdown",
      "metadata": {
        "id": "xkkS5h6qGBwo"
      },
      "source": [
        "### Remove Outlier of the trip_distance"
      ]
    },
    {
      "cell_type": "code",
      "execution_count": null,
      "metadata": {
        "id": "QQsq4ARQFskY"
      },
      "outputs": [],
      "source": [
        "# Finding the IQR\n",
        "percentile25 = df['trip_distance'].quantile(0.25)\n",
        "percentile75 = df['trip_distance'].quantile(0.75)\n",
        "iqr = percentile75 - percentile25\n",
        "upper_limit = percentile75 + 1.5 * iqr\n",
        "lower_limit = percentile25 - 1.5 * iqr\n",
        "\n",
        "print(\"Upper limit\",upper_limit)\n",
        "print(\"Lower limit\",lower_limit)"
      ]
    },
    {
      "cell_type": "markdown",
      "metadata": {
        "id": "gWj6hh0ZGHhX"
      },
      "source": [
        "### Using capping method remove outliers"
      ]
    },
    {
      "cell_type": "code",
      "execution_count": null,
      "metadata": {
        "id": "UHlyTnA0FsXl"
      },
      "outputs": [],
      "source": [
        "df['trip_distance'] = np.where(\n",
        "    df['trip_distance'] > upper_limit,\n",
        "    upper_limit,\n",
        "    np.where(\n",
        "        df['trip_distance'] < lower_limit,\n",
        "        lower_limit,\n",
        "        df['trip_distance']\n",
        "    )\n",
        ")"
      ]
    },
    {
      "cell_type": "code",
      "execution_count": null,
      "metadata": {
        "id": "CNfXT27lFsI-"
      },
      "outputs": [],
      "source": [
        "df.shape"
      ]
    },
    {
      "cell_type": "code",
      "execution_count": null,
      "metadata": {
        "id": "7EZlYAjHFm9V"
      },
      "outputs": [],
      "source": [
        "# Comparing\n",
        "plt.figure(figsize=(14,8))\n",
        "plt.subplot(2,2,1)\n",
        "sns.distplot(taxi['trip_duration'])\n",
        "\n",
        "plt.subplot(2,2,2)\n",
        "sns.boxplot(taxi['trip_duration'])\n",
        "\n",
        "plt.subplot(2,2,3)\n",
        "sns.distplot(df['trip_distance'])\n",
        "\n",
        "plt.subplot(2,2,4)\n",
        "sns.boxplot(df['trip_distance'])\n",
        "\n",
        "plt.show()"
      ]
    },
    {
      "cell_type": "markdown",
      "metadata": {
        "id": "5AKMcSpIGEI2"
      },
      "source": [
        "### Remove Outlier of the duration"
      ]
    },
    {
      "cell_type": "code",
      "execution_count": null,
      "metadata": {
        "id": "Ic9TKy5iFm6q"
      },
      "outputs": [],
      "source": [
        "# Finding the IQR\n",
        "percentile25 = df['duration'].quantile(0.25)\n",
        "percentile75 = df['duration'].quantile(0.75)\n",
        "iqr = percentile75 - percentile25\n",
        "upper_limit = percentile75 + 1.5 * iqr\n",
        "lower_limit = percentile25 - 1.5 * iqr\n",
        "\n",
        "print(\"Upper limit\",upper_limit)\n",
        "print(\"Lower limit\",lower_limit)"
      ]
    },
    {
      "cell_type": "markdown",
      "metadata": {
        "id": "rzjcXXDPGJil"
      },
      "source": [
        "#### Using capping method remove outliers"
      ]
    },
    {
      "cell_type": "code",
      "execution_count": null,
      "metadata": {
        "id": "pdU1c8wOFm3w"
      },
      "outputs": [],
      "source": [
        "df['duration'] = np.where(\n",
        "    df['duration'] > upper_limit,\n",
        "    upper_limit,\n",
        "    np.where(\n",
        "        df['duration'] < lower_limit,\n",
        "        lower_limit,\n",
        "        df['duration']\n",
        "    )\n",
        ")"
      ]
    },
    {
      "cell_type": "code",
      "execution_count": null,
      "metadata": {
        "id": "bxpNPlYbFm05"
      },
      "outputs": [],
      "source": [
        "df.shape"
      ]
    },
    {
      "cell_type": "code",
      "execution_count": null,
      "metadata": {
        "id": "wounnVuYFmyF"
      },
      "outputs": [],
      "source": [
        "# Comparing\n",
        "plt.figure(figsize=(14,8))\n",
        "plt.subplot(2,2,1)\n",
        "sns.distplot(taxi['duration'])\n",
        "\n",
        "plt.subplot(2,2,2)\n",
        "sns.boxplot(taxi['duration'])\n",
        "\n",
        "plt.subplot(2,2,3)\n",
        "sns.distplot(df['duration'])\n",
        "\n",
        "plt.subplot(2,2,4)\n",
        "sns.boxplot(df['duration'])\n",
        "\n",
        "plt.show()"
      ]
    },
    {
      "cell_type": "markdown",
      "metadata": {
        "id": "9wwioqfnH6vs"
      },
      "source": [
        "### After handle Outliers Check"
      ]
    },
    {
      "cell_type": "code",
      "execution_count": null,
      "metadata": {
        "id": "jPtNZcSHFmu6"
      },
      "outputs": [],
      "source": [
        "# List of columns to plot\n",
        "columns_to_plot = ['passenger_count', 'pickup_longitude', 'pickup_latitude', 'dropoff_longitude', 'dropoff_latitude', 'trip_distance', 'duration']\n",
        "\n",
        "# Number of plots\n",
        "num_plots = len(columns_to_plot)\n",
        "\n",
        "# Create a figure and axes array\n",
        "fig, axes = plt.subplots(1, num_plots, figsize=(30, 5))  # Adjust the figure size as needed\n",
        "\n",
        "# Plot each box plot in its own subplot\n",
        "for i, column in enumerate(columns_to_plot):\n",
        "    axes[i].boxplot(df[column])\n",
        "    axes[i].set_title(column)\n",
        "    axes[i].set_ylabel('Values')\n",
        "    axes[i].set_xticklabels([column])  # Set x-tick labels\n",
        "\n",
        "# Adjust layout\n",
        "plt.tight_layout()\n",
        "\n",
        "# Show the plots\n",
        "plt.show()"
      ]
    },
    {
      "cell_type": "code",
      "execution_count": null,
      "metadata": {
        "id": "1gPghjgfIJkt"
      },
      "outputs": [],
      "source": [
        "## After handle Outliers\n",
        "df.describe()"
      ]
    },
    {
      "cell_type": "markdown",
      "metadata": {
        "id": "578E2V7j08f6"
      },
      "source": [
        "##### What all outlier treatment techniques have you used and why did you use those techniques?"
      ]
    },
    {
      "cell_type": "markdown",
      "metadata": {
        "id": "uGZz5OrT1HH-"
      },
      "source": [
        "\n",
        "\n",
        "*   IQR With Using Capping method remove outliers\n",
        "*   This method no loss data in the dataset\n",
        "*   Best techniques for remove outliers any type of data distribution\n",
        "\n"
      ]
    },
    {
      "cell_type": "markdown",
      "metadata": {
        "id": "HQwY0bjaYpa_"
      },
      "source": [
        "### **Correlation & Scatter plot Trip Distance**"
      ]
    },
    {
      "cell_type": "code",
      "execution_count": null,
      "metadata": {
        "id": "LVh_lE0oX6sm"
      },
      "outputs": [],
      "source": [
        "num_features = df.describe().columns\n",
        "num_features"
      ]
    },
    {
      "cell_type": "code",
      "execution_count": null,
      "metadata": {
        "id": "OMkrDbrWWQWM"
      },
      "outputs": [],
      "source": [
        "# Find the Correlation\n",
        "for col in num_features[0:]:\n",
        "  fig = plt.figure(figsize=(9,6))\n",
        "  ax = fig.gca()\n",
        "  feature = df[col]\n",
        "  label = df['trip_distance']\n",
        "  correlation = feature.corr(label)\n",
        "  plt.scatter(x = feature, y = label)\n",
        "  plt.xlabel(col)\n",
        "  plt.ylabel('trip_distance')\n",
        "  ax.set_title('Trip Distance vs ' + col + '- correlation: ' + str(correlation))\n",
        "\n",
        "\n",
        "  z = np.polyfit(df[col], df['trip_distance'], 1)\n",
        "  y_hat = np.poly1d(z)(df[col])\n",
        "\n",
        "  plt.plot(df[col], y_hat, 'r--', lw = 1)"
      ]
    },
    {
      "cell_type": "code",
      "execution_count": null,
      "metadata": {
        "id": "i-7QpSTHaOhN"
      },
      "outputs": [],
      "source": [
        "df.columns"
      ]
    },
    {
      "cell_type": "markdown",
      "metadata": {
        "id": "ThfAybIQbjus"
      },
      "source": [
        "### Cor relation ship between all numerical columns"
      ]
    },
    {
      "cell_type": "code",
      "execution_count": null,
      "metadata": {
        "id": "tA47Ohl8aNZn"
      },
      "outputs": [],
      "source": [
        "df[['vendor_id', 'passenger_count', 'pickup_longitude',\n",
        "    'pickup_latitude','dropoff_longitude', 'dropoff_latitude',\n",
        "    'trip_distance']].corr()['trip_distance']"
      ]
    },
    {
      "cell_type": "markdown",
      "metadata": {
        "id": "jlDrWfusWbwY"
      },
      "source": [
        "### Correlation Heatmap"
      ]
    },
    {
      "cell_type": "code",
      "execution_count": null,
      "metadata": {
        "id": "AXEW_mFMbqHR"
      },
      "outputs": [],
      "source": [
        "## Relationship between Trip Distance\n",
        "plt.figure(figsize=(14, 7))\n",
        "sns.heatmap(df[['vendor_id', 'passenger_count', 'pickup_longitude',\n",
        "    'pickup_latitude','dropoff_longitude', 'dropoff_latitude',\n",
        "    'trip_distance']].corr(),cmap=\"YlGnBu\", annot=True)\n",
        "\n",
        "plt.title('Corr relationship between all numerical columns')\n",
        "\n",
        "plt.xticks(rotation=45, ha='right')\n",
        "\n",
        "plt.yticks(rotation=15, ha='right')\n",
        "\n",
        "plt.show()"
      ]
    },
    {
      "cell_type": "code",
      "execution_count": null,
      "metadata": {
        "id": "g3beT2tWmKPZ"
      },
      "outputs": [],
      "source": [
        "# Pairplot\n",
        "# Set the color\n",
        "colors = ['#ff9999','#66b3ff','#99ff99','#ffcc99']\n",
        "\n",
        "# Select the columns\n",
        "desired_columns = ['vendor_id', 'passenger_count', 'pickup_longitude', 'pickup_latitude','dropoff_longitude', 'dropoff_latitude','trip_distance']\n",
        "subset_dff = df[desired_columns]\n",
        "\n",
        "# Create the Pairplot\n",
        "sns.pairplot(subset_dff, hue='vendor_id', diag_kind=\"kde\", palette=colors, height=2.5)\n",
        "plt.show()"
      ]
    },
    {
      "cell_type": "markdown",
      "metadata": {
        "id": "mKzQCqbinRwx"
      },
      "source": [
        "## **Check for VIF**"
      ]
    },
    {
      "cell_type": "code",
      "execution_count": null,
      "metadata": {
        "id": "EIf6RzFEnP1Z"
      },
      "outputs": [],
      "source": [
        "from statsmodels.stats.outliers_influence import variance_inflation_factor\n",
        "\n",
        "def calc_vif(X):\n",
        "  vif = pd.DataFrame()\n",
        "  vif['variables'] = X.columns\n",
        "  vif['VIF'] = [variance_inflation_factor(X.values, i) for i in range(X.shape[1])]\n",
        "  return vif"
      ]
    },
    {
      "cell_type": "code",
      "execution_count": null,
      "metadata": {
        "id": "z95C9x2Onbit"
      },
      "outputs": [],
      "source": [
        "calc_vif(df[[i for i in df.describe().columns if i not in ['trip_distance']]])"
      ]
    },
    {
      "cell_type": "code",
      "execution_count": null,
      "metadata": {
        "id": "BJLzSC69nbP5"
      },
      "outputs": [],
      "source": []
    },
    {
      "cell_type": "markdown",
      "metadata": {
        "id": "89xtkJwZ18nB"
      },
      "source": [
        "### 3. Categorical Encoding"
      ]
    },
    {
      "cell_type": "code",
      "execution_count": null,
      "metadata": {
        "id": "21JmIYMG2hEo"
      },
      "outputs": [],
      "source": [
        "# Encode your categorical columns"
      ]
    },
    {
      "cell_type": "code",
      "execution_count": null,
      "metadata": {
        "id": "wnym7KM6lUUh"
      },
      "outputs": [],
      "source": [
        "df.columns"
      ]
    },
    {
      "cell_type": "code",
      "execution_count": null,
      "metadata": {
        "id": "wSpOoYZflURj"
      },
      "outputs": [],
      "source": [
        "df.info()"
      ]
    },
    {
      "cell_type": "code",
      "execution_count": null,
      "metadata": {
        "id": "2ACwlPhICa5F"
      },
      "outputs": [],
      "source": [
        "df.shape"
      ]
    },
    {
      "cell_type": "code",
      "execution_count": null,
      "metadata": {
        "id": "-RX0qACnlUOW"
      },
      "outputs": [],
      "source": [
        "new_df = pd.get_dummies(df, drop_first = True, sparse = True)"
      ]
    },
    {
      "cell_type": "code",
      "execution_count": null,
      "metadata": {
        "id": "8qGuVQuelUKz"
      },
      "outputs": [],
      "source": [
        "new_df.info()"
      ]
    },
    {
      "cell_type": "markdown",
      "metadata": {
        "id": "67NQN5KX2AMe"
      },
      "source": [
        "#### What all categorical encoding techniques have you used & why did you use those techniques?"
      ]
    },
    {
      "cell_type": "markdown",
      "metadata": {
        "id": "UDaue5h32n_G"
      },
      "source": [
        "### OneHotEncoder method use for categorical dataset\n",
        "\n",
        "*  OneHotEncoder transforms a categorical column into multiple binary columns, where each column represents one category, and the value is 1 if the instance belongs to that category, otherwise 0.\n",
        "\n",
        "*  Some algorithms (like linear models) may perform better with one-hot encoded data because it makes the data easier to interpret and eliminates any implicit ordinal relationship between categories."
      ]
    },
    {
      "cell_type": "markdown",
      "metadata": {
        "id": "Iwf50b-R2tYG"
      },
      "source": [
        "### 4. Textual Data Preprocessing\n",
        "(It's mandatory for textual dataset i.e., NLP, Sentiment Analysis, Text Clustering etc.)"
      ]
    },
    {
      "cell_type": "markdown",
      "metadata": {
        "id": "GMQiZwjn3iu7"
      },
      "source": [
        "#### 1. Expand Contraction"
      ]
    },
    {
      "cell_type": "code",
      "execution_count": null,
      "metadata": {
        "id": "PTouz10C3oNN"
      },
      "outputs": [],
      "source": [
        "# Expand Contraction"
      ]
    },
    {
      "cell_type": "markdown",
      "metadata": {
        "id": "WVIkgGqN3qsr"
      },
      "source": [
        "#### 2. Lower Casing"
      ]
    },
    {
      "cell_type": "code",
      "execution_count": null,
      "metadata": {
        "id": "88JnJ1jN3w7j"
      },
      "outputs": [],
      "source": [
        "# Lower Casing"
      ]
    },
    {
      "cell_type": "markdown",
      "metadata": {
        "id": "XkPnILGE3zoT"
      },
      "source": [
        "#### 3. Removing Punctuations"
      ]
    },
    {
      "cell_type": "code",
      "execution_count": null,
      "metadata": {
        "id": "vqbBqNaA33c0"
      },
      "outputs": [],
      "source": [
        "# Remove Punctuations"
      ]
    },
    {
      "cell_type": "markdown",
      "metadata": {
        "id": "Hlsf0x5436Go"
      },
      "source": [
        "#### 4. Removing URLs & Removing words and digits contain digits."
      ]
    },
    {
      "cell_type": "code",
      "execution_count": null,
      "metadata": {
        "id": "2sxKgKxu4Ip3"
      },
      "outputs": [],
      "source": [
        "# Remove URLs & Remove words and digits contain digits"
      ]
    },
    {
      "cell_type": "markdown",
      "metadata": {
        "id": "mT9DMSJo4nBL"
      },
      "source": [
        "#### 5. Removing Stopwords & Removing White spaces"
      ]
    },
    {
      "cell_type": "code",
      "execution_count": null,
      "metadata": {
        "id": "T2LSJh154s8W"
      },
      "outputs": [],
      "source": [
        "# Remove Stopwords"
      ]
    },
    {
      "cell_type": "code",
      "execution_count": null,
      "metadata": {
        "id": "EgLJGffy4vm0"
      },
      "outputs": [],
      "source": [
        "# Remove White spaces"
      ]
    },
    {
      "cell_type": "markdown",
      "metadata": {
        "id": "c49ITxTc407N"
      },
      "source": [
        "#### 6. Rephrase Text"
      ]
    },
    {
      "cell_type": "code",
      "execution_count": null,
      "metadata": {
        "id": "foqY80Qu48N2"
      },
      "outputs": [],
      "source": [
        "# Rephrase Text"
      ]
    },
    {
      "cell_type": "markdown",
      "metadata": {
        "id": "OeJFEK0N496M"
      },
      "source": [
        "#### 7. Tokenization"
      ]
    },
    {
      "cell_type": "code",
      "execution_count": null,
      "metadata": {
        "id": "ijx1rUOS5CUU"
      },
      "outputs": [],
      "source": [
        "# Tokenization"
      ]
    },
    {
      "cell_type": "markdown",
      "metadata": {
        "id": "9ExmJH0g5HBk"
      },
      "source": [
        "#### 8. Text Normalization"
      ]
    },
    {
      "cell_type": "code",
      "execution_count": null,
      "metadata": {
        "id": "AIJ1a-Zc5PY8"
      },
      "outputs": [],
      "source": [
        "# Normalizing Text (i.e., Stemming, Lemmatization etc.)"
      ]
    },
    {
      "cell_type": "markdown",
      "metadata": {
        "id": "cJNqERVU536h"
      },
      "source": [
        "##### Which text normalization technique have you used and why?"
      ]
    },
    {
      "cell_type": "markdown",
      "metadata": {
        "id": "Z9jKVxE06BC1"
      },
      "source": [
        "Answer Here."
      ]
    },
    {
      "cell_type": "markdown",
      "metadata": {
        "id": "k5UmGsbsOxih"
      },
      "source": [
        "#### 9. Part of speech tagging"
      ]
    },
    {
      "cell_type": "code",
      "execution_count": null,
      "metadata": {
        "id": "btT3ZJBAO6Ik"
      },
      "outputs": [],
      "source": [
        "# POS Taging"
      ]
    },
    {
      "cell_type": "markdown",
      "metadata": {
        "id": "T0VqWOYE6DLQ"
      },
      "source": [
        "#### 10. Text Vectorization"
      ]
    },
    {
      "cell_type": "code",
      "execution_count": null,
      "metadata": {
        "id": "yBRtdhth6JDE"
      },
      "outputs": [],
      "source": [
        "# Vectorizing Text"
      ]
    },
    {
      "cell_type": "markdown",
      "metadata": {
        "id": "qBMux9mC6MCf"
      },
      "source": [
        "##### Which text vectorization technique have you used and why?"
      ]
    },
    {
      "cell_type": "markdown",
      "metadata": {
        "id": "su2EnbCh6UKQ"
      },
      "source": [
        "Answer Here."
      ]
    },
    {
      "cell_type": "markdown",
      "metadata": {
        "id": "-oLEiFgy-5Pf"
      },
      "source": [
        "### 4. Feature Manipulation & Selection"
      ]
    },
    {
      "cell_type": "markdown",
      "metadata": {
        "id": "C74aWNz2AliB"
      },
      "source": [
        "#### 1. Feature Manipulation"
      ]
    },
    {
      "cell_type": "code",
      "execution_count": null,
      "metadata": {
        "id": "h1qC4yhBApWC"
      },
      "outputs": [],
      "source": [
        "# Manipulate Features to minimize feature correlation and create new features"
      ]
    },
    {
      "cell_type": "markdown",
      "metadata": {
        "id": "2DejudWSA-a0"
      },
      "source": [
        "#### 2. Feature Selection"
      ]
    },
    {
      "cell_type": "code",
      "execution_count": null,
      "metadata": {
        "id": "YLhe8UmaBCEE"
      },
      "outputs": [],
      "source": [
        "# Select your features wisely to avoid overfitting\n",
        "new_df.corr()['trip_distance']"
      ]
    },
    {
      "cell_type": "markdown",
      "metadata": {
        "id": "pEMng2IbBLp7"
      },
      "source": [
        "##### What all feature selection methods have you used  and why?"
      ]
    },
    {
      "cell_type": "markdown",
      "metadata": {
        "id": "rb2Lh6Z8BgGs"
      },
      "source": [
        "Answer Here."
      ]
    },
    {
      "cell_type": "markdown",
      "metadata": {
        "id": "rAdphbQ9Bhjc"
      },
      "source": [
        "##### Which all features you found important and why?"
      ]
    },
    {
      "cell_type": "markdown",
      "metadata": {
        "id": "fGgaEstsBnaf"
      },
      "source": [
        "All Featur are importent becouse is not highly corelated."
      ]
    },
    {
      "cell_type": "markdown",
      "metadata": {
        "id": "TNVZ9zx19K6k"
      },
      "source": [
        "### 5. Data Transformation"
      ]
    },
    {
      "cell_type": "markdown",
      "metadata": {
        "id": "nqoHp30x9hH9"
      },
      "source": [
        "#### Do you think that your data needs to be transformed? If yes, which transformation have you used. Explain Why?"
      ]
    },
    {
      "cell_type": "code",
      "execution_count": null,
      "metadata": {
        "id": "I6quWQ1T9rtH"
      },
      "outputs": [],
      "source": [
        "# Transform Your data"
      ]
    },
    {
      "cell_type": "markdown",
      "metadata": {
        "id": "rMDnDkt2B6du"
      },
      "source": [
        "### 6. Data Scaling"
      ]
    },
    {
      "cell_type": "code",
      "execution_count": null,
      "metadata": {
        "id": "dL9LWpySC6x_"
      },
      "outputs": [],
      "source": [
        "# Scaling your data"
      ]
    },
    {
      "cell_type": "markdown",
      "metadata": {
        "id": "yiiVWRdJDDil"
      },
      "source": [
        "##### Which method have you used to scale you data and why?"
      ]
    },
    {
      "cell_type": "markdown",
      "metadata": {
        "id": "1UUpS68QDMuG"
      },
      "source": [
        "### 7. Dimesionality Reduction"
      ]
    },
    {
      "cell_type": "markdown",
      "metadata": {
        "id": "kexQrXU-DjzY"
      },
      "source": [
        "##### Do you think that dimensionality reduction is needed? Explain Why?"
      ]
    },
    {
      "cell_type": "markdown",
      "metadata": {
        "id": "GGRlBsSGDtTQ"
      },
      "source": [
        "Answer Here."
      ]
    },
    {
      "cell_type": "code",
      "execution_count": null,
      "metadata": {
        "id": "kQfvxBBHDvCa"
      },
      "outputs": [],
      "source": [
        "# DImensionality Reduction (If needed)"
      ]
    },
    {
      "cell_type": "markdown",
      "metadata": {
        "id": "T5CmagL3EC8N"
      },
      "source": [
        "##### Which dimensionality reduction technique have you used and why? (If dimensionality reduction done on dataset.)"
      ]
    },
    {
      "cell_type": "markdown",
      "metadata": {
        "id": "ZKr75IDuEM7t"
      },
      "source": [
        "Answer Here."
      ]
    },
    {
      "cell_type": "markdown",
      "metadata": {
        "id": "BhH2vgX9EjGr"
      },
      "source": [
        "### 8. Data Splitting"
      ]
    },
    {
      "cell_type": "code",
      "execution_count": null,
      "metadata": {
        "id": "0CTyd2UwEyNM"
      },
      "outputs": [],
      "source": [
        "# Split your data to train and test. Choose Splitting ratio wisely."
      ]
    },
    {
      "cell_type": "markdown",
      "metadata": {
        "id": "qjKvONjwE8ra"
      },
      "source": [
        "##### What data splitting ratio have you used and why?"
      ]
    },
    {
      "cell_type": "markdown",
      "metadata": {
        "id": "Y2lJ8cobFDb_"
      },
      "source": [
        "Answer Here."
      ]
    },
    {
      "cell_type": "markdown",
      "metadata": {
        "id": "P1XJ9OREExlT"
      },
      "source": [
        "### 9. Handling Imbalanced Dataset"
      ]
    },
    {
      "cell_type": "markdown",
      "metadata": {
        "id": "VFOzZv6IFROw"
      },
      "source": [
        "##### Do you think the dataset is imbalanced? Explain Why."
      ]
    },
    {
      "cell_type": "markdown",
      "metadata": {
        "id": "GeKDIv7pFgcC"
      },
      "source": [
        "Answer Here."
      ]
    },
    {
      "cell_type": "code",
      "execution_count": null,
      "metadata": {
        "id": "nQsRhhZLFiDs"
      },
      "outputs": [],
      "source": [
        "# Handling Imbalanced Dataset (If needed)"
      ]
    },
    {
      "cell_type": "markdown",
      "metadata": {
        "id": "TIqpNgepFxVj"
      },
      "source": [
        "##### What technique did you use to handle the imbalance dataset and why? (If needed to be balanced)"
      ]
    },
    {
      "cell_type": "markdown",
      "metadata": {
        "id": "qbet1HwdGDTz"
      },
      "source": [
        "Answer Here."
      ]
    },
    {
      "cell_type": "markdown",
      "metadata": {
        "id": "y5-oc7Dog1FM"
      },
      "source": [
        "### Apply Log transformer for change the ditribution of Price"
      ]
    },
    {
      "cell_type": "code",
      "execution_count": null,
      "metadata": {
        "id": "drekoYV5gxr6"
      },
      "outputs": [],
      "source": [
        "'''\n",
        "sns.distplot(np.log(df['Price']))\n",
        "plt.title('Distribution of Price')\n",
        "plt.show()\n",
        "\n",
        "X = df.drop(columns=['Price'])\n",
        "y = np.log(df['Price'])\n",
        "'''"
      ]
    },
    {
      "cell_type": "markdown",
      "metadata": {
        "id": "VfCC591jGiD4"
      },
      "source": [
        "## ***7. ML Model Implementation***"
      ]
    },
    {
      "cell_type": "markdown",
      "metadata": {
        "id": "OB4l2ZhMeS1U"
      },
      "source": [
        "### ML Model - 1"
      ]
    },
    {
      "cell_type": "code",
      "execution_count": null,
      "metadata": {
        "id": "7ebyywQieS1U"
      },
      "outputs": [],
      "source": [
        "# ML Model - 1 Implementation\n",
        "\n",
        "# Fit the Algorithm\n",
        "\n",
        "# Predict on the model"
      ]
    },
    {
      "cell_type": "markdown",
      "metadata": {
        "id": "ArJBuiUVfxKd"
      },
      "source": [
        "#### 1. Explain the ML Model used and it's performance using Evaluation metric Score Chart."
      ]
    },
    {
      "cell_type": "code",
      "execution_count": null,
      "metadata": {
        "id": "rqD5ZohzfxKe"
      },
      "outputs": [],
      "source": [
        "# Visualizing evaluation Metric Score chart"
      ]
    },
    {
      "cell_type": "markdown",
      "metadata": {
        "id": "4qY1EAkEfxKe"
      },
      "source": [
        "#### 2. Cross- Validation & Hyperparameter Tuning"
      ]
    },
    {
      "cell_type": "code",
      "execution_count": null,
      "metadata": {
        "id": "Dy61ujd6fxKe"
      },
      "outputs": [],
      "source": [
        "# ML Model - 1 Implementation with hyperparameter optimization techniques (i.e., GridSearch CV, RandomSearch CV, Bayesian Optimization etc.)\n",
        "\n",
        "# Fit the Algorithm\n",
        "\n",
        "# Predict on the model"
      ]
    },
    {
      "cell_type": "markdown",
      "metadata": {
        "id": "PiV4Ypx8fxKe"
      },
      "source": [
        "##### Which hyperparameter optimization technique have you used and why?"
      ]
    },
    {
      "cell_type": "markdown",
      "metadata": {
        "id": "negyGRa7fxKf"
      },
      "source": [
        "Answer Here."
      ]
    },
    {
      "cell_type": "markdown",
      "metadata": {
        "id": "TfvqoZmBfxKf"
      },
      "source": [
        "##### Have you seen any improvement? Note down the improvement with updates Evaluation metric Score Chart."
      ]
    },
    {
      "cell_type": "markdown",
      "metadata": {
        "id": "OaLui8CcfxKf"
      },
      "source": [
        "Answer Here."
      ]
    },
    {
      "cell_type": "markdown",
      "metadata": {
        "id": "dJ2tPlVmpsJ0"
      },
      "source": [
        "### ML Model - 2"
      ]
    },
    {
      "cell_type": "markdown",
      "metadata": {
        "id": "JWYfwnehpsJ1"
      },
      "source": [
        "#### 1. Explain the ML Model used and it's performance using Evaluation metric Score Chart."
      ]
    },
    {
      "cell_type": "code",
      "execution_count": null,
      "metadata": {
        "id": "yEl-hgQWpsJ1"
      },
      "outputs": [],
      "source": [
        "# Visualizing evaluation Metric Score chart"
      ]
    },
    {
      "cell_type": "markdown",
      "metadata": {
        "id": "-jK_YjpMpsJ2"
      },
      "source": [
        "#### 2. Cross- Validation & Hyperparameter Tuning"
      ]
    },
    {
      "cell_type": "code",
      "execution_count": null,
      "metadata": {
        "id": "Dn0EOfS6psJ2"
      },
      "outputs": [],
      "source": [
        "# ML Model - 1 Implementation with hyperparameter optimization techniques (i.e., GridSearch CV, RandomSearch CV, Bayesian Optimization etc.)\n",
        "\n",
        "# Fit the Algorithm\n",
        "\n",
        "# Predict on the model"
      ]
    },
    {
      "cell_type": "markdown",
      "metadata": {
        "id": "HAih1iBOpsJ2"
      },
      "source": [
        "##### Which hyperparameter optimization technique have you used and why?"
      ]
    },
    {
      "cell_type": "markdown",
      "metadata": {
        "id": "9kBgjYcdpsJ2"
      },
      "source": [
        "Answer Here."
      ]
    },
    {
      "cell_type": "markdown",
      "metadata": {
        "id": "zVGeBEFhpsJ2"
      },
      "source": [
        "##### Have you seen any improvement? Note down the improvement with updates Evaluation metric Score Chart."
      ]
    },
    {
      "cell_type": "markdown",
      "metadata": {
        "id": "74yRdG6UpsJ3"
      },
      "source": [
        "Answer Here."
      ]
    },
    {
      "cell_type": "markdown",
      "metadata": {
        "id": "bmKjuQ-FpsJ3"
      },
      "source": [
        "#### 3. Explain each evaluation metric's indication towards business and the business impact pf the ML model used."
      ]
    },
    {
      "cell_type": "markdown",
      "metadata": {
        "id": "BDKtOrBQpsJ3"
      },
      "source": [
        "Answer Here."
      ]
    },
    {
      "cell_type": "markdown",
      "metadata": {
        "id": "Fze-IPXLpx6K"
      },
      "source": [
        "### ML Model - 3"
      ]
    },
    {
      "cell_type": "code",
      "execution_count": null,
      "metadata": {
        "id": "FFrSXAtrpx6M"
      },
      "outputs": [],
      "source": [
        "# ML Model - 3 Implementation\n",
        "\n",
        "# Fit the Algorithm\n",
        "\n",
        "# Predict on the model"
      ]
    },
    {
      "cell_type": "markdown",
      "metadata": {
        "id": "7AN1z2sKpx6M"
      },
      "source": [
        "#### 1. Explain the ML Model used and it's performance using Evaluation metric Score Chart."
      ]
    },
    {
      "cell_type": "code",
      "execution_count": null,
      "metadata": {
        "id": "xIY4lxxGpx6M"
      },
      "outputs": [],
      "source": [
        "# Visualizing evaluation Metric Score chart"
      ]
    },
    {
      "cell_type": "markdown",
      "metadata": {
        "id": "9PIHJqyupx6M"
      },
      "source": [
        "#### 2. Cross- Validation & Hyperparameter Tuning"
      ]
    },
    {
      "cell_type": "code",
      "execution_count": null,
      "metadata": {
        "id": "eSVXuaSKpx6M"
      },
      "outputs": [],
      "source": [
        "# ML Model - 3 Implementation with hyperparameter optimization techniques (i.e., GridSearch CV, RandomSearch CV, Bayesian Optimization etc.)\n",
        "\n",
        "# Fit the Algorithm\n",
        "\n",
        "# Predict on the model"
      ]
    },
    {
      "cell_type": "markdown",
      "metadata": {
        "id": "_-qAgymDpx6N"
      },
      "source": [
        "##### Which hyperparameter optimization technique have you used and why?"
      ]
    },
    {
      "cell_type": "markdown",
      "metadata": {
        "id": "lQMffxkwpx6N"
      },
      "source": [
        "Answer Here."
      ]
    },
    {
      "cell_type": "markdown",
      "metadata": {
        "id": "Z-hykwinpx6N"
      },
      "source": [
        "##### Have you seen any improvement? Note down the improvement with updates Evaluation metric Score Chart."
      ]
    },
    {
      "cell_type": "markdown",
      "metadata": {
        "id": "MzVzZC6opx6N"
      },
      "source": [
        "Answer Here."
      ]
    },
    {
      "cell_type": "markdown",
      "metadata": {
        "id": "h_CCil-SKHpo"
      },
      "source": [
        "### 1. Which Evaluation metrics did you consider for a positive business impact and why?"
      ]
    },
    {
      "cell_type": "markdown",
      "metadata": {
        "id": "jHVz9hHDKFms"
      },
      "source": [
        "Answer Here."
      ]
    },
    {
      "cell_type": "markdown",
      "metadata": {
        "id": "cBFFvTBNJzUa"
      },
      "source": [
        "### 2. Which ML model did you choose from the above created models as your final prediction model and why?"
      ]
    },
    {
      "cell_type": "markdown",
      "metadata": {
        "id": "6ksF5Q1LKTVm"
      },
      "source": [
        "Answer Here."
      ]
    },
    {
      "cell_type": "markdown",
      "metadata": {
        "id": "HvGl1hHyA_VK"
      },
      "source": [
        "### 3. Explain the model which you have used and the feature importance using any model explainability tool?"
      ]
    },
    {
      "cell_type": "markdown",
      "metadata": {
        "id": "YnvVTiIxBL-C"
      },
      "source": [
        "Answer Here."
      ]
    },
    {
      "cell_type": "markdown",
      "metadata": {
        "id": "gCX9965dhzqZ"
      },
      "source": [
        "# **Conclusion**"
      ]
    },
    {
      "cell_type": "markdown",
      "metadata": {
        "id": "Fjb1IsQkh3yE"
      },
      "source": [
        "The NYC Taxi dataset is a powerful and versatile resource that provides detailed insights into one of the world's most complex urban transportation systems. This dataset includes comprehensive records of taxi trips, encompassing various types of vehicles such as yellow taxis, green taxis, and for-hire vehicles. The richness of this data allows for a wide range of machine learning and data analysis applications.\n",
        "\n",
        "\n",
        "The NYC Taxi dataset presents a rich source of data that can be used to address various machine learning problems. Each problem statement not only provides an opportunity for technical development but also offers practical solutions to improve urban transportation, optimize taxi operations, and enhance customer satisfaction. Whether the goal is to predict trip durations, optimize routes, or forecast demand, the insights derived from these models can have a significant impact on the efficiency and effectiveness of the transportation ecosystem in New York City."
      ]
    },
    {
      "cell_type": "markdown",
      "metadata": {
        "id": "gIfDvo9L0UH2"
      },
      "source": [
        "### ***Hurrah! You have successfully completed your Machine Learning Capstone Project !!!***"
      ]
    }
  ],
  "metadata": {
    "colab": {
      "collapsed_sections": [
        "vncDsAP0Gaoa",
        "FJNUwmbgGyua",
        "w6K7xa23Elo4",
        "yQaldy8SH6Dl",
        "mDgbUHAGgjLW",
        "PoPl-ycgm1ru",
        "H0kj-8xxnORC",
        "PBTbrJXOngz2",
        "u3PMJOP6ngxN",
        "MSa1f5Uengrz",
        "K5QZ13OEpz2H",
        "lQ7QKXXCp7Bj",
        "448CDAPjqfQr",
        "t6dVpIINYklI",
        "PSx9atu2YklI",
        "-JiQyfWJYklI",
        "RoGjAbkUYoAp",
        "iky9q4vBYrdO",
        "F6T5p64dYrdO",
        "y-Ehk30pYrdP",
        "QHF8YVU7Yuh3",
        "GwzvFGzlYuh3",
        "qYpmQ266Yuh3",
        "bbFf2-_FphqN",
        "_ouA3fa0phqN",
        "Seke61FWphqN",
        "t27r6nlMphqO",
        "r2jJGEOYphqO",
        "b0JNsNcRphqO",
        "jj7wYXLtphqO",
        "eZrbJ2SmphqO",
        "rFu4xreNphqO",
        "gCFgpxoyphqP",
        "OVtJsKN_phqQ",
        "lssrdh5qphqQ",
        "1M8mcRywphqQ",
        "tgIPom80phqQ",
        "JMzcOPDDphqR",
        "X_VqEhTip1ck",
        "8zGJKyg5p1ck",
        "PVzmfK_Ep1ck",
        "ylSl6qgtp1ck",
        "ZWILFDl5p1ck",
        "M7G43BXep1ck",
        "E6MkPsBcp1cl",
        "2cELzS2fp1cl",
        "UV0SzAkaZNRQ",
        "YPEH6qLeZNRQ",
        "EXh0U9oCveiU",
        "22aHeOlLveiV",
        "g-ATYxFrGrvw",
        "Yfr_Vlr8HBkt",
        "8yEUt7NnHlrM",
        "tEA2Xm5dHt1r",
        "I79__PHVH19G",
        "Ou-I18pAyIpj",
        "fF3858GYyt-u",
        "4_0_7-oCpUZd",
        "hwyV_J3ipUZe",
        "3yB-zSqbpUZe",
        "dEUvejAfpUZe",
        "Fd15vwWVpUZf",
        "bn_IUdTipZyH",
        "49K5P_iCpZyH",
        "Nff-vKELpZyI",
        "kLW572S8pZyI",
        "dWbDXHzopZyI",
        "yLjJCtPM0KBk",
        "xiyOF9F70UgQ",
        "7wuGOrhz0itI",
        "id1riN9m0vUs",
        "578E2V7j08f6",
        "67NQN5KX2AMe",
        "Iwf50b-R2tYG",
        "GMQiZwjn3iu7",
        "WVIkgGqN3qsr",
        "XkPnILGE3zoT",
        "Hlsf0x5436Go",
        "mT9DMSJo4nBL",
        "c49ITxTc407N",
        "OeJFEK0N496M",
        "9ExmJH0g5HBk",
        "cJNqERVU536h",
        "k5UmGsbsOxih",
        "T0VqWOYE6DLQ",
        "qBMux9mC6MCf",
        "pEMng2IbBLp7",
        "rAdphbQ9Bhjc",
        "yiiVWRdJDDil",
        "1UUpS68QDMuG",
        "kexQrXU-DjzY",
        "T5CmagL3EC8N",
        "BhH2vgX9EjGr",
        "qjKvONjwE8ra",
        "P1XJ9OREExlT",
        "VFOzZv6IFROw",
        "TIqpNgepFxVj",
        "VfCC591jGiD4",
        "OB4l2ZhMeS1U",
        "ArJBuiUVfxKd",
        "4qY1EAkEfxKe",
        "PiV4Ypx8fxKe",
        "TfvqoZmBfxKf",
        "dJ2tPlVmpsJ0",
        "JWYfwnehpsJ1",
        "-jK_YjpMpsJ2",
        "HAih1iBOpsJ2",
        "zVGeBEFhpsJ2",
        "bmKjuQ-FpsJ3",
        "Fze-IPXLpx6K",
        "7AN1z2sKpx6M",
        "9PIHJqyupx6M",
        "_-qAgymDpx6N",
        "Z-hykwinpx6N",
        "h_CCil-SKHpo",
        "cBFFvTBNJzUa",
        "gCX9965dhzqZ",
        "gIfDvo9L0UH2"
      ],
      "provenance": [],
      "include_colab_link": true
    },
    "kernelspec": {
      "display_name": "Python 3",
      "name": "python3"
    },
    "language_info": {
      "name": "python"
    }
  },
  "nbformat": 4,
  "nbformat_minor": 0
}